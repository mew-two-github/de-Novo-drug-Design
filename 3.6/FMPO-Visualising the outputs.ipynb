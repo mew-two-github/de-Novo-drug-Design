{
 "cells": [
  {
   "cell_type": "code",
   "execution_count": 3,
   "metadata": {},
   "outputs": [],
   "source": [
    "import numpy as np\n",
    "import pandas as pd\n",
    "import rdkit.Chem as ch\n",
    "import rdkit.Chem as Chem\n",
    "from rdkit.Chem import Descriptors\n",
    "import numpy as np\n",
    "import sys\n",
    "import rdkit.Chem.Crippen as Crippen\n",
    "import rdkit.Chem.rdMolDescriptors as MolDescriptors\n",
    "from rdkit.Chem import Descriptors"
   ]
  },
  {
   "cell_type": "code",
   "execution_count": 5,
   "metadata": {},
   "outputs": [],
   "source": [
    "sys.path.insert(0,'./Modules/')\n",
    "from build_encoding import read_decodings, decode\n",
    "decodings = read_decodings()\n",
    "input = np.load('./History/in-0.npy')\n",
    "output = np.load('./History/in-0.npy')"
   ]
  },
  {
   "cell_type": "code",
   "execution_count": 6,
   "metadata": {},
   "outputs": [
    {
     "output_type": "error",
     "ename": "ValueError",
     "evalue": "The truth value of an array with more than one element is ambiguous. Use a.any() or a.all()",
     "traceback": [
      "\u001b[1;31m---------------------------------------------------------------------------\u001b[0m",
      "\u001b[1;31mValueError\u001b[0m                                Traceback (most recent call last)",
      "\u001b[1;32m<ipython-input-6-42a4947dbe7e>\u001b[0m in \u001b[0;36m<module>\u001b[1;34m\u001b[0m\n\u001b[1;32m----> 1\u001b[1;33m \u001b[0mdecode\u001b[0m\u001b[1;33m(\u001b[0m\u001b[0minput\u001b[0m\u001b[1;33m,\u001b[0m\u001b[0mdecodings\u001b[0m\u001b[1;33m)\u001b[0m\u001b[1;33m\u001b[0m\u001b[1;33m\u001b[0m\u001b[0m\n\u001b[0m",
      "\u001b[1;32mc:\\Users\\HP\\AZC_Internship\\DeepFMPO\\3.6\\Modules\\build_encoding.py\u001b[0m in \u001b[0;36mdecode\u001b[1;34m(x, translation)\u001b[0m\n\u001b[0;32m    133\u001b[0m \u001b[1;31m# Decode an array representation into a fragment.\u001b[0m\u001b[1;33m\u001b[0m\u001b[1;33m\u001b[0m\u001b[1;33m\u001b[0m\u001b[0m\n\u001b[0;32m    134\u001b[0m \u001b[1;32mdef\u001b[0m \u001b[0mdecode\u001b[0m\u001b[1;33m(\u001b[0m\u001b[0mx\u001b[0m\u001b[1;33m,\u001b[0m \u001b[0mtranslation\u001b[0m\u001b[1;33m)\u001b[0m\u001b[1;33m:\u001b[0m\u001b[1;33m\u001b[0m\u001b[1;33m\u001b[0m\u001b[0m\n\u001b[1;32m--> 135\u001b[1;33m     \u001b[0menc\u001b[0m \u001b[1;33m=\u001b[0m \u001b[1;33m[\u001b[0m\u001b[1;34m\"\"\u001b[0m\u001b[1;33m.\u001b[0m\u001b[0mjoin\u001b[0m\u001b[1;33m(\u001b[0m\u001b[1;33m[\u001b[0m\u001b[0mstr\u001b[0m\u001b[1;33m(\u001b[0m\u001b[0mint\u001b[0m\u001b[1;33m(\u001b[0m\u001b[0my\u001b[0m\u001b[1;33m)\u001b[0m\u001b[1;33m)\u001b[0m \u001b[1;32mfor\u001b[0m \u001b[0my\u001b[0m \u001b[1;32min\u001b[0m \u001b[0me\u001b[0m\u001b[1;33m[\u001b[0m\u001b[1;36m1\u001b[0m\u001b[1;33m:\u001b[0m\u001b[1;33m]\u001b[0m\u001b[1;33m]\u001b[0m\u001b[1;33m)\u001b[0m \u001b[1;32mfor\u001b[0m \u001b[0me\u001b[0m \u001b[1;32min\u001b[0m \u001b[0mx\u001b[0m \u001b[1;32mif\u001b[0m \u001b[0me\u001b[0m\u001b[1;33m[\u001b[0m\u001b[1;36m0\u001b[0m\u001b[1;33m]\u001b[0m \u001b[1;33m==\u001b[0m \u001b[1;36m1\u001b[0m\u001b[1;33m]\u001b[0m\u001b[1;33m\u001b[0m\u001b[1;33m\u001b[0m\u001b[0m\n\u001b[0m\u001b[0;32m    136\u001b[0m     \u001b[0mfs\u001b[0m \u001b[1;33m=\u001b[0m \u001b[1;33m[\u001b[0m\u001b[0mChem\u001b[0m\u001b[1;33m.\u001b[0m\u001b[0mMol\u001b[0m\u001b[1;33m(\u001b[0m\u001b[0mtranslation\u001b[0m\u001b[1;33m[\u001b[0m\u001b[0me\u001b[0m\u001b[1;33m]\u001b[0m\u001b[1;33m)\u001b[0m \u001b[1;32mfor\u001b[0m \u001b[0me\u001b[0m \u001b[1;32min\u001b[0m \u001b[0menc\u001b[0m\u001b[1;33m]\u001b[0m\u001b[1;33m\u001b[0m\u001b[1;33m\u001b[0m\u001b[0m\n\u001b[0;32m    137\u001b[0m     \u001b[1;32mif\u001b[0m \u001b[1;32mnot\u001b[0m \u001b[0mfs\u001b[0m\u001b[1;33m:\u001b[0m\u001b[1;33m\u001b[0m\u001b[1;33m\u001b[0m\u001b[0m\n",
      "\u001b[1;32mc:\\Users\\HP\\AZC_Internship\\DeepFMPO\\3.6\\Modules\\build_encoding.py\u001b[0m in \u001b[0;36m<listcomp>\u001b[1;34m(.0)\u001b[0m\n\u001b[0;32m    133\u001b[0m \u001b[1;31m# Decode an array representation into a fragment.\u001b[0m\u001b[1;33m\u001b[0m\u001b[1;33m\u001b[0m\u001b[1;33m\u001b[0m\u001b[0m\n\u001b[0;32m    134\u001b[0m \u001b[1;32mdef\u001b[0m \u001b[0mdecode\u001b[0m\u001b[1;33m(\u001b[0m\u001b[0mx\u001b[0m\u001b[1;33m,\u001b[0m \u001b[0mtranslation\u001b[0m\u001b[1;33m)\u001b[0m\u001b[1;33m:\u001b[0m\u001b[1;33m\u001b[0m\u001b[1;33m\u001b[0m\u001b[0m\n\u001b[1;32m--> 135\u001b[1;33m     \u001b[0menc\u001b[0m \u001b[1;33m=\u001b[0m \u001b[1;33m[\u001b[0m\u001b[1;34m\"\"\u001b[0m\u001b[1;33m.\u001b[0m\u001b[0mjoin\u001b[0m\u001b[1;33m(\u001b[0m\u001b[1;33m[\u001b[0m\u001b[0mstr\u001b[0m\u001b[1;33m(\u001b[0m\u001b[0mint\u001b[0m\u001b[1;33m(\u001b[0m\u001b[0my\u001b[0m\u001b[1;33m)\u001b[0m\u001b[1;33m)\u001b[0m \u001b[1;32mfor\u001b[0m \u001b[0my\u001b[0m \u001b[1;32min\u001b[0m \u001b[0me\u001b[0m\u001b[1;33m[\u001b[0m\u001b[1;36m1\u001b[0m\u001b[1;33m:\u001b[0m\u001b[1;33m]\u001b[0m\u001b[1;33m]\u001b[0m\u001b[1;33m)\u001b[0m \u001b[1;32mfor\u001b[0m \u001b[0me\u001b[0m \u001b[1;32min\u001b[0m \u001b[0mx\u001b[0m \u001b[1;32mif\u001b[0m \u001b[0me\u001b[0m\u001b[1;33m[\u001b[0m\u001b[1;36m0\u001b[0m\u001b[1;33m]\u001b[0m \u001b[1;33m==\u001b[0m \u001b[1;36m1\u001b[0m\u001b[1;33m]\u001b[0m\u001b[1;33m\u001b[0m\u001b[1;33m\u001b[0m\u001b[0m\n\u001b[0m\u001b[0;32m    136\u001b[0m     \u001b[0mfs\u001b[0m \u001b[1;33m=\u001b[0m \u001b[1;33m[\u001b[0m\u001b[0mChem\u001b[0m\u001b[1;33m.\u001b[0m\u001b[0mMol\u001b[0m\u001b[1;33m(\u001b[0m\u001b[0mtranslation\u001b[0m\u001b[1;33m[\u001b[0m\u001b[0me\u001b[0m\u001b[1;33m]\u001b[0m\u001b[1;33m)\u001b[0m \u001b[1;32mfor\u001b[0m \u001b[0me\u001b[0m \u001b[1;32min\u001b[0m \u001b[0menc\u001b[0m\u001b[1;33m]\u001b[0m\u001b[1;33m\u001b[0m\u001b[1;33m\u001b[0m\u001b[0m\n\u001b[0;32m    137\u001b[0m     \u001b[1;32mif\u001b[0m \u001b[1;32mnot\u001b[0m \u001b[0mfs\u001b[0m\u001b[1;33m:\u001b[0m\u001b[1;33m\u001b[0m\u001b[1;33m\u001b[0m\u001b[0m\n",
      "\u001b[1;31mValueError\u001b[0m: The truth value of an array with more than one element is ambiguous. Use a.any() or a.all()"
     ]
    }
   ],
   "source": [
    "decode(input,decodings)"
   ]
  },
  {
   "cell_type": "code",
   "execution_count": 26,
   "metadata": {},
   "outputs": [],
   "source": [
    "df = pd.read_excel('./Generated molecules/AKT_trial.xlsx')"
   ]
  },
  {
   "cell_type": "code",
   "execution_count": 27,
   "metadata": {},
   "outputs": [
    {
     "data": {
      "text/html": [
       "<div>\n",
       "<style scoped>\n",
       "    .dataframe tbody tr th:only-of-type {\n",
       "        vertical-align: middle;\n",
       "    }\n",
       "\n",
       "    .dataframe tbody tr th {\n",
       "        vertical-align: top;\n",
       "    }\n",
       "\n",
       "    .dataframe thead th {\n",
       "        text-align: right;\n",
       "    }\n",
       "</style>\n",
       "<table border=\"1\" class=\"dataframe\">\n",
       "  <thead>\n",
       "    <tr style=\"text-align: right;\">\n",
       "      <th></th>\n",
       "      <th>Initial</th>\n",
       "      <th>Modified</th>\n",
       "    </tr>\n",
       "  </thead>\n",
       "  <tbody>\n",
       "    <tr>\n",
       "      <th>0</th>\n",
       "      <td>NC(=O)C1Cc2ccccc2N1C(=O)Cc1nc(N2CCOCC2)cc(=O)[...</td>\n",
       "      <td>CCC(=O)NC1CCc2cc(C(=O)NCc3ccc(C4CCOCC4)[nH]3)...</td>\n",
       "    </tr>\n",
       "    <tr>\n",
       "      <th>1</th>\n",
       "      <td>O=C(Cc1cc(=O)[nH]c(N2CCOCC2)n1)N1CCc2c(OC(F)F)...</td>\n",
       "      <td>CCN(C)[C@H](C)c1nc(CC(=O)c2c3CCNc3cc(C(F)F)c2...</td>\n",
       "    </tr>\n",
       "    <tr>\n",
       "      <th>2</th>\n",
       "      <td>O=C(Nc1ccc(F)cc1)C(F)(F)c1nc(N2CCOCC2)cc(=O)[n...</td>\n",
       "      <td>O=C(Nc1c(F)c2c(COCC2)s1)C(F)(F)c1ccc(C2CCOCC2...</td>\n",
       "    </tr>\n",
       "    <tr>\n",
       "      <th>3</th>\n",
       "      <td>CC(=O)Nc1cc(Nc2cnn3c(C#N)cc(NC4COC4)nc23)ccc1C...</td>\n",
       "      <td>CC(=O)NC1(Nc2cc(Nc3c4ccccn4nc3C#N)cc(C(C)C)c2...</td>\n",
       "    </tr>\n",
       "    <tr>\n",
       "      <th>4</th>\n",
       "      <td>CCC(=O)N1CC[C@@H](Oc2ncnc3ccc(-c4cnc(OC)c(C#N)...</td>\n",
       "      <td>CCC(=O)N1CC[C@H](OCc2ccc3[nH]ccc3c2-c2cnc(OC)...</td>\n",
       "    </tr>\n",
       "  </tbody>\n",
       "</table>\n",
       "</div>"
      ],
      "text/plain": [
       "                                             Initial  \\\n",
       "0  NC(=O)C1Cc2ccccc2N1C(=O)Cc1nc(N2CCOCC2)cc(=O)[...   \n",
       "1  O=C(Cc1cc(=O)[nH]c(N2CCOCC2)n1)N1CCc2c(OC(F)F)...   \n",
       "2  O=C(Nc1ccc(F)cc1)C(F)(F)c1nc(N2CCOCC2)cc(=O)[n...   \n",
       "3  CC(=O)Nc1cc(Nc2cnn3c(C#N)cc(NC4COC4)nc23)ccc1C...   \n",
       "4  CCC(=O)N1CC[C@@H](Oc2ncnc3ccc(-c4cnc(OC)c(C#N)...   \n",
       "\n",
       "                                            Modified  \n",
       "0   CCC(=O)NC1CCc2cc(C(=O)NCc3ccc(C4CCOCC4)[nH]3)...  \n",
       "1   CCN(C)[C@H](C)c1nc(CC(=O)c2c3CCNc3cc(C(F)F)c2...  \n",
       "2   O=C(Nc1c(F)c2c(COCC2)s1)C(F)(F)c1ccc(C2CCOCC2...  \n",
       "3   CC(=O)NC1(Nc2cc(Nc3c4ccccn4nc3C#N)cc(C(C)C)c2...  \n",
       "4   CCC(=O)N1CC[C@H](OCc2ccc3[nH]ccc3c2-c2cnc(OC)...  "
      ]
     },
     "execution_count": 27,
     "metadata": {},
     "output_type": "execute_result"
    }
   ],
   "source": [
    "df.head()"
   ]
  },
  {
   "cell_type": "code",
   "execution_count": 20,
   "metadata": {},
   "outputs": [],
   "source": [
    "img = (ch.MolFromSmiles(df.iloc[1,0]))\n",
    "mol2 = ch.MolFromSmiles(df.iloc[1,1])"
   ]
  },
  {
   "cell_type": "code",
   "execution_count": 21,
   "metadata": {},
   "outputs": [
    {
     "data": {
      "image/png": "[encoded data removed]",
      "text/plain": [
       "<rdkit.Chem.rdchem.Mol at 0x194dcda86c0>"
      ]
     },
     "execution_count": 21,
     "metadata": {},
     "output_type": "execute_result"
    }
   ],
   "source": [
    "img"
   ]
  },
  {
   "cell_type": "code",
   "execution_count": 22,
   "metadata": {},
   "outputs": [
    {
     "data": {
      "image/png": "[encoded data removed]",
      "text/plain": [
       "<rdkit.Chem.rdchem.Mol at 0x194dcda8ad0>"
      ]
     },
     "execution_count": 22,
     "metadata": {},
     "output_type": "execute_result"
    }
   ],
   "source": [
    "mol2"
   ]
  },
  {
   "cell_type": "code",
   "execution_count": 31,
   "metadata": {},
   "outputs": [],
   "source": [
    "mol = []\n",
    "for smile in df['Initial']:\n",
    "    mol.append(ch.MolFromSmiles(smile))"
   ]
  },
  {
   "cell_type": "code",
   "execution_count": 32,
   "metadata": {},
   "outputs": [
    {
     "data": {
      "text/plain": [
       "count       316\n",
       "unique        1\n",
       "top       False\n",
       "freq        316\n",
       "Name: SweetSpot, dtype: object"
      ]
     },
     "execution_count": 32,
     "metadata": {},
     "output_type": "execute_result"
    }
   ],
   "source": [
    "logP = []\n",
    "mw = []\n",
    "tpsa = []\n",
    "ss = []\n",
    "for molecule in mol:\n",
    "    logP.append(Crippen.MolLogP(molecule))\n",
    "    mw.append(MolDescriptors.CalcExactMolWt(molecule))\n",
    "    tpsa.append(Descriptors.TPSA(molecule))\n",
    "df['logP'] = np.asarray(logP)\n",
    "df['MW'] = np.asarray(mw)\n",
    "df['tPSA'] = np.asarray(tpsa)\n",
    "df['SweetSpot'] = ((3<df['logP']) & (df['logP']<5)& (320<df['MW']) & (df['MW']<420) & (80<df['tPSA']) & (df['tPSA']<110))\n",
    "df['SweetSpot'].describe()"
   ]
  },
  {
   "cell_type": "code",
   "execution_count": 37,
   "metadata": {},
   "outputs": [
    {
     "data": {
      "text/plain": [
       "count       316\n",
       "unique        2\n",
       "top       False\n",
       "freq        302\n",
       "Name: SweetSpot, dtype: object"
      ]
     },
     "execution_count": 37,
     "metadata": {},
     "output_type": "execute_result"
    }
   ],
   "source": [
    "mol = []\n",
    "for smile in df[' Modified']:\n",
    "    mol.append(ch.MolFromSmiles(smile))\n",
    "logP = []\n",
    "mw = []\n",
    "tpsa = []\n",
    "ss = []\n",
    "for molecule in mol:\n",
    "    logP.append(Crippen.MolLogP(molecule))\n",
    "    mw.append(MolDescriptors.CalcExactMolWt(molecule))\n",
    "    tpsa.append(Descriptors.TPSA(molecule))\n",
    "df['logP'] = np.asarray(logP)\n",
    "df['MW'] = np.asarray(mw)\n",
    "df['tPSA'] = np.asarray(tpsa)\n",
    "df['SweetSpot'] = ((3<df['logP']) & (df['logP']<5)& (320<df['MW']) & (df['MW']<420) & (80<df['tPSA']) & (df['tPSA']<110))\n",
    "df['SweetSpot'].describe()"
   ]
  },
  {
   "cell_type": "code",
   "execution_count": 41,
   "metadata": {},
   "outputs": [
    {
     "data": {
      "text/html": [
       "<div>\n",
       "<style scoped>\n",
       "    .dataframe tbody tr th:only-of-type {\n",
       "        vertical-align: middle;\n",
       "    }\n",
       "\n",
       "    .dataframe tbody tr th {\n",
       "        vertical-align: top;\n",
       "    }\n",
       "\n",
       "    .dataframe thead th {\n",
       "        text-align: right;\n",
       "    }\n",
       "</style>\n",
       "<table border=\"1\" class=\"dataframe\">\n",
       "  <thead>\n",
       "    <tr style=\"text-align: right;\">\n",
       "      <th></th>\n",
       "      <th>Initial</th>\n",
       "      <th>Modified</th>\n",
       "      <th>logP</th>\n",
       "      <th>MW</th>\n",
       "      <th>tPSA</th>\n",
       "      <th>SweetSpot</th>\n",
       "    </tr>\n",
       "  </thead>\n",
       "  <tbody>\n",
       "    <tr>\n",
       "      <th>0</th>\n",
       "      <td>NC(=O)C1Cc2ccccc2N1C(=O)Cc1nc(N2CCOCC2)cc(=O)[...</td>\n",
       "      <td>CCC(=O)NC1CCc2cc(C(=O)NCc3ccc(C4CCOCC4)[nH]3)...</td>\n",
       "      <td>3.35220</td>\n",
       "      <td>395.220892</td>\n",
       "      <td>83.22</td>\n",
       "      <td>True</td>\n",
       "    </tr>\n",
       "    <tr>\n",
       "      <th>3</th>\n",
       "      <td>CC(=O)Nc1cc(Nc2cnn3c(C#N)cc(NC4COC4)nc23)ccc1C...</td>\n",
       "      <td>CC(=O)NC1(Nc2cc(Nc3c4ccccn4nc3C#N)cc(C(C)C)c2...</td>\n",
       "      <td>3.34748</td>\n",
       "      <td>404.196074</td>\n",
       "      <td>103.48</td>\n",
       "      <td>True</td>\n",
       "    </tr>\n",
       "    <tr>\n",
       "      <th>4</th>\n",
       "      <td>CCC(=O)N1CC[C@@H](Oc2ncnc3ccc(-c4cnc(OC)c(C#N)...</td>\n",
       "      <td>CCC(=O)N1CC[C@H](OCc2ccc3[nH]ccc3c2-c2cnc(OC)...</td>\n",
       "      <td>3.63768</td>\n",
       "      <td>403.196274</td>\n",
       "      <td>91.24</td>\n",
       "      <td>True</td>\n",
       "    </tr>\n",
       "    <tr>\n",
       "      <th>25</th>\n",
       "      <td>Cc1n[nH]c2cnc(-c3cncc(OC[C@@H](N)Cc4ccc(Br)cc4...</td>\n",
       "      <td>CSc1ccc(CC(Cc2cc(-c3cccc4nccn34)cnc2)C(=O)CN)cn1</td>\n",
       "      <td>3.44240</td>\n",
       "      <td>417.162331</td>\n",
       "      <td>86.17</td>\n",
       "      <td>True</td>\n",
       "    </tr>\n",
       "    <tr>\n",
       "      <th>27</th>\n",
       "      <td>CC(=O)Nc1cc(Nc2cnn3c(C#N)cc(NC4COC4)nc23)ccc1C...</td>\n",
       "      <td>CC(=O)NC1(CNc2cc(Nc3c4ccccn4nc3C#N)cc(C(C)C)c...</td>\n",
       "      <td>3.38998</td>\n",
       "      <td>418.211724</td>\n",
       "      <td>103.48</td>\n",
       "      <td>True</td>\n",
       "    </tr>\n",
       "    <tr>\n",
       "      <th>48</th>\n",
       "      <td>O=S(=O)(Cc1nc(-c2ccccn2)cc(N2CCOCC2)n1)c1ccc(F...</td>\n",
       "      <td>O=S(=O)(Cc1nc(C2CCOCC2)cc(-c2ccccn2)n1)c1ccc(...</td>\n",
       "      <td>3.54560</td>\n",
       "      <td>412.123476</td>\n",
       "      <td>82.04</td>\n",
       "      <td>True</td>\n",
       "    </tr>\n",
       "    <tr>\n",
       "      <th>61</th>\n",
       "      <td>CC(=O)Nc1cc(Nc2cnn3c(C#N)cc(NC4COC4)nc23)ccc1C...</td>\n",
       "      <td>CC(=O)NC1(CNc2cc(Nc3c4ccccn4nc3C#N)ccc2C(C)C)...</td>\n",
       "      <td>3.38998</td>\n",
       "      <td>418.211724</td>\n",
       "      <td>103.48</td>\n",
       "      <td>True</td>\n",
       "    </tr>\n",
       "    <tr>\n",
       "      <th>62</th>\n",
       "      <td>CCc1cc(-c2cnc3[nH]cc(-c4cn[nH]c4)c3c2)nc(N)n1</td>\n",
       "      <td>CCc1cc(-c2c[nH]c3c2ccnc3-c2c[nH]nc2)nc(I)n1</td>\n",
       "      <td>3.57700</td>\n",
       "      <td>416.024642</td>\n",
       "      <td>83.14</td>\n",
       "      <td>True</td>\n",
       "    </tr>\n",
       "    <tr>\n",
       "      <th>78</th>\n",
       "      <td>Cc1nc(C(=O)NN2CCCC2)sc1-c1ccnc(C(C)(C)C)c1</td>\n",
       "      <td>CC(C)(C)Oc1cc(-c2c(CN)nc([C@H](O)CCN3CCCC3)s2...</td>\n",
       "      <td>3.36040</td>\n",
       "      <td>390.208947</td>\n",
       "      <td>84.50</td>\n",
       "      <td>True</td>\n",
       "    </tr>\n",
       "    <tr>\n",
       "      <th>87</th>\n",
       "      <td>CCc1cc(-c2cnc3[nH]cc(-c4cn[nH]c4)c3c2)nc(N)n1</td>\n",
       "      <td>CCc1cc(-c2cnc3[nH]cc(-c4c[nH]nc4)c3c2)nc(I)n1</td>\n",
       "      <td>3.57700</td>\n",
       "      <td>416.024642</td>\n",
       "      <td>83.14</td>\n",
       "      <td>True</td>\n",
       "    </tr>\n",
       "    <tr>\n",
       "      <th>98</th>\n",
       "      <td>NC(=O)c1cn2cc(-c3ncc(N)cn3)nc(N3CCOCC3)c2n1</td>\n",
       "      <td>CCCc1cnc(-c2cn3c(C4CCOCC4)cnc3c(NC(=O)CC)n2)nc1</td>\n",
       "      <td>3.38130</td>\n",
       "      <td>394.211724</td>\n",
       "      <td>94.30</td>\n",
       "      <td>True</td>\n",
       "    </tr>\n",
       "    <tr>\n",
       "      <th>100</th>\n",
       "      <td>Cc1nc(C(=O)NN2CCCC2)sc1-c1ccnc(C(C)(C)C)c1</td>\n",
       "      <td>CC(C)(C)Oc1cc(-c2c(CN)nc([C@H](O)CCN3CCCC3)s2...</td>\n",
       "      <td>3.36040</td>\n",
       "      <td>390.208947</td>\n",
       "      <td>84.50</td>\n",
       "      <td>True</td>\n",
       "    </tr>\n",
       "    <tr>\n",
       "      <th>101</th>\n",
       "      <td>O=C(Cc1cc(=O)[nH]c(N2CCOCC2)n1)Nc1ccc(F)c([N+]...</td>\n",
       "      <td>O=C(Cc1cc(C2CCOCC2)cnc1)Nc1ccc(F)c([N+](=O)[O...</td>\n",
       "      <td>3.20410</td>\n",
       "      <td>359.128134</td>\n",
       "      <td>94.36</td>\n",
       "      <td>True</td>\n",
       "    </tr>\n",
       "    <tr>\n",
       "      <th>102</th>\n",
       "      <td>O=S(=O)(Cc1nc(-c2ccccn2)cc(N2CCOCC2)n1)c1ccc(F...</td>\n",
       "      <td>O=S(=O)(Cc1nc(C2CCOCC2)cc(-c2ccccn2)n1)c1ccc(...</td>\n",
       "      <td>3.54560</td>\n",
       "      <td>412.123476</td>\n",
       "      <td>82.04</td>\n",
       "      <td>True</td>\n",
       "    </tr>\n",
       "  </tbody>\n",
       "</table>\n",
       "</div>"
      ],
      "text/plain": [
       "                                               Initial  \\\n",
       "0    NC(=O)C1Cc2ccccc2N1C(=O)Cc1nc(N2CCOCC2)cc(=O)[...   \n",
       "3    CC(=O)Nc1cc(Nc2cnn3c(C#N)cc(NC4COC4)nc23)ccc1C...   \n",
       "4    CCC(=O)N1CC[C@@H](Oc2ncnc3ccc(-c4cnc(OC)c(C#N)...   \n",
       "25   Cc1n[nH]c2cnc(-c3cncc(OC[C@@H](N)Cc4ccc(Br)cc4...   \n",
       "27   CC(=O)Nc1cc(Nc2cnn3c(C#N)cc(NC4COC4)nc23)ccc1C...   \n",
       "48   O=S(=O)(Cc1nc(-c2ccccn2)cc(N2CCOCC2)n1)c1ccc(F...   \n",
       "61   CC(=O)Nc1cc(Nc2cnn3c(C#N)cc(NC4COC4)nc23)ccc1C...   \n",
       "62      CCc1cc(-c2cnc3[nH]cc(-c4cn[nH]c4)c3c2)nc(N)n1    \n",
       "78         Cc1nc(C(=O)NN2CCCC2)sc1-c1ccnc(C(C)(C)C)c1    \n",
       "87      CCc1cc(-c2cnc3[nH]cc(-c4cn[nH]c4)c3c2)nc(N)n1    \n",
       "98        NC(=O)c1cn2cc(-c3ncc(N)cn3)nc(N3CCOCC3)c2n1    \n",
       "100        Cc1nc(C(=O)NN2CCCC2)sc1-c1ccnc(C(C)(C)C)c1    \n",
       "101  O=C(Cc1cc(=O)[nH]c(N2CCOCC2)n1)Nc1ccc(F)c([N+]...   \n",
       "102  O=S(=O)(Cc1nc(-c2ccccn2)cc(N2CCOCC2)n1)c1ccc(F...   \n",
       "\n",
       "                                              Modified     logP          MW  \\\n",
       "0     CCC(=O)NC1CCc2cc(C(=O)NCc3ccc(C4CCOCC4)[nH]3)...  3.35220  395.220892   \n",
       "3     CC(=O)NC1(Nc2cc(Nc3c4ccccn4nc3C#N)cc(C(C)C)c2...  3.34748  404.196074   \n",
       "4     CCC(=O)N1CC[C@H](OCc2ccc3[nH]ccc3c2-c2cnc(OC)...  3.63768  403.196274   \n",
       "25    CSc1ccc(CC(Cc2cc(-c3cccc4nccn34)cnc2)C(=O)CN)cn1  3.44240  417.162331   \n",
       "27    CC(=O)NC1(CNc2cc(Nc3c4ccccn4nc3C#N)cc(C(C)C)c...  3.38998  418.211724   \n",
       "48    O=S(=O)(Cc1nc(C2CCOCC2)cc(-c2ccccn2)n1)c1ccc(...  3.54560  412.123476   \n",
       "61    CC(=O)NC1(CNc2cc(Nc3c4ccccn4nc3C#N)ccc2C(C)C)...  3.38998  418.211724   \n",
       "62         CCc1cc(-c2c[nH]c3c2ccnc3-c2c[nH]nc2)nc(I)n1  3.57700  416.024642   \n",
       "78    CC(C)(C)Oc1cc(-c2c(CN)nc([C@H](O)CCN3CCCC3)s2...  3.36040  390.208947   \n",
       "87       CCc1cc(-c2cnc3[nH]cc(-c4c[nH]nc4)c3c2)nc(I)n1  3.57700  416.024642   \n",
       "98     CCCc1cnc(-c2cn3c(C4CCOCC4)cnc3c(NC(=O)CC)n2)nc1  3.38130  394.211724   \n",
       "100   CC(C)(C)Oc1cc(-c2c(CN)nc([C@H](O)CCN3CCCC3)s2...  3.36040  390.208947   \n",
       "101   O=C(Cc1cc(C2CCOCC2)cnc1)Nc1ccc(F)c([N+](=O)[O...  3.20410  359.128134   \n",
       "102   O=S(=O)(Cc1nc(C2CCOCC2)cc(-c2ccccn2)n1)c1ccc(...  3.54560  412.123476   \n",
       "\n",
       "       tPSA  SweetSpot  \n",
       "0     83.22       True  \n",
       "3    103.48       True  \n",
       "4     91.24       True  \n",
       "25    86.17       True  \n",
       "27   103.48       True  \n",
       "48    82.04       True  \n",
       "61   103.48       True  \n",
       "62    83.14       True  \n",
       "78    84.50       True  \n",
       "87    83.14       True  \n",
       "98    94.30       True  \n",
       "100   84.50       True  \n",
       "101   94.36       True  \n",
       "102   82.04       True  "
      ]
     },
     "execution_count": 41,
     "metadata": {},
     "output_type": "execute_result"
    }
   ],
   "source": [
    "df.loc[df.SweetSpot==True]"
   ]
  },
  {
   "cell_type": "code",
   "execution_count": null,
   "metadata": {},
   "outputs": [],
   "source": []
  }
 ],
 "metadata": {
  "kernelspec": {
   "display_name": "Python 3",
   "language": "python",
   "name": "python3"
  },
  "language_info": {
   "codemirror_mode": {
    "name": "ipython",
    "version": 3
   },
   "file_extension": ".py",
   "mimetype": "text/x-python",
   "name": "python",
   "nbconvert_exporter": "python",
   "pygments_lexer": "ipython3",
   "version": "3.6.10-final"
  }
 },
 "nbformat": 4,
 "nbformat_minor": 2
}