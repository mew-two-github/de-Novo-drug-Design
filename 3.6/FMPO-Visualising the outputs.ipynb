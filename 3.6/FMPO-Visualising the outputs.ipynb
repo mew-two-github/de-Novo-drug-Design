{
 "cells": [
  {
   "cell_type": "code",
   "execution_count": 1,
   "metadata": {
    "tags": []
   },
   "outputs": [
    {
     "output_type": "stream",
     "name": "stderr",
     "text": "RDKit WARNING: [14:36:24] Enabling RDKit 2019.09.3 jupyter extensions\n"
    }
   ],
   "source": [
    "import numpy as np\n",
    "import pandas as pd\n",
    "import rdkit.Chem as ch\n",
    "import rdkit.Chem as Chem\n",
    "from rdkit.Chem import Descriptors\n",
    "import numpy as np\n",
    "import sys\n",
    "import rdkit.Chem.Crippen as Crippen\n",
    "import rdkit.Chem.rdMolDescriptors as MolDescriptors\n",
    "from rdkit.Chem import Descriptors"
   ]
  },
  {
   "cell_type": "code",
   "execution_count": 2,
   "metadata": {},
   "outputs": [],
   "source": [
    "sys.path.insert(0,'./Modules/')\n",
    "from rewards import bunch_evaluation"
   ]
  },
  {
   "cell_type": "code",
   "execution_count": null,
   "metadata": {
    "scrolled": true
   },
   "outputs": [],
   "source": [
    "decode(output,decodings)"
   ]
  },
  {
   "cell_type": "code",
   "execution_count": 4,
   "metadata": {},
   "outputs": [],
   "source": [
    "df = pd.read_excel('./Generated molecules/AKT_trial.xlsx')"
   ]
  },
  {
   "cell_type": "code",
   "execution_count": 5,
   "metadata": {},
   "outputs": [
    {
     "data": {
      "text/html": [
       "<div>\n",
       "<style scoped>\n",
       "    .dataframe tbody tr th:only-of-type {\n",
       "        vertical-align: middle;\n",
       "    }\n",
       "\n",
       "    .dataframe tbody tr th {\n",
       "        vertical-align: top;\n",
       "    }\n",
       "\n",
       "    .dataframe thead th {\n",
       "        text-align: right;\n",
       "    }\n",
       "</style>\n",
       "<table border=\"1\" class=\"dataframe\">\n",
       "  <thead>\n",
       "    <tr style=\"text-align: right;\">\n",
       "      <th></th>\n",
       "      <th>Smiles</th>\n",
       "      <th>pChEMBL_Value</th>\n",
       "    </tr>\n",
       "  </thead>\n",
       "  <tbody>\n",
       "    <tr>\n",
       "      <th>0</th>\n",
       "      <td>Cc1nc(NC(=O)N2CC[C@H](O)[C@H]2C(N)=O)sc1-c1csc...</td>\n",
       "      <td>6.75</td>\n",
       "    </tr>\n",
       "    <tr>\n",
       "      <th>1</th>\n",
       "      <td>CCCN(C)Cc1ccc(-c2nnc3n2-c2cccnc2Nc2ccccc2-3)cc1</td>\n",
       "      <td>5.60</td>\n",
       "    </tr>\n",
       "    <tr>\n",
       "      <th>2</th>\n",
       "      <td>Cc1nc(N)nc(-c2c(Nc3cc[nH]n3)nc3ccc(-c4cccc(F)c...</td>\n",
       "      <td>7.14</td>\n",
       "    </tr>\n",
       "    <tr>\n",
       "      <th>3</th>\n",
       "      <td>CNS(=O)(=O)c1ccc(C(=O)N2CCOc3ccc(-c4ccc5nc[nH]...</td>\n",
       "      <td>6.09</td>\n",
       "    </tr>\n",
       "    <tr>\n",
       "      <th>4</th>\n",
       "      <td>NC[C@@H](Cc1ccccc1)NC(=O)c1cc(Br)c(-c2ccnc3[nH...</td>\n",
       "      <td>5.22</td>\n",
       "    </tr>\n",
       "  </tbody>\n",
       "</table>\n",
       "</div>"
      ],
      "text/plain": [
       "                                              Smiles  pChEMBL_Value\n",
       "0  Cc1nc(NC(=O)N2CC[C@H](O)[C@H]2C(N)=O)sc1-c1csc...           6.75\n",
       "1    CCCN(C)Cc1ccc(-c2nnc3n2-c2cccnc2Nc2ccccc2-3)cc1           5.60\n",
       "2  Cc1nc(N)nc(-c2c(Nc3cc[nH]n3)nc3ccc(-c4cccc(F)c...           7.14\n",
       "3  CNS(=O)(=O)c1ccc(C(=O)N2CCOc3ccc(-c4ccc5nc[nH]...           6.09\n",
       "4  NC[C@@H](Cc1ccccc1)NC(=O)c1cc(Br)c(-c2ccnc3[nH...           5.22"
      ]
     },
     "execution_count": 5,
     "metadata": {},
     "output_type": "execute_result"
    }
   ],
   "source": [
    "df.head()"
   ]
  },
  {
   "cell_type": "code",
   "execution_count": 6,
   "metadata": {},
   "outputs": [],
   "source": [
    "img = (ch.MolFromSmiles(df.iloc[1,0]))\n",
    "mol2 = ch.MolFromSmiles(df.iloc[1,1])"
   ]
  },
  {
   "cell_type": "code",
   "execution_count": 7,
   "metadata": {},
   "outputs": [
    {
     "data": {
      "image/png": "[encoded data removed]",
      "text/plain": [
       "<rdkit.Chem.rdchem.Mol at 0x24cb1bceee0>"
      ]
     },
     "execution_count": 7,
     "metadata": {},
     "output_type": "execute_result"
    }
   ],
   "source": [
    "img"
   ]
  },
  {
   "cell_type": "code",
   "execution_count": 8,
   "metadata": {
    "scrolled": true
   },
   "outputs": [
    {
     "data": {
      "image/png": "[encoded data removed]",
      "text/plain": [
       "<rdkit.Chem.rdchem.Mol at 0x24cb52d3d50>"
      ]
     },
     "execution_count": 8,
     "metadata": {},
     "output_type": "execute_result"
    }
   ],
   "source": [
    "mol2"
   ]
  },
  {
   "cell_type": "code",
   "execution_count": 9,
   "metadata": {},
   "outputs": [],
   "source": [
    "mol = []\n",
    "for smile in df['Initial']:\n",
    "    mol.append(ch.MolFromSmiles(smile))"
   ]
  },
  {
   "cell_type": "code",
   "execution_count": 10,
   "metadata": {},
   "outputs": [
    {
     "data": {
      "text/plain": [
       "count       316\n",
       "unique        1\n",
       "top       False\n",
       "freq        316\n",
       "Name: SweetSpot, dtype: object"
      ]
     },
     "execution_count": 10,
     "metadata": {},
     "output_type": "execute_result"
    }
   ],
   "source": [
    "logP = []\n",
    "mw = []\n",
    "tpsa = []\n",
    "ss = []\n",
    "for molecule in mol:\n",
    "    logP.append(Crippen.MolLogP(molecule))\n",
    "    mw.append(MolDescriptors.CalcExactMolWt(molecule))\n",
    "    tpsa.append(Descriptors.TPSA(molecule))\n",
    "df['logP'] = np.asarray(logP)\n",
    "df['MW'] = np.asarray(mw)\n",
    "df['tPSA'] = np.asarray(tpsa)\n",
    "df['SweetSpot'] = ((3<df['logP']) & (df['logP']<5)& (320<df['MW']) & (df['MW']<420) & (80<df['tPSA']) & (df['tPSA']<110))\n",
    "df['SweetSpot'].describe()"
   ]
  },
  {
   "cell_type": "code",
   "execution_count": 11,
   "metadata": {},
   "outputs": [
    {
     "data": {
      "text/plain": [
       "count       316\n",
       "unique        2\n",
       "top       False\n",
       "freq        302\n",
       "Name: SweetSpot, dtype: object"
      ]
     },
     "execution_count": 11,
     "metadata": {},
     "output_type": "execute_result"
    }
   ],
   "source": [
    "mol = []\n",
    "for smile in df[' Modified']:\n",
    "    mol.append(ch.MolFromSmiles(smile))\n",
    "logP = []\n",
    "mw = []\n",
    "tpsa = []\n",
    "ss = []\n",
    "for molecule in mol:\n",
    "    logP.append(Crippen.MolLogP(molecule))\n",
    "    mw.append(MolDescriptors.CalcExactMolWt(molecule))\n",
    "    tpsa.append(Descriptors.TPSA(molecule))\n",
    "df['logP'] = np.asarray(logP)\n",
    "df['MW'] = np.asarray(mw)\n",
    "df['tPSA'] = np.asarray(tpsa)\n",
    "df['SweetSpot'] = ((3<df['logP']) & (df['logP']<5)& (320<df['MW']) & (df['MW']<420) & (80<df['tPSA']) & (df['tPSA']<110))\n",
    "df['SweetSpot'].describe()"
   ]
  },
  {
   "cell_type": "code",
   "execution_count": 12,
   "metadata": {},
   "outputs": [],
   "source": [
    "new_df = df.loc[df.SweetSpot==True]"
   ]
  },
  {
   "cell_type": "code",
   "execution_count": 19,
   "metadata": {},
   "outputs": [],
   "source": [
    "mol1 = (ch.MolFromSmiles(new_df.iloc[1,0]))\n",
    "mol2 = ch.MolFromSmiles(new_df.iloc[1,1])"
   ]
  },
  {
   "cell_type": "code",
   "execution_count": 14,
   "metadata": {},
   "outputs": [
    {
     "name": "stdout",
     "output_type": "stream",
     "text": [
      "<rdkit.Chem.rdchem.Mol object at 0x0000024CB52C4850>\n"
     ]
    }
   ],
   "source": [
    "print(img)"
   ]
  },
  {
   "cell_type": "code",
   "execution_count": 18,
   "metadata": {},
   "outputs": [
    {
     "data": {
      "image/png": "[encoded data removed]",
      "text/plain": [
       "<rdkit.Chem.rdchem.Mol at 0x24cb52c4850>"
      ]
     },
     "execution_count": 18,
     "metadata": {},
     "output_type": "execute_result"
    }
   ],
   "source": [
    "img"
   ]
  },
  {
   "cell_type": "code",
   "execution_count": 20,
   "metadata": {},
   "outputs": [
    {
     "data": {
      "image/png": "[encoded data removed]",
      "text/plain": [
       "<rdkit.Chem.rdchem.Mol at 0x24cb8061030>"
      ]
     },
     "execution_count": 20,
     "metadata": {},
     "output_type": "execute_result"
    }
   ],
   "source": [
    "mol2"
   ]
  },
  {
   "cell_type": "code",
   "execution_count": 3,
   "metadata": {},
   "outputs": [],
   "source": [
    "import sys\n",
    "sys.path.insert(0, './Modules/')"
   ]
  },
  {
   "cell_type": "code",
   "execution_count": 3,
   "metadata": {},
   "outputs": [
    {
     "output_type": "execute_result",
     "data": {
      "text/plain": "<rdkit.Chem.rdchem.Mol at 0x1ed2dedfb20>",
      "image/png": "[encoded data removed]"
     },
     "metadata": {},
     "execution_count": 3
    }
   ],
   "source": [
    "import rewards\n",
    "import pandas as pd\n",
    "import rdkit.Chem as ch\n",
    "df = pd.read_csv('./out153.csv',engine=\"python\")\n",
    "mol = ch.MolFromSmiles(df.iloc[0,0])\n",
    "mol"
   ]
  },
  {
   "cell_type": "code",
   "execution_count": 5,
   "metadata": {
    "scrolled": true
   },
   "outputs": [
    {
     "data": {
      "image/png": "[encoded data removed]",
      "text/plain": [
       "<PIL.Image.Image image mode=RGBA size=200x200 at 0x12111570B00>"
      ]
     },
     "execution_count": 5,
     "metadata": {},
     "output_type": "execute_result"
    }
   ],
   "source": [
    "from rdkit.Chem import Draw\n",
    "ch.Draw.MolsToImage([mol], subImgSize=(200, 200))"
   ]
  },
  {
   "cell_type": "code",
   "execution_count": 4,
   "metadata": {
    "scrolled": true
   },
   "outputs": [
    {
     "output_type": "execute_result",
     "data": {
      "text/plain": "                                   Initial molecule   \\\n0  NC(=O)c1c(N)ncnc1N1CCC(c2nc(-c3cc(F)ccc3C(F)(F...   \n1  CCc1c(N)ncnc1N1CCC(c2nc(-c3cc(F)ccc3Cl)cn2CCN2...   \n2  Cc1ccc(-c2c(N)ncnc2N2CCC(c3nc(-c4cc(F)ccc4C(F)...   \n3  CCN(CC)c1nccc(-c2sc(C(=O)N[C@H]3CCCN3C(N)=O)nc...   \n4        CCOc1ccc(Nc2nc3ccccn3c2-c2nc(C)nc(N)n2)cn1    \n\n                                   Modified molecule  \n0   CC(=O)Nc1c(N)ncnc1N1C[C@H]2C[C@@]2(c2nc(-c3nc...  \n1   CCCCCCOn1nc(N)nc1N1CCCC(c2cc(-c3nc(F)cn3Cl)cc...  \n2   Cc1ccc(-c2c(N)ncnc2N2C[C@H]3C[C@@]3(c3nc(-c4c...  \n3   NCc1c(-c2nc(NCCCCO)ncc2)cc(C(=O)N[C@H]2CCCN2C...  \n4     CCOc1ccc(Nc2c(-c3nc(C#N)nc(I)n3)n3ccccc3n2)cn1  ",
      "text/html": "<div>\n<style scoped>\n    .dataframe tbody tr th:only-of-type {\n        vertical-align: middle;\n    }\n\n    .dataframe tbody tr th {\n        vertical-align: top;\n    }\n\n    .dataframe thead th {\n        text-align: right;\n    }\n</style>\n<table border=\"1\" class=\"dataframe\">\n  <thead>\n    <tr style=\"text-align: right;\">\n      <th></th>\n      <th>Initial molecule</th>\n      <th>Modified molecule</th>\n    </tr>\n  </thead>\n  <tbody>\n    <tr>\n      <th>0</th>\n      <td>NC(=O)c1c(N)ncnc1N1CCC(c2nc(-c3cc(F)ccc3C(F)(F...</td>\n      <td>CC(=O)Nc1c(N)ncnc1N1C[C@H]2C[C@@]2(c2nc(-c3nc...</td>\n    </tr>\n    <tr>\n      <th>1</th>\n      <td>CCc1c(N)ncnc1N1CCC(c2nc(-c3cc(F)ccc3Cl)cn2CCN2...</td>\n      <td>CCCCCCOn1nc(N)nc1N1CCCC(c2cc(-c3nc(F)cn3Cl)cc...</td>\n    </tr>\n    <tr>\n      <th>2</th>\n      <td>Cc1ccc(-c2c(N)ncnc2N2CCC(c3nc(-c4cc(F)ccc4C(F)...</td>\n      <td>Cc1ccc(-c2c(N)ncnc2N2C[C@H]3C[C@@]3(c3nc(-c4c...</td>\n    </tr>\n    <tr>\n      <th>3</th>\n      <td>CCN(CC)c1nccc(-c2sc(C(=O)N[C@H]3CCCN3C(N)=O)nc...</td>\n      <td>NCc1c(-c2nc(NCCCCO)ncc2)cc(C(=O)N[C@H]2CCCN2C...</td>\n    </tr>\n    <tr>\n      <th>4</th>\n      <td>CCOc1ccc(Nc2nc3ccccn3c2-c2nc(C)nc(N)n2)cn1</td>\n      <td>CCOc1ccc(Nc2c(-c3nc(C#N)nc(I)n3)n3ccccc3n2)cn1</td>\n    </tr>\n  </tbody>\n</table>\n</div>"
     },
     "metadata": {},
     "execution_count": 4
    }
   ],
   "source": [
    "df.head()"
   ]
  },
  {
   "cell_type": "code",
   "execution_count": null,
   "metadata": {},
   "outputs": [],
   "source": []
  },
  {
   "cell_type": "code",
   "execution_count": 5,
   "metadata": {},
   "outputs": [],
   "source": [
    "from rewards import bunch_evaluation\n",
    "moli = []\n",
    "molm = []\n",
    "for i in range(len(df)):\n",
    "    moli.append(ch.MolFromSmiles(df.iloc[i,0]))\n",
    "    molm.append(ch.MolFromSmiles(df.iloc[i,1]))"
   ]
  },
  {
   "cell_type": "code",
   "execution_count": 6,
   "metadata": {
    "tags": []
   },
   "outputs": [
    {
     "output_type": "stream",
     "name": "stdout",
     "text": "Properties predicted for 305 molecules\n Evaluations completed\nProperties predicted for 305 molecules\n Evaluations completed\n"
    }
   ],
   "source": [
    "ini = bunch_evaluation(moli)\n",
    "mod = bunch_evaluation(molm)"
   ]
  },
  {
   "cell_type": "code",
   "execution_count": 27,
   "metadata": {},
   "outputs": [],
   "source": [
    "ini = np.asarray(ini)\n",
    "mod = np.asarray(mod)"
   ]
  },
  {
   "cell_type": "code",
   "execution_count": null,
   "metadata": {},
   "outputs": [],
   "source": [
    "#remember to change pIC50 conversion depending on the reward function"
   ]
  },
  {
   "cell_type": "code",
   "execution_count": 28,
   "metadata": {},
   "outputs": [],
   "source": [
    "changes = pd.DataFrame(data=np.transpose(np.asarray([(mod[:,1]*3+7),(ini[:,1]*3 +7)])),columns=['Modified','Initial']) "
   ]
  },
  {
   "cell_type": "code",
   "execution_count": 29,
   "metadata": {},
   "outputs": [
    {
     "data": {
      "text/html": [
       "<div>\n",
       "<style scoped>\n",
       "    .dataframe tbody tr th:only-of-type {\n",
       "        vertical-align: middle;\n",
       "    }\n",
       "\n",
       "    .dataframe tbody tr th {\n",
       "        vertical-align: top;\n",
       "    }\n",
       "\n",
       "    .dataframe thead th {\n",
       "        text-align: right;\n",
       "    }\n",
       "</style>\n",
       "<table border=\"1\" class=\"dataframe\">\n",
       "  <thead>\n",
       "    <tr style=\"text-align: right;\">\n",
       "      <th></th>\n",
       "      <th>Modified</th>\n",
       "      <th>Initial</th>\n",
       "    </tr>\n",
       "  </thead>\n",
       "  <tbody>\n",
       "    <tr>\n",
       "      <th>0</th>\n",
       "      <td>6.839906</td>\n",
       "      <td>7.133250</td>\n",
       "    </tr>\n",
       "    <tr>\n",
       "      <th>1</th>\n",
       "      <td>7.661039</td>\n",
       "      <td>8.094989</td>\n",
       "    </tr>\n",
       "    <tr>\n",
       "      <th>2</th>\n",
       "      <td>6.992800</td>\n",
       "      <td>6.307453</td>\n",
       "    </tr>\n",
       "    <tr>\n",
       "      <th>3</th>\n",
       "      <td>6.822444</td>\n",
       "      <td>7.555533</td>\n",
       "    </tr>\n",
       "    <tr>\n",
       "      <th>4</th>\n",
       "      <td>7.056073</td>\n",
       "      <td>7.114760</td>\n",
       "    </tr>\n",
       "  </tbody>\n",
       "</table>\n",
       "</div>"
      ],
      "text/plain": [
       "   Modified   Initial\n",
       "0  6.839906  7.133250\n",
       "1  7.661039  8.094989\n",
       "2  6.992800  6.307453\n",
       "3  6.822444  7.555533\n",
       "4  7.056073  7.114760"
      ]
     },
     "execution_count": 29,
     "metadata": {},
     "output_type": "execute_result"
    }
   ],
   "source": [
    "changes.head()"
   ]
  },
  {
   "cell_type": "code",
   "execution_count": 31,
   "metadata": {},
   "outputs": [],
   "source": [
    "changes['Delta'] = changes['Modified'] - changes['Initial']\n",
    "changes.sort_values(by='Delta',ascending=False,inplace=True)"
   ]
  },
  {
   "cell_type": "code",
   "execution_count": 57,
   "metadata": {},
   "outputs": [],
   "source": [
    "inact_to_act = changes.loc[(changes['Modified']>7) & (changes['Initial']<7),['Modified','Initial','Delta']].sort_values(by='Delta',ascending=False)"
   ]
  },
  {
   "cell_type": "code",
   "execution_count": 43,
   "metadata": {},
   "outputs": [
    {
     "data": {
      "text/html": [
       "<div>\n",
       "<style scoped>\n",
       "    .dataframe tbody tr th:only-of-type {\n",
       "        vertical-align: middle;\n",
       "    }\n",
       "\n",
       "    .dataframe tbody tr th {\n",
       "        vertical-align: top;\n",
       "    }\n",
       "\n",
       "    .dataframe thead th {\n",
       "        text-align: right;\n",
       "    }\n",
       "</style>\n",
       "<table border=\"1\" class=\"dataframe\">\n",
       "  <thead>\n",
       "    <tr style=\"text-align: right;\">\n",
       "      <th></th>\n",
       "      <th>Modified</th>\n",
       "      <th>Initial</th>\n",
       "      <th>Delta</th>\n",
       "    </tr>\n",
       "  </thead>\n",
       "  <tbody>\n",
       "    <tr>\n",
       "      <th>61</th>\n",
       "      <td>6.266838</td>\n",
       "      <td>3.624936</td>\n",
       "      <td>2.641902</td>\n",
       "    </tr>\n",
       "    <tr>\n",
       "      <th>168</th>\n",
       "      <td>6.746200</td>\n",
       "      <td>4.602422</td>\n",
       "      <td>2.143778</td>\n",
       "    </tr>\n",
       "    <tr>\n",
       "      <th>50</th>\n",
       "      <td>6.433924</td>\n",
       "      <td>4.540926</td>\n",
       "      <td>1.892998</td>\n",
       "    </tr>\n",
       "    <tr>\n",
       "      <th>122</th>\n",
       "      <td>6.191000</td>\n",
       "      <td>4.602422</td>\n",
       "      <td>1.588578</td>\n",
       "    </tr>\n",
       "    <tr>\n",
       "      <th>21</th>\n",
       "      <td>5.850533</td>\n",
       "      <td>4.561467</td>\n",
       "      <td>1.289067</td>\n",
       "    </tr>\n",
       "    <tr>\n",
       "      <th>84</th>\n",
       "      <td>6.393654</td>\n",
       "      <td>5.201288</td>\n",
       "      <td>1.192366</td>\n",
       "    </tr>\n",
       "    <tr>\n",
       "      <th>207</th>\n",
       "      <td>7.537467</td>\n",
       "      <td>6.352000</td>\n",
       "      <td>1.185467</td>\n",
       "    </tr>\n",
       "    <tr>\n",
       "      <th>42</th>\n",
       "      <td>7.314333</td>\n",
       "      <td>6.138750</td>\n",
       "      <td>1.175583</td>\n",
       "    </tr>\n",
       "    <tr>\n",
       "      <th>68</th>\n",
       "      <td>7.505867</td>\n",
       "      <td>6.352000</td>\n",
       "      <td>1.153867</td>\n",
       "    </tr>\n",
       "    <tr>\n",
       "      <th>210</th>\n",
       "      <td>8.129183</td>\n",
       "      <td>7.102867</td>\n",
       "      <td>1.026317</td>\n",
       "    </tr>\n",
       "  </tbody>\n",
       "</table>\n",
       "</div>"
      ],
      "text/plain": [
       "     Modified   Initial     Delta\n",
       "61   6.266838  3.624936  2.641902\n",
       "168  6.746200  4.602422  2.143778\n",
       "50   6.433924  4.540926  1.892998\n",
       "122  6.191000  4.602422  1.588578\n",
       "21   5.850533  4.561467  1.289067\n",
       "84   6.393654  5.201288  1.192366\n",
       "207  7.537467  6.352000  1.185467\n",
       "42   7.314333  6.138750  1.175583\n",
       "68   7.505867  6.352000  1.153867\n",
       "210  8.129183  7.102867  1.026317"
      ]
     },
     "execution_count": 43,
     "metadata": {},
     "output_type": "execute_result"
    }
   ],
   "source": [
    "changes.head(10)"
   ]
  },
  {
   "cell_type": "code",
   "execution_count": 44,
   "metadata": {},
   "outputs": [],
   "source": [
    "changes.to_csv('./out153_pIC.csv',index=False)"
   ]
  },
  {
   "cell_type": "code",
   "execution_count": 60,
   "metadata": {},
   "outputs": [],
   "source": [
    "inact_to_act.to_csv('./act_pIC153.csv',index=False)"
   ]
  },
  {
   "cell_type": "code",
   "execution_count": 73,
   "metadata": {},
   "outputs": [
    {
     "data": {
      "text/plain": [
       "[<matplotlib.lines.Line2D at 0x18b264f8080>,\n",
       " <matplotlib.lines.Line2D at 0x18b264f8208>]"
      ]
     },
     "execution_count": 73,
     "metadata": {},
     "output_type": "execute_result"
    },
    {
     "data": {
      "image/png": "[encoded data removed]",
      "text/plain": [
       "<Figure size 432x288 with 1 Axes>"
      ]
     },
     "metadata": {
      "needs_background": "light"
     },
     "output_type": "display_data"
    }
   ],
   "source": [
    "import matplotlib.pyplot as plt\n",
    "x = [4,5,6,7]\n",
    "y = x\n",
    "plt.xlabel('pIC50 initial')\n",
    "plt.ylabel('pIC50 final')\n",
    "plt.plot(changes['Initial'].iloc[0:10],changes['Modified'].iloc[0:10],x,y)"
   ]
  },
  {
   "cell_type": "code",
   "execution_count": 47,
   "metadata": {},
   "outputs": [
    {
     "data": {
      "image/png": "[encoded data removed]",
      "text/plain": [
       "<rdkit.Chem.rdchem.Mol at 0x18b20174170>"
      ]
     },
     "execution_count": 47,
     "metadata": {},
     "output_type": "execute_result"
    }
   ],
   "source": [
    "moli[207]"
   ]
  },
  {
   "cell_type": "code",
   "execution_count": 48,
   "metadata": {},
   "outputs": [
    {
     "data": {
      "image/png": "[encoded data removed]",
      "text/plain": [
       "<rdkit.Chem.rdchem.Mol at 0x18b201741c0>"
      ]
     },
     "execution_count": 48,
     "metadata": {},
     "output_type": "execute_result"
    }
   ],
   "source": [
    "molm[207]"
   ]
  },
  {
   "cell_type": "code",
   "execution_count": 9,
   "metadata": {},
   "outputs": [],
   "source": [
    "df = pd.read_csv('./Data/AKT_pchembl.csv')\n",
    "mol = []\n",
    "i = 1\n",
    "for smile in df['Smiles']:\n",
    "    if i>=6:\n",
    "        break\n",
    "    mol.append(ch.MolFromSmiles(smile))\n",
    "    i += 1"
   ]
  },
  {
   "cell_type": "code",
   "execution_count": 70,
   "metadata": {},
   "outputs": [
    {
     "data": {
      "text/plain": [
       "Modified    1046.061382\n",
       "Initial     1110.572553\n",
       "Delta        -64.511171\n",
       "dtype: float64"
      ]
     },
     "execution_count": 70,
     "metadata": {},
     "output_type": "execute_result"
    }
   ],
   "source": [
    "changes.loc[changes['Delta']<0].sum()"
   ]
  },
  {
   "cell_type": "code",
   "execution_count": 72,
   "metadata": {},
   "outputs": [
    {
     "data": {
      "text/plain": [
       "Modified    1007.102905\n",
       "Initial      945.802042\n",
       "Delta         61.300863\n",
       "dtype: float64"
      ]
     },
     "execution_count": 72,
     "metadata": {},
     "output_type": "execute_result"
    }
   ],
   "source": [
    "changes.loc[changes['Delta']>0].sum()"
   ]
  },
  {
   "cell_type": "code",
   "execution_count": null,
   "metadata": {},
   "outputs": [],
   "source": []
  }
 ],
 "metadata": {
  "kernelspec": {
   "display_name": "Python 3",
   "language": "python",
   "name": "python3"
  },
  "language_info": {
   "codemirror_mode": {
    "name": "ipython",
    "version": 3
   },
   "file_extension": ".py",
   "mimetype": "text/x-python",
   "name": "python",
   "nbconvert_exporter": "python",
   "pygments_lexer": "ipython3",
   "version": "3.7.3-final"
  }
 },
 "nbformat": 4,
 "nbformat_minor": 2
}