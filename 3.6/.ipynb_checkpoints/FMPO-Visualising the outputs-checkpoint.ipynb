{
 "cells": [
  {
   "cell_type": "code",
   "execution_count": 1,
   "metadata": {
    "tags": []
   },
   "outputs": [
    {
     "name": "stderr",
     "output_type": "stream",
     "text": [
      "RDKit WARNING: [14:41:48] Enabling RDKit 2019.09.3 jupyter extensions\n"
     ]
    }
   ],
   "source": [
    "import numpy as np\n",
    "import pandas as pd\n",
    "import rdkit.Chem as Chem\n",
    "from rdkit.Chem import Descriptors\n",
    "import numpy as np\n",
    "import sys\n",
    "import rdkit.Chem.Crippen as Crippen\n",
    "import rdkit.Chem.rdMolDescriptors as MolDescriptors\n",
    "from rdkit.Chem import Descriptors\n",
    "import matplotlib.pyplot as plt\n",
    "import pickle\n",
    "import logging"
   ]
  },
  {
   "cell_type": "code",
   "execution_count": 2,
   "metadata": {},
   "outputs": [],
   "source": [
    "sys.path.insert(0,'./Modules/')\n",
    "from rewards import bunch_evaluation"
   ]
  },
  {
   "cell_type": "code",
   "execution_count": 3,
   "metadata": {
    "scrolled": true
   },
   "outputs": [],
   "source": [
    "from rewards import get_padel, clean_folder\n",
    "def get_pIC50(mols):\n",
    "    folder_path =  \"./generated_molecules/\"\n",
    "    file_path = \"./descriptors.csv\"\n",
    "    \n",
    "    #Cleaning up the older files\n",
    "    clean_folder(folder_path)\n",
    "    \n",
    "    i = 0\n",
    "    for mol in mols:\n",
    "        print(Chem.MolToMolBlock(mol),file=open(str(folder_path)+str(i)+'.mol','w'))\n",
    "        i += 1\n",
    "    get_padel(folder_path,file_path)\n",
    "      #Reading the descriptors\n",
    "    X = pd.read_csv(file_path)\n",
    "    #Filling Null Values\n",
    "    X.fillna(value=0,inplace=True)\n",
    "    X.Name = pd.to_numeric(X.Name, errors='coerce')\n",
    "    X.sort_values(by='Name',inplace=True)\n",
    "    X.to_csv('./try.csv',index=False)\n",
    "    #Removing the columns with zero variance in original data\n",
    "    with open('./saved_models/drop.txt','rb') as fp:\n",
    "        bad_cols = pickle.load(fp)\n",
    "    X_step1 = X.drop(columns=bad_cols,inplace=False)\n",
    "    X_step2 = X_step1\n",
    "    \n",
    "    \n",
    "    \n",
    "    #Doing StandardScaler() as applied to original data\n",
    "    with open('./saved_models/new_scaler.pkl','rb') as fp:\n",
    "        scaler = pickle.load(fp)\n",
    "    X2 = scaler.transform(X_step2.astype('float64'))\n",
    "    X_step3 = pd.DataFrame(data=X2,columns=X_step2.columns)\n",
    "    \n",
    "    #X.head()\n",
    "    #Dropping columns with low correlation with pIC50\n",
    "    \n",
    "    # =============================================================================\n",
    "    #     X.to_csv('./X.csv',index=False)\n",
    "    #     X_step1.to_csv('./X_step1.csv')\n",
    "    #     X_step2.to_csv('./X_step2.csv')\n",
    "    #     X_step3.to_csv('./X_step3.csv')\n",
    "    # =============================================================================\n",
    "    \n",
    "    \n",
    "    \n",
    "    #Using the Random forest Predictor\n",
    "    with open('./saved_models/new_RFR.pkl','rb') as fp:\n",
    "        pp = pickle.load(fp)\n",
    "    predictions = pp.predict(X_step3)\n",
    "    \n",
    "    print('Properties predicted for {} molecules'.format(len(predictions)))\n",
    "    return predictions"
   ]
  },
  {
   "cell_type": "code",
   "execution_count": 4,
   "metadata": {},
   "outputs": [],
   "source": [
    "df = pd.read_excel('./Generated molecules/AKT_trial.xlsx')"
   ]
  },
  {
   "cell_type": "code",
   "execution_count": 5,
   "metadata": {},
   "outputs": [
    {
     "data": {
      "text/html": [
       "<div>\n",
       "<style scoped>\n",
       "    .dataframe tbody tr th:only-of-type {\n",
       "        vertical-align: middle;\n",
       "    }\n",
       "\n",
       "    .dataframe tbody tr th {\n",
       "        vertical-align: top;\n",
       "    }\n",
       "\n",
       "    .dataframe thead th {\n",
       "        text-align: right;\n",
       "    }\n",
       "</style>\n",
       "<table border=\"1\" class=\"dataframe\">\n",
       "  <thead>\n",
       "    <tr style=\"text-align: right;\">\n",
       "      <th></th>\n",
       "      <th>Smiles</th>\n",
       "      <th>pChEMBL_Value</th>\n",
       "    </tr>\n",
       "  </thead>\n",
       "  <tbody>\n",
       "    <tr>\n",
       "      <th>0</th>\n",
       "      <td>Cc1nc(NC(=O)N2CC[C@H](O)[C@H]2C(N)=O)sc1-c1csc...</td>\n",
       "      <td>6.75</td>\n",
       "    </tr>\n",
       "    <tr>\n",
       "      <th>1</th>\n",
       "      <td>CCCN(C)Cc1ccc(-c2nnc3n2-c2cccnc2Nc2ccccc2-3)cc1</td>\n",
       "      <td>5.60</td>\n",
       "    </tr>\n",
       "    <tr>\n",
       "      <th>2</th>\n",
       "      <td>Cc1nc(N)nc(-c2c(Nc3cc[nH]n3)nc3ccc(-c4cccc(F)c...</td>\n",
       "      <td>7.14</td>\n",
       "    </tr>\n",
       "    <tr>\n",
       "      <th>3</th>\n",
       "      <td>CNS(=O)(=O)c1ccc(C(=O)N2CCOc3ccc(-c4ccc5nc[nH]...</td>\n",
       "      <td>6.09</td>\n",
       "    </tr>\n",
       "    <tr>\n",
       "      <th>4</th>\n",
       "      <td>NC[C@@H](Cc1ccccc1)NC(=O)c1cc(Br)c(-c2ccnc3[nH...</td>\n",
       "      <td>5.22</td>\n",
       "    </tr>\n",
       "  </tbody>\n",
       "</table>\n",
       "</div>"
      ],
      "text/plain": [
       "                                              Smiles  pChEMBL_Value\n",
       "0  Cc1nc(NC(=O)N2CC[C@H](O)[C@H]2C(N)=O)sc1-c1csc...           6.75\n",
       "1    CCCN(C)Cc1ccc(-c2nnc3n2-c2cccnc2Nc2ccccc2-3)cc1           5.60\n",
       "2  Cc1nc(N)nc(-c2c(Nc3cc[nH]n3)nc3ccc(-c4cccc(F)c...           7.14\n",
       "3  CNS(=O)(=O)c1ccc(C(=O)N2CCOc3ccc(-c4ccc5nc[nH]...           6.09\n",
       "4  NC[C@@H](Cc1ccccc1)NC(=O)c1cc(Br)c(-c2ccnc3[nH...           5.22"
      ]
     },
     "execution_count": 5,
     "metadata": {},
     "output_type": "execute_result"
    }
   ],
   "source": [
    "df.head()"
   ]
  },
  {
   "cell_type": "code",
   "execution_count": 6,
   "metadata": {},
   "outputs": [],
   "source": [
    "img = (ch.MolFromSmiles(df.iloc[1,0]))\n",
    "mol2 = ch.MolFromSmiles(df.iloc[1,1])"
   ]
  },
  {
   "cell_type": "code",
   "execution_count": 7,
   "metadata": {},
   "outputs": [
    {
     "data": {
      "image/png": "[encoded data removed]",
      "text/plain": [
       "<rdkit.Chem.rdchem.Mol at 0x24cb1bceee0>"
      ]
     },
     "execution_count": 7,
     "metadata": {},
     "output_type": "execute_result"
    }
   ],
   "source": [
    "img"
   ]
  },
  {
   "cell_type": "code",
   "execution_count": 8,
   "metadata": {
    "scrolled": true
   },
   "outputs": [
    {
     "data": {
      "image/png": "[encoded data removed]",
      "text/plain": [
       "<rdkit.Chem.rdchem.Mol at 0x24cb52d3d50>"
      ]
     },
     "execution_count": 8,
     "metadata": {},
     "output_type": "execute_result"
    }
   ],
   "source": [
    "mol2"
   ]
  },
  {
   "cell_type": "code",
   "execution_count": 9,
   "metadata": {},
   "outputs": [],
   "source": [
    "mol = []\n",
    "for smile in df['Initial']:\n",
    "    mol.append(ch.MolFromSmiles(smile))"
   ]
  },
  {
   "cell_type": "code",
   "execution_count": 10,
   "metadata": {},
   "outputs": [
    {
     "data": {
      "text/plain": [
       "count       316\n",
       "unique        1\n",
       "top       False\n",
       "freq        316\n",
       "Name: SweetSpot, dtype: object"
      ]
     },
     "execution_count": 10,
     "metadata": {},
     "output_type": "execute_result"
    }
   ],
   "source": [
    "logP = []\n",
    "mw = []\n",
    "tpsa = []\n",
    "ss = []\n",
    "for molecule in mol:\n",
    "    logP.append(Crippen.MolLogP(molecule))\n",
    "    mw.append(MolDescriptors.CalcExactMolWt(molecule))\n",
    "    tpsa.append(Descriptors.TPSA(molecule))\n",
    "df['logP'] = np.asarray(logP)\n",
    "df['MW'] = np.asarray(mw)\n",
    "df['tPSA'] = np.asarray(tpsa)\n",
    "df['SweetSpot'] = ((3<df['logP']) & (df['logP']<5)& (320<df['MW']) & (df['MW']<420) & (80<df['tPSA']) & (df['tPSA']<110))\n",
    "df['SweetSpot'].describe()"
   ]
  },
  {
   "cell_type": "code",
   "execution_count": 11,
   "metadata": {},
   "outputs": [
    {
     "data": {
      "text/plain": [
       "count       316\n",
       "unique        2\n",
       "top       False\n",
       "freq        302\n",
       "Name: SweetSpot, dtype: object"
      ]
     },
     "execution_count": 11,
     "metadata": {},
     "output_type": "execute_result"
    }
   ],
   "source": [
    "mol = []\n",
    "for smile in df[' Modified']:\n",
    "    mol.append(ch.MolFromSmiles(smile))\n",
    "logP = []\n",
    "mw = []\n",
    "tpsa = []\n",
    "ss = []\n",
    "for molecule in mol:\n",
    "    logP.append(Crippen.MolLogP(molecule))\n",
    "    mw.append(MolDescriptors.CalcExactMolWt(molecule))\n",
    "    tpsa.append(Descriptors.TPSA(molecule))\n",
    "df['logP'] = np.asarray(logP)\n",
    "df['MW'] = np.asarray(mw)\n",
    "df['tPSA'] = np.asarray(tpsa)\n",
    "df['SweetSpot'] = ((3<df['logP']) & (df['logP']<5)& (320<df['MW']) & (df['MW']<420) & (80<df['tPSA']) & (df['tPSA']<110))\n",
    "df['SweetSpot'].describe()"
   ]
  },
  {
   "cell_type": "code",
   "execution_count": 12,
   "metadata": {},
   "outputs": [],
   "source": [
    "new_df = df.loc[df.SweetSpot==True]"
   ]
  },
  {
   "cell_type": "code",
   "execution_count": 19,
   "metadata": {},
   "outputs": [],
   "source": [
    "mol1 = (ch.MolFromSmiles(new_df.iloc[1,0]))\n",
    "mol2 = ch.MolFromSmiles(new_df.iloc[1,1])"
   ]
  },
  {
   "cell_type": "code",
   "execution_count": 14,
   "metadata": {},
   "outputs": [
    {
     "name": "stdout",
     "output_type": "stream",
     "text": [
      "<rdkit.Chem.rdchem.Mol object at 0x0000024CB52C4850>\n"
     ]
    }
   ],
   "source": [
    "print(img)"
   ]
  },
  {
   "cell_type": "code",
   "execution_count": 18,
   "metadata": {},
   "outputs": [
    {
     "data": {
      "image/png": "[encoded data removed]",
      "text/plain": [
       "<rdkit.Chem.rdchem.Mol at 0x24cb52c4850>"
      ]
     },
     "execution_count": 18,
     "metadata": {},
     "output_type": "execute_result"
    }
   ],
   "source": [
    "img"
   ]
  },
  {
   "cell_type": "code",
   "execution_count": 20,
   "metadata": {},
   "outputs": [
    {
     "data": {
      "image/png": "[encoded data removed]",
      "text/plain": [
       "<rdkit.Chem.rdchem.Mol at 0x24cb8061030>"
      ]
     },
     "execution_count": 20,
     "metadata": {},
     "output_type": "execute_result"
    }
   ],
   "source": [
    "mol2"
   ]
  },
  {
   "cell_type": "code",
   "execution_count": 18,
   "metadata": {},
   "outputs": [],
   "source": [
    "import sys\n",
    "sys.path.insert(0, './Modules/')"
   ]
  },
  {
   "cell_type": "code",
   "execution_count": 3,
   "metadata": {},
   "outputs": [
    {
     "data": {
      "image/png": "[encoded data removed]",
      "text/plain": [
       "<rdkit.Chem.rdchem.Mol at 0x1ed2dedfb20>"
      ]
     },
     "execution_count": 3,
     "metadata": {},
     "output_type": "execute_result"
    }
   ],
   "source": [
    "import rewards\n",
    "import pandas as pd\n",
    "import rdkit.Chem as ch\n",
    "df = pd.read_csv('./out153.csv',engine=\"python\")\n",
    "mol = ch.MolFromSmiles(df.iloc[0,0])\n",
    "mol"
   ]
  },
  {
   "cell_type": "code",
   "execution_count": 5,
   "metadata": {
    "scrolled": true
   },
   "outputs": [
    {
     "data": {
      "image/png": "[encoded data removed]",
      "text/plain": [
       "<PIL.Image.Image image mode=RGBA size=200x200 at 0x12111570B00>"
      ]
     },
     "execution_count": 5,
     "metadata": {},
     "output_type": "execute_result"
    }
   ],
   "source": [
    "from rdkit.Chem import Draw\n",
    "ch.Draw.MolsToImage([mol], subImgSize=(200, 200))"
   ]
  },
  {
   "cell_type": "code",
   "execution_count": 4,
   "metadata": {
    "scrolled": true
   },
   "outputs": [
    {
     "data": {
      "text/html": [
       "<div>\n",
       "<style scoped>\n",
       "    .dataframe tbody tr th:only-of-type {\n",
       "        vertical-align: middle;\n",
       "    }\n",
       "\n",
       "    .dataframe tbody tr th {\n",
       "        vertical-align: top;\n",
       "    }\n",
       "\n",
       "    .dataframe thead th {\n",
       "        text-align: right;\n",
       "    }\n",
       "</style>\n",
       "<table border=\"1\" class=\"dataframe\">\n",
       "  <thead>\n",
       "    <tr style=\"text-align: right;\">\n",
       "      <th></th>\n",
       "      <th>Initial molecule</th>\n",
       "      <th>Modified molecule</th>\n",
       "    </tr>\n",
       "  </thead>\n",
       "  <tbody>\n",
       "    <tr>\n",
       "      <th>0</th>\n",
       "      <td>NC(=O)c1c(N)ncnc1N1CCC(c2nc(-c3cc(F)ccc3C(F)(F...</td>\n",
       "      <td>CC(=O)Nc1c(N)ncnc1N1C[C@H]2C[C@@]2(c2nc(-c3nc...</td>\n",
       "    </tr>\n",
       "    <tr>\n",
       "      <th>1</th>\n",
       "      <td>CCc1c(N)ncnc1N1CCC(c2nc(-c3cc(F)ccc3Cl)cn2CCN2...</td>\n",
       "      <td>CCCCCCOn1nc(N)nc1N1CCCC(c2cc(-c3nc(F)cn3Cl)cc...</td>\n",
       "    </tr>\n",
       "    <tr>\n",
       "      <th>2</th>\n",
       "      <td>Cc1ccc(-c2c(N)ncnc2N2CCC(c3nc(-c4cc(F)ccc4C(F)...</td>\n",
       "      <td>Cc1ccc(-c2c(N)ncnc2N2C[C@H]3C[C@@]3(c3nc(-c4c...</td>\n",
       "    </tr>\n",
       "    <tr>\n",
       "      <th>3</th>\n",
       "      <td>CCN(CC)c1nccc(-c2sc(C(=O)N[C@H]3CCCN3C(N)=O)nc...</td>\n",
       "      <td>NCc1c(-c2nc(NCCCCO)ncc2)cc(C(=O)N[C@H]2CCCN2C...</td>\n",
       "    </tr>\n",
       "    <tr>\n",
       "      <th>4</th>\n",
       "      <td>CCOc1ccc(Nc2nc3ccccn3c2-c2nc(C)nc(N)n2)cn1</td>\n",
       "      <td>CCOc1ccc(Nc2c(-c3nc(C#N)nc(I)n3)n3ccccc3n2)cn1</td>\n",
       "    </tr>\n",
       "  </tbody>\n",
       "</table>\n",
       "</div>"
      ],
      "text/plain": [
       "                                   Initial molecule   \\\n",
       "0  NC(=O)c1c(N)ncnc1N1CCC(c2nc(-c3cc(F)ccc3C(F)(F...   \n",
       "1  CCc1c(N)ncnc1N1CCC(c2nc(-c3cc(F)ccc3Cl)cn2CCN2...   \n",
       "2  Cc1ccc(-c2c(N)ncnc2N2CCC(c3nc(-c4cc(F)ccc4C(F)...   \n",
       "3  CCN(CC)c1nccc(-c2sc(C(=O)N[C@H]3CCCN3C(N)=O)nc...   \n",
       "4        CCOc1ccc(Nc2nc3ccccn3c2-c2nc(C)nc(N)n2)cn1    \n",
       "\n",
       "                                   Modified molecule  \n",
       "0   CC(=O)Nc1c(N)ncnc1N1C[C@H]2C[C@@]2(c2nc(-c3nc...  \n",
       "1   CCCCCCOn1nc(N)nc1N1CCCC(c2cc(-c3nc(F)cn3Cl)cc...  \n",
       "2   Cc1ccc(-c2c(N)ncnc2N2C[C@H]3C[C@@]3(c3nc(-c4c...  \n",
       "3   NCc1c(-c2nc(NCCCCO)ncc2)cc(C(=O)N[C@H]2CCCN2C...  \n",
       "4     CCOc1ccc(Nc2c(-c3nc(C#N)nc(I)n3)n3ccccc3n2)cn1  "
      ]
     },
     "execution_count": 4,
     "metadata": {},
     "output_type": "execute_result"
    }
   ],
   "source": [
    "df.head()"
   ]
  },
  {
   "cell_type": "code",
   "execution_count": null,
   "metadata": {},
   "outputs": [],
   "source": []
  },
  {
   "cell_type": "code",
   "execution_count": 5,
   "metadata": {},
   "outputs": [],
   "source": [
    "from rewards import bunch_evaluation\n",
    "moli = []\n",
    "molm = []\n",
    "for i in range(len(df)):\n",
    "    moli.append(ch.MolFromSmiles(df.iloc[i,0]))\n",
    "    molm.append(ch.MolFromSmiles(df.iloc[i,1]))"
   ]
  },
  {
   "cell_type": "code",
   "execution_count": 6,
   "metadata": {
    "tags": []
   },
   "outputs": [
    {
     "name": "stdout",
     "output_type": "stream",
     "text": [
      "Properties predicted for 305 molecules\n",
      " Evaluations completed\n",
      "Properties predicted for 305 molecules\n",
      " Evaluations completed\n"
     ]
    }
   ],
   "source": [
    "ini = bunch_evaluation(moli)\n",
    "mod = bunch_evaluation(molm)"
   ]
  },
  {
   "cell_type": "code",
   "execution_count": 27,
   "metadata": {},
   "outputs": [],
   "source": [
    "ini = np.asarray(ini)\n",
    "mod = np.asarray(mod)"
   ]
  },
  {
   "cell_type": "code",
   "execution_count": null,
   "metadata": {},
   "outputs": [],
   "source": [
    "#remember to change pIC50 conversion depending on the reward function"
   ]
  },
  {
   "cell_type": "code",
   "execution_count": 28,
   "metadata": {},
   "outputs": [],
   "source": [
    "changes = pd.DataFrame(data=np.transpose(np.asarray([(mod[:,1]*3+7),(ini[:,1]*3 +7)])),columns=['Modified','Initial']) "
   ]
  },
  {
   "cell_type": "code",
   "execution_count": 29,
   "metadata": {},
   "outputs": [
    {
     "data": {
      "text/html": [
       "<div>\n",
       "<style scoped>\n",
       "    .dataframe tbody tr th:only-of-type {\n",
       "        vertical-align: middle;\n",
       "    }\n",
       "\n",
       "    .dataframe tbody tr th {\n",
       "        vertical-align: top;\n",
       "    }\n",
       "\n",
       "    .dataframe thead th {\n",
       "        text-align: right;\n",
       "    }\n",
       "</style>\n",
       "<table border=\"1\" class=\"dataframe\">\n",
       "  <thead>\n",
       "    <tr style=\"text-align: right;\">\n",
       "      <th></th>\n",
       "      <th>Modified</th>\n",
       "      <th>Initial</th>\n",
       "    </tr>\n",
       "  </thead>\n",
       "  <tbody>\n",
       "    <tr>\n",
       "      <th>0</th>\n",
       "      <td>6.839906</td>\n",
       "      <td>7.133250</td>\n",
       "    </tr>\n",
       "    <tr>\n",
       "      <th>1</th>\n",
       "      <td>7.661039</td>\n",
       "      <td>8.094989</td>\n",
       "    </tr>\n",
       "    <tr>\n",
       "      <th>2</th>\n",
       "      <td>6.992800</td>\n",
       "      <td>6.307453</td>\n",
       "    </tr>\n",
       "    <tr>\n",
       "      <th>3</th>\n",
       "      <td>6.822444</td>\n",
       "      <td>7.555533</td>\n",
       "    </tr>\n",
       "    <tr>\n",
       "      <th>4</th>\n",
       "      <td>7.056073</td>\n",
       "      <td>7.114760</td>\n",
       "    </tr>\n",
       "  </tbody>\n",
       "</table>\n",
       "</div>"
      ],
      "text/plain": [
       "   Modified   Initial\n",
       "0  6.839906  7.133250\n",
       "1  7.661039  8.094989\n",
       "2  6.992800  6.307453\n",
       "3  6.822444  7.555533\n",
       "4  7.056073  7.114760"
      ]
     },
     "execution_count": 29,
     "metadata": {},
     "output_type": "execute_result"
    }
   ],
   "source": [
    "changes.head()"
   ]
  },
  {
   "cell_type": "code",
   "execution_count": 31,
   "metadata": {},
   "outputs": [],
   "source": [
    "changes['Delta'] = changes['Modified'] - changes['Initial']\n",
    "changes.sort_values(by='Delta',ascending=False,inplace=True)"
   ]
  },
  {
   "cell_type": "code",
   "execution_count": 57,
   "metadata": {},
   "outputs": [],
   "source": [
    "inact_to_act = changes.loc[(changes['Modified']>7) & (changes['Initial']<7),['Modified','Initial','Delta']].sort_values(by='Delta',ascending=False)"
   ]
  },
  {
   "cell_type": "code",
   "execution_count": 43,
   "metadata": {},
   "outputs": [
    {
     "data": {
      "text/html": [
       "<div>\n",
       "<style scoped>\n",
       "    .dataframe tbody tr th:only-of-type {\n",
       "        vertical-align: middle;\n",
       "    }\n",
       "\n",
       "    .dataframe tbody tr th {\n",
       "        vertical-align: top;\n",
       "    }\n",
       "\n",
       "    .dataframe thead th {\n",
       "        text-align: right;\n",
       "    }\n",
       "</style>\n",
       "<table border=\"1\" class=\"dataframe\">\n",
       "  <thead>\n",
       "    <tr style=\"text-align: right;\">\n",
       "      <th></th>\n",
       "      <th>Modified</th>\n",
       "      <th>Initial</th>\n",
       "      <th>Delta</th>\n",
       "    </tr>\n",
       "  </thead>\n",
       "  <tbody>\n",
       "    <tr>\n",
       "      <th>61</th>\n",
       "      <td>6.266838</td>\n",
       "      <td>3.624936</td>\n",
       "      <td>2.641902</td>\n",
       "    </tr>\n",
       "    <tr>\n",
       "      <th>168</th>\n",
       "      <td>6.746200</td>\n",
       "      <td>4.602422</td>\n",
       "      <td>2.143778</td>\n",
       "    </tr>\n",
       "    <tr>\n",
       "      <th>50</th>\n",
       "      <td>6.433924</td>\n",
       "      <td>4.540926</td>\n",
       "      <td>1.892998</td>\n",
       "    </tr>\n",
       "    <tr>\n",
       "      <th>122</th>\n",
       "      <td>6.191000</td>\n",
       "      <td>4.602422</td>\n",
       "      <td>1.588578</td>\n",
       "    </tr>\n",
       "    <tr>\n",
       "      <th>21</th>\n",
       "      <td>5.850533</td>\n",
       "      <td>4.561467</td>\n",
       "      <td>1.289067</td>\n",
       "    </tr>\n",
       "    <tr>\n",
       "      <th>84</th>\n",
       "      <td>6.393654</td>\n",
       "      <td>5.201288</td>\n",
       "      <td>1.192366</td>\n",
       "    </tr>\n",
       "    <tr>\n",
       "      <th>207</th>\n",
       "      <td>7.537467</td>\n",
       "      <td>6.352000</td>\n",
       "      <td>1.185467</td>\n",
       "    </tr>\n",
       "    <tr>\n",
       "      <th>42</th>\n",
       "      <td>7.314333</td>\n",
       "      <td>6.138750</td>\n",
       "      <td>1.175583</td>\n",
       "    </tr>\n",
       "    <tr>\n",
       "      <th>68</th>\n",
       "      <td>7.505867</td>\n",
       "      <td>6.352000</td>\n",
       "      <td>1.153867</td>\n",
       "    </tr>\n",
       "    <tr>\n",
       "      <th>210</th>\n",
       "      <td>8.129183</td>\n",
       "      <td>7.102867</td>\n",
       "      <td>1.026317</td>\n",
       "    </tr>\n",
       "  </tbody>\n",
       "</table>\n",
       "</div>"
      ],
      "text/plain": [
       "     Modified   Initial     Delta\n",
       "61   6.266838  3.624936  2.641902\n",
       "168  6.746200  4.602422  2.143778\n",
       "50   6.433924  4.540926  1.892998\n",
       "122  6.191000  4.602422  1.588578\n",
       "21   5.850533  4.561467  1.289067\n",
       "84   6.393654  5.201288  1.192366\n",
       "207  7.537467  6.352000  1.185467\n",
       "42   7.314333  6.138750  1.175583\n",
       "68   7.505867  6.352000  1.153867\n",
       "210  8.129183  7.102867  1.026317"
      ]
     },
     "execution_count": 43,
     "metadata": {},
     "output_type": "execute_result"
    }
   ],
   "source": [
    "changes.head(10)"
   ]
  },
  {
   "cell_type": "code",
   "execution_count": 44,
   "metadata": {},
   "outputs": [],
   "source": [
    "changes.to_csv('./out153_pIC.csv',index=False)"
   ]
  },
  {
   "cell_type": "code",
   "execution_count": 60,
   "metadata": {},
   "outputs": [],
   "source": [
    "inact_to_act.to_csv('./act_pIC153.csv',index=False)"
   ]
  },
  {
   "cell_type": "code",
   "execution_count": 73,
   "metadata": {},
   "outputs": [
    {
     "data": {
      "text/plain": [
       "[<matplotlib.lines.Line2D at 0x18b264f8080>,\n",
       " <matplotlib.lines.Line2D at 0x18b264f8208>]"
      ]
     },
     "execution_count": 73,
     "metadata": {},
     "output_type": "execute_result"
    },
    {
     "data": {
      "image/png": "[encoded data removed]",
      "text/plain": [
       "<Figure size 432x288 with 1 Axes>"
      ]
     },
     "metadata": {
      "needs_background": "light"
     },
     "output_type": "display_data"
    }
   ],
   "source": [
    "import matplotlib.pyplot as plt\n",
    "x = [4,5,6,7]\n",
    "y = x\n",
    "plt.xlabel('pIC50 initial')\n",
    "plt.ylabel('pIC50 final')\n",
    "plt.plot(changes['Initial'].iloc[0:10],changes['Modified'].iloc[0:10],x,y)"
   ]
  },
  {
   "cell_type": "code",
   "execution_count": 47,
   "metadata": {},
   "outputs": [
    {
     "data": {
      "image/png": "[encoded data removed]",
      "text/plain": [
       "<rdkit.Chem.rdchem.Mol at 0x18b20174170>"
      ]
     },
     "execution_count": 47,
     "metadata": {},
     "output_type": "execute_result"
    }
   ],
   "source": [
    "moli[207]"
   ]
  },
  {
   "cell_type": "code",
   "execution_count": 48,
   "metadata": {},
   "outputs": [
    {
     "data": {
      "image/png": "[encoded data removed]",
      "text/plain": [
       "<rdkit.Chem.rdchem.Mol at 0x18b201741c0>"
      ]
     },
     "execution_count": 48,
     "metadata": {},
     "output_type": "execute_result"
    }
   ],
   "source": [
    "molm[207]"
   ]
  },
  {
   "cell_type": "code",
   "execution_count": 9,
   "metadata": {},
   "outputs": [],
   "source": [
    "df = pd.read_csv('./Data/AKT_pchembl.csv')\n",
    "mol = []\n",
    "i = 1\n",
    "for smile in df['Smiles']:\n",
    "    if i>=6:\n",
    "        break\n",
    "    mol.append(ch.MolFromSmiles(smile))\n",
    "    i += 1"
   ]
  },
  {
   "cell_type": "code",
   "execution_count": 70,
   "metadata": {},
   "outputs": [
    {
     "data": {
      "text/plain": [
       "Modified    1046.061382\n",
       "Initial     1110.572553\n",
       "Delta        -64.511171\n",
       "dtype: float64"
      ]
     },
     "execution_count": 70,
     "metadata": {},
     "output_type": "execute_result"
    }
   ],
   "source": [
    "changes.loc[changes['Delta']<0].sum()"
   ]
  },
  {
   "cell_type": "code",
   "execution_count": 72,
   "metadata": {},
   "outputs": [
    {
     "data": {
      "text/plain": [
       "Modified    1007.102905\n",
       "Initial      945.802042\n",
       "Delta         61.300863\n",
       "dtype: float64"
      ]
     },
     "execution_count": 72,
     "metadata": {},
     "output_type": "execute_result"
    }
   ],
   "source": [
    "changes.loc[changes['Delta']>0].sum()"
   ]
  },
  {
   "cell_type": "markdown",
   "metadata": {},
   "source": [
    "<h2>Exponential run"
   ]
  },
  {
   "cell_type": "code",
   "execution_count": 2,
   "metadata": {},
   "outputs": [],
   "source": [
    "history = np.load('./history/history.npy')"
   ]
  },
  {
   "cell_type": "code",
   "execution_count": 3,
   "metadata": {},
   "outputs": [
    {
     "data": {
      "text/plain": [
       "(300, 4)"
      ]
     },
     "execution_count": 3,
     "metadata": {},
     "output_type": "execute_result"
    }
   ],
   "source": [
    "history.shape"
   ]
  },
  {
   "cell_type": "code",
   "execution_count": 14,
   "metadata": {
    "scrolled": true
   },
   "outputs": [
    {
     "data": {
      "text/plain": [
       "292"
      ]
     },
     "execution_count": 14,
     "metadata": {},
     "output_type": "execute_result"
    }
   ],
   "source": [
    "np.argmax(history[:,2])"
   ]
  },
  {
   "cell_type": "code",
   "execution_count": 15,
   "metadata": {},
   "outputs": [
    {
     "data": {
      "text/plain": [
       "0.03769776343136395"
      ]
     },
     "execution_count": 15,
     "metadata": {},
     "output_type": "execute_result"
    }
   ],
   "source": [
    "history[292,2]"
   ]
  },
  {
   "cell_type": "code",
   "execution_count": 16,
   "metadata": {},
   "outputs": [
    {
     "data": {
      "text/plain": [
       "93"
      ]
     },
     "execution_count": 16,
     "metadata": {},
     "output_type": "execute_result"
    }
   ],
   "source": [
    "np.argmax(history[:,0])"
   ]
  },
  {
   "cell_type": "code",
   "execution_count": 17,
   "metadata": {},
   "outputs": [
    {
     "data": {
      "text/plain": [
       "0.9566145350783835"
      ]
     },
     "execution_count": 17,
     "metadata": {},
     "output_type": "execute_result"
    }
   ],
   "source": [
    "history[93,0]"
   ]
  },
  {
   "cell_type": "code",
   "execution_count": 22,
   "metadata": {},
   "outputs": [],
   "source": [
    "import rewards\n",
    "import pandas as pd\n",
    "import rdkit.Chem as ch\n",
    "df = pd.read_csv('./out292.csv',engine=\"python\")"
   ]
  },
  {
   "cell_type": "code",
   "execution_count": 23,
   "metadata": {},
   "outputs": [
    {
     "data": {
      "text/html": [
       "<div>\n",
       "<style scoped>\n",
       "    .dataframe tbody tr th:only-of-type {\n",
       "        vertical-align: middle;\n",
       "    }\n",
       "\n",
       "    .dataframe tbody tr th {\n",
       "        vertical-align: top;\n",
       "    }\n",
       "\n",
       "    .dataframe thead th {\n",
       "        text-align: right;\n",
       "    }\n",
       "</style>\n",
       "<table border=\"1\" class=\"dataframe\">\n",
       "  <thead>\n",
       "    <tr style=\"text-align: right;\">\n",
       "      <th></th>\n",
       "      <th>Initial molecule</th>\n",
       "      <th>Modified molecule</th>\n",
       "    </tr>\n",
       "  </thead>\n",
       "  <tbody>\n",
       "    <tr>\n",
       "      <th>0</th>\n",
       "      <td>O=c1[nH]c2ncc(-c3ccc4[nH]ccc4c3)nc2n1CC1CCOCC1</td>\n",
       "      <td>c1cc2cc(-c3nc(CC4CCOCC4)c4cc[nH]c4n3)ccc2[nH]1</td>\n",
       "    </tr>\n",
       "    <tr>\n",
       "      <th>1</th>\n",
       "      <td>CC(=O)Nc1cc(Nc2cnn3c(C#N)cc(NC4CC4)nc23)cnc1C</td>\n",
       "      <td>CCCNc1nc2cc(C#N)cnc2n1Nc1ncc(C)c(NC(C)=O)n1</td>\n",
       "    </tr>\n",
       "    <tr>\n",
       "      <th>2</th>\n",
       "      <td>Nc1ncnc(C2CCN(n3cc(CCN4CCCC4)nc3-c3cc(F)ccc3C(...</td>\n",
       "      <td>Nc1ncnc([C@H]2CCCN(c3ccc(-c4cc(F)ccc4C(F)(F)F...</td>\n",
       "    </tr>\n",
       "    <tr>\n",
       "      <th>3</th>\n",
       "      <td>CCC(=O)N1CC[C@@H](Oc2ncnc3c2CN(c2ccc(OC)nc2)CC...</td>\n",
       "      <td>CCC(=O)N1CC[C@@H](ONC(=O)CNC(=O)c2ccc(O[11CH3...</td>\n",
       "    </tr>\n",
       "    <tr>\n",
       "      <th>4</th>\n",
       "      <td>CCc1nc2ccccc2n1-c1nc(N2CCOCC2)c2sc(CN3CCC(C(C)...</td>\n",
       "      <td>CCc1nc2ccccc2n1-c1nc(N2CCOCC2)c2sc(CN3CCC([C@...</td>\n",
       "    </tr>\n",
       "  </tbody>\n",
       "</table>\n",
       "</div>"
      ],
      "text/plain": [
       "                                   Initial molecule   \\\n",
       "0    O=c1[nH]c2ncc(-c3ccc4[nH]ccc4c3)nc2n1CC1CCOCC1    \n",
       "1     CC(=O)Nc1cc(Nc2cnn3c(C#N)cc(NC4CC4)nc23)cnc1C    \n",
       "2  Nc1ncnc(C2CCN(n3cc(CCN4CCCC4)nc3-c3cc(F)ccc3C(...   \n",
       "3  CCC(=O)N1CC[C@@H](Oc2ncnc3c2CN(c2ccc(OC)nc2)CC...   \n",
       "4  CCc1nc2ccccc2n1-c1nc(N2CCOCC2)c2sc(CN3CCC(C(C)...   \n",
       "\n",
       "                                   Modified molecule  \n",
       "0     c1cc2cc(-c3nc(CC4CCOCC4)c4cc[nH]c4n3)ccc2[nH]1  \n",
       "1        CCCNc1nc2cc(C#N)cnc2n1Nc1ncc(C)c(NC(C)=O)n1  \n",
       "2   Nc1ncnc([C@H]2CCCN(c3ccc(-c4cc(F)ccc4C(F)(F)F...  \n",
       "3   CCC(=O)N1CC[C@@H](ONC(=O)CNC(=O)c2ccc(O[11CH3...  \n",
       "4   CCc1nc2ccccc2n1-c1nc(N2CCOCC2)c2sc(CN3CCC([C@...  "
      ]
     },
     "execution_count": 23,
     "metadata": {},
     "output_type": "execute_result"
    }
   ],
   "source": [
    "df.head()"
   ]
  },
  {
   "cell_type": "code",
   "execution_count": 24,
   "metadata": {},
   "outputs": [],
   "source": [
    "from rewards import bunch_evaluation\n",
    "moli = []\n",
    "molm = []\n",
    "for i in range(len(df)):\n",
    "    moli.append(ch.MolFromSmiles(df.iloc[i,0]))\n",
    "    molm.append(ch.MolFromSmiles(df.iloc[i,1]))"
   ]
  },
  {
   "cell_type": "code",
   "execution_count": 25,
   "metadata": {
    "tags": []
   },
   "outputs": [
    {
     "name": "stderr",
     "output_type": "stream",
     "text": [
      "C:\\Users\\HP\\Anaconda3\\lib\\site-packages\\sklearn\\utils\\deprecation.py:143: FutureWarning: The sklearn.ensemble.forest module is  deprecated in version 0.22 and will be removed in version 0.24. The corresponding classes / functions should instead be imported from sklearn.ensemble. Anything that cannot be imported from sklearn.ensemble is now part of the private API.\n",
      "  warnings.warn(message, FutureWarning)\n",
      "C:\\Users\\HP\\Anaconda3\\lib\\site-packages\\sklearn\\utils\\deprecation.py:143: FutureWarning: The sklearn.tree.tree module is  deprecated in version 0.22 and will be removed in version 0.24. The corresponding classes / functions should instead be imported from sklearn.tree. Anything that cannot be imported from sklearn.tree is now part of the private API.\n",
      "  warnings.warn(message, FutureWarning)\n",
      "C:\\Users\\HP\\Anaconda3\\lib\\site-packages\\sklearn\\base.py:334: UserWarning: Trying to unpickle estimator DecisionTreeRegressor from version 0.20.2 when using version 0.23.1. This might lead to breaking code or invalid results. Use at your own risk.\n",
      "  UserWarning)\n",
      "C:\\Users\\HP\\Anaconda3\\lib\\site-packages\\sklearn\\base.py:334: UserWarning: Trying to unpickle estimator RandomForestRegressor from version 0.20.2 when using version 0.23.1. This might lead to breaking code or invalid results. Use at your own risk.\n",
      "  UserWarning)\n"
     ]
    },
    {
     "name": "stdout",
     "output_type": "stream",
     "text": [
      "Properties predicted for 335 molecules\n",
      " Evaluations completed\n",
      "Properties predicted for 331 molecules\n",
      " Evaluations completed\n"
     ]
    },
    {
     "name": "stderr",
     "output_type": "stream",
     "text": [
      "C:\\Users\\HP\\Anaconda3\\lib\\site-packages\\sklearn\\base.py:334: UserWarning: Trying to unpickle estimator DecisionTreeRegressor from version 0.20.2 when using version 0.23.1. This might lead to breaking code or invalid results. Use at your own risk.\n",
      "  UserWarning)\n",
      "C:\\Users\\HP\\Anaconda3\\lib\\site-packages\\sklearn\\base.py:334: UserWarning: Trying to unpickle estimator RandomForestRegressor from version 0.20.2 when using version 0.23.1. This might lead to breaking code or invalid results. Use at your own risk.\n",
      "  UserWarning)\n"
     ]
    }
   ],
   "source": [
    "ini = bunch_evaluation(moli)\n",
    "mod = bunch_evaluation(molm)"
   ]
  },
  {
   "cell_type": "code",
   "execution_count": 27,
   "metadata": {},
   "outputs": [],
   "source": [
    "ini = np.asarray(ini)\n",
    "mod = np.asarray(mod)"
   ]
  },
  {
   "cell_type": "code",
   "execution_count": 28,
   "metadata": {},
   "outputs": [],
   "source": [
    "#remember to change pIC50 conversion depending on the reward function"
   ]
  },
  {
   "cell_type": "code",
   "execution_count": 29,
   "metadata": {},
   "outputs": [
    {
     "name": "stderr",
     "output_type": "stream",
     "text": [
      "C:\\Users\\HP\\Anaconda3\\lib\\site-packages\\ipykernel_launcher.py:2: RuntimeWarning: divide by zero encountered in log\n",
      "  \n"
     ]
    }
   ],
   "source": [
    "import math\n",
    "changes = pd.DataFrame(data=np.transpose(np.asarray([np.log(mod[:,1]*(math.exp(3))),np.log(ini[:,1]*math.exp(3))])),columns=['Modified','Initial']) "
   ]
  },
  {
   "cell_type": "code",
   "execution_count": 31,
   "metadata": {},
   "outputs": [],
   "source": [
    "changes['Modified'] += 7\n",
    "changes['Initial'] += 7"
   ]
  },
  {
   "cell_type": "code",
   "execution_count": 32,
   "metadata": {},
   "outputs": [
    {
     "data": {
      "text/html": [
       "<div>\n",
       "<style scoped>\n",
       "    .dataframe tbody tr th:only-of-type {\n",
       "        vertical-align: middle;\n",
       "    }\n",
       "\n",
       "    .dataframe tbody tr th {\n",
       "        vertical-align: top;\n",
       "    }\n",
       "\n",
       "    .dataframe thead th {\n",
       "        text-align: right;\n",
       "    }\n",
       "</style>\n",
       "<table border=\"1\" class=\"dataframe\">\n",
       "  <thead>\n",
       "    <tr style=\"text-align: right;\">\n",
       "      <th></th>\n",
       "      <th>Modified</th>\n",
       "      <th>Initial</th>\n",
       "    </tr>\n",
       "  </thead>\n",
       "  <tbody>\n",
       "    <tr>\n",
       "      <th>0</th>\n",
       "      <td>6.957853</td>\n",
       "      <td>7.035200</td>\n",
       "    </tr>\n",
       "    <tr>\n",
       "      <th>1</th>\n",
       "      <td>6.680960</td>\n",
       "      <td>7.044200</td>\n",
       "    </tr>\n",
       "    <tr>\n",
       "      <th>2</th>\n",
       "      <td>6.895700</td>\n",
       "      <td>6.668800</td>\n",
       "    </tr>\n",
       "    <tr>\n",
       "      <th>3</th>\n",
       "      <td>7.060047</td>\n",
       "      <td>7.365533</td>\n",
       "    </tr>\n",
       "    <tr>\n",
       "      <th>4</th>\n",
       "      <td>7.433233</td>\n",
       "      <td>6.836400</td>\n",
       "    </tr>\n",
       "  </tbody>\n",
       "</table>\n",
       "</div>"
      ],
      "text/plain": [
       "   Modified   Initial\n",
       "0  6.957853  7.035200\n",
       "1  6.680960  7.044200\n",
       "2  6.895700  6.668800\n",
       "3  7.060047  7.365533\n",
       "4  7.433233  6.836400"
      ]
     },
     "execution_count": 32,
     "metadata": {},
     "output_type": "execute_result"
    }
   ],
   "source": [
    "changes.head()"
   ]
  },
  {
   "cell_type": "code",
   "execution_count": 33,
   "metadata": {},
   "outputs": [],
   "source": [
    "changes['Delta'] = changes['Modified'] - changes['Initial']\n",
    "changes.sort_values(by='Delta',ascending=False,inplace=True)"
   ]
  },
  {
   "cell_type": "code",
   "execution_count": 34,
   "metadata": {},
   "outputs": [],
   "source": [
    "inact_to_act = changes.loc[(changes['Modified']>7) & (changes['Initial']<7),['Modified','Initial','Delta']].sort_values(by='Delta',ascending=False)"
   ]
  },
  {
   "cell_type": "code",
   "execution_count": 35,
   "metadata": {},
   "outputs": [
    {
     "data": {
      "text/html": [
       "<div>\n",
       "<style scoped>\n",
       "    .dataframe tbody tr th:only-of-type {\n",
       "        vertical-align: middle;\n",
       "    }\n",
       "\n",
       "    .dataframe tbody tr th {\n",
       "        vertical-align: top;\n",
       "    }\n",
       "\n",
       "    .dataframe thead th {\n",
       "        text-align: right;\n",
       "    }\n",
       "</style>\n",
       "<table border=\"1\" class=\"dataframe\">\n",
       "  <thead>\n",
       "    <tr style=\"text-align: right;\">\n",
       "      <th></th>\n",
       "      <th>Modified</th>\n",
       "      <th>Initial</th>\n",
       "      <th>Delta</th>\n",
       "    </tr>\n",
       "  </thead>\n",
       "  <tbody>\n",
       "    <tr>\n",
       "      <th>180</th>\n",
       "      <td>7.878060</td>\n",
       "      <td>4.688333</td>\n",
       "      <td>3.189727</td>\n",
       "    </tr>\n",
       "    <tr>\n",
       "      <th>181</th>\n",
       "      <td>7.005000</td>\n",
       "      <td>4.073139</td>\n",
       "      <td>2.931861</td>\n",
       "    </tr>\n",
       "    <tr>\n",
       "      <th>155</th>\n",
       "      <td>7.629711</td>\n",
       "      <td>4.877200</td>\n",
       "      <td>2.752511</td>\n",
       "    </tr>\n",
       "    <tr>\n",
       "      <th>211</th>\n",
       "      <td>8.120000</td>\n",
       "      <td>5.683067</td>\n",
       "      <td>2.436933</td>\n",
       "    </tr>\n",
       "    <tr>\n",
       "      <th>192</th>\n",
       "      <td>7.639956</td>\n",
       "      <td>5.213124</td>\n",
       "      <td>2.426832</td>\n",
       "    </tr>\n",
       "    <tr>\n",
       "      <th>206</th>\n",
       "      <td>7.236156</td>\n",
       "      <td>4.856667</td>\n",
       "      <td>2.379489</td>\n",
       "    </tr>\n",
       "    <tr>\n",
       "      <th>116</th>\n",
       "      <td>7.997667</td>\n",
       "      <td>5.862542</td>\n",
       "      <td>2.135125</td>\n",
       "    </tr>\n",
       "    <tr>\n",
       "      <th>257</th>\n",
       "      <td>6.629733</td>\n",
       "      <td>4.602422</td>\n",
       "      <td>2.027311</td>\n",
       "    </tr>\n",
       "    <tr>\n",
       "      <th>326</th>\n",
       "      <td>6.511563</td>\n",
       "      <td>4.586430</td>\n",
       "      <td>1.925134</td>\n",
       "    </tr>\n",
       "    <tr>\n",
       "      <th>258</th>\n",
       "      <td>6.865239</td>\n",
       "      <td>5.117533</td>\n",
       "      <td>1.747706</td>\n",
       "    </tr>\n",
       "  </tbody>\n",
       "</table>\n",
       "</div>"
      ],
      "text/plain": [
       "     Modified   Initial     Delta\n",
       "180  7.878060  4.688333  3.189727\n",
       "181  7.005000  4.073139  2.931861\n",
       "155  7.629711  4.877200  2.752511\n",
       "211  8.120000  5.683067  2.436933\n",
       "192  7.639956  5.213124  2.426832\n",
       "206  7.236156  4.856667  2.379489\n",
       "116  7.997667  5.862542  2.135125\n",
       "257  6.629733  4.602422  2.027311\n",
       "326  6.511563  4.586430  1.925134\n",
       "258  6.865239  5.117533  1.747706"
      ]
     },
     "execution_count": 35,
     "metadata": {},
     "output_type": "execute_result"
    }
   ],
   "source": [
    "changes.head(10)"
   ]
  },
  {
   "cell_type": "code",
   "execution_count": 36,
   "metadata": {},
   "outputs": [],
   "source": [
    "changes.to_csv('./out292_pIC.csv',index=False)"
   ]
  },
  {
   "cell_type": "code",
   "execution_count": 37,
   "metadata": {},
   "outputs": [],
   "source": [
    "inact_to_act.to_csv('./act_pIC292.csv',index=False)"
   ]
  },
  {
   "cell_type": "code",
   "execution_count": 38,
   "metadata": {},
   "outputs": [
    {
     "data": {
      "text/html": [
       "<div>\n",
       "<style scoped>\n",
       "    .dataframe tbody tr th:only-of-type {\n",
       "        vertical-align: middle;\n",
       "    }\n",
       "\n",
       "    .dataframe tbody tr th {\n",
       "        vertical-align: top;\n",
       "    }\n",
       "\n",
       "    .dataframe thead th {\n",
       "        text-align: right;\n",
       "    }\n",
       "</style>\n",
       "<table border=\"1\" class=\"dataframe\">\n",
       "  <thead>\n",
       "    <tr style=\"text-align: right;\">\n",
       "      <th></th>\n",
       "      <th>Modified</th>\n",
       "      <th>Initial</th>\n",
       "      <th>Delta</th>\n",
       "    </tr>\n",
       "  </thead>\n",
       "  <tbody>\n",
       "    <tr>\n",
       "      <th>180</th>\n",
       "      <td>7.878060</td>\n",
       "      <td>4.688333</td>\n",
       "      <td>3.189727</td>\n",
       "    </tr>\n",
       "    <tr>\n",
       "      <th>181</th>\n",
       "      <td>7.005000</td>\n",
       "      <td>4.073139</td>\n",
       "      <td>2.931861</td>\n",
       "    </tr>\n",
       "    <tr>\n",
       "      <th>155</th>\n",
       "      <td>7.629711</td>\n",
       "      <td>4.877200</td>\n",
       "      <td>2.752511</td>\n",
       "    </tr>\n",
       "    <tr>\n",
       "      <th>211</th>\n",
       "      <td>8.120000</td>\n",
       "      <td>5.683067</td>\n",
       "      <td>2.436933</td>\n",
       "    </tr>\n",
       "    <tr>\n",
       "      <th>192</th>\n",
       "      <td>7.639956</td>\n",
       "      <td>5.213124</td>\n",
       "      <td>2.426832</td>\n",
       "    </tr>\n",
       "  </tbody>\n",
       "</table>\n",
       "</div>"
      ],
      "text/plain": [
       "     Modified   Initial     Delta\n",
       "180  7.878060  4.688333  3.189727\n",
       "181  7.005000  4.073139  2.931861\n",
       "155  7.629711  4.877200  2.752511\n",
       "211  8.120000  5.683067  2.436933\n",
       "192  7.639956  5.213124  2.426832"
      ]
     },
     "execution_count": 38,
     "metadata": {},
     "output_type": "execute_result"
    }
   ],
   "source": [
    "inact_to_act.head()"
   ]
  },
  {
   "cell_type": "code",
   "execution_count": 39,
   "metadata": {},
   "outputs": [
    {
     "data": {
      "text/plain": [
       "[<matplotlib.lines.Line2D at 0x2175f31f1d0>,\n",
       " <matplotlib.lines.Line2D at 0x2175f31f320>]"
      ]
     },
     "execution_count": 39,
     "metadata": {},
     "output_type": "execute_result"
    },
    {
     "data": {
      "image/png": "[encoded data removed]",
      "text/plain": [
       "<Figure size 432x288 with 1 Axes>"
      ]
     },
     "metadata": {
      "needs_background": "light"
     },
     "output_type": "display_data"
    }
   ],
   "source": [
    "import matplotlib.pyplot as plt\n",
    "x = [4,5,6,7]\n",
    "y = x\n",
    "plt.xlabel('pIC50 initial')\n",
    "plt.ylabel('pIC50 final')\n",
    "plt.plot(changes['Initial'].iloc[0:10],changes['Modified'].iloc[0:10],x,y)"
   ]
  },
  {
   "cell_type": "code",
   "execution_count": 44,
   "metadata": {},
   "outputs": [],
   "source": [
    "new = changes.sort_values(by='Delta',ascending=True,inplace=False)"
   ]
  },
  {
   "cell_type": "code",
   "execution_count": 45,
   "metadata": {},
   "outputs": [
    {
     "data": {
      "text/html": [
       "<div>\n",
       "<style scoped>\n",
       "    .dataframe tbody tr th:only-of-type {\n",
       "        vertical-align: middle;\n",
       "    }\n",
       "\n",
       "    .dataframe tbody tr th {\n",
       "        vertical-align: top;\n",
       "    }\n",
       "\n",
       "    .dataframe thead th {\n",
       "        text-align: right;\n",
       "    }\n",
       "</style>\n",
       "<table border=\"1\" class=\"dataframe\">\n",
       "  <thead>\n",
       "    <tr style=\"text-align: right;\">\n",
       "      <th></th>\n",
       "      <th>Modified</th>\n",
       "      <th>Initial</th>\n",
       "      <th>Delta</th>\n",
       "    </tr>\n",
       "  </thead>\n",
       "  <tbody>\n",
       "    <tr>\n",
       "      <th>147</th>\n",
       "      <td>-inf</td>\n",
       "      <td>6.224330</td>\n",
       "      <td>-inf</td>\n",
       "    </tr>\n",
       "    <tr>\n",
       "      <th>30</th>\n",
       "      <td>-inf</td>\n",
       "      <td>6.982029</td>\n",
       "      <td>-inf</td>\n",
       "    </tr>\n",
       "    <tr>\n",
       "      <th>92</th>\n",
       "      <td>-inf</td>\n",
       "      <td>6.373467</td>\n",
       "      <td>-inf</td>\n",
       "    </tr>\n",
       "    <tr>\n",
       "      <th>283</th>\n",
       "      <td>-inf</td>\n",
       "      <td>7.640133</td>\n",
       "      <td>-inf</td>\n",
       "    </tr>\n",
       "    <tr>\n",
       "      <th>327</th>\n",
       "      <td>5.234567</td>\n",
       "      <td>7.675933</td>\n",
       "      <td>-2.441367</td>\n",
       "    </tr>\n",
       "  </tbody>\n",
       "</table>\n",
       "</div>"
      ],
      "text/plain": [
       "     Modified   Initial     Delta\n",
       "147      -inf  6.224330      -inf\n",
       "30       -inf  6.982029      -inf\n",
       "92       -inf  6.373467      -inf\n",
       "283      -inf  7.640133      -inf\n",
       "327  5.234567  7.675933 -2.441367"
      ]
     },
     "execution_count": 45,
     "metadata": {},
     "output_type": "execute_result"
    }
   ],
   "source": [
    "new.head()"
   ]
  },
  {
   "cell_type": "code",
   "execution_count": 42,
   "metadata": {},
   "outputs": [
    {
     "data": {
      "text/plain": [
       "Modified    169\n",
       "Initial     169\n",
       "Delta       169\n",
       "dtype: int64"
      ]
     },
     "execution_count": 42,
     "metadata": {},
     "output_type": "execute_result"
    }
   ],
   "source": [
    "changes.loc[changes['Delta']<0].count()"
   ]
  },
  {
   "cell_type": "code",
   "execution_count": 43,
   "metadata": {},
   "outputs": [
    {
     "data": {
      "text/plain": [
       "Modified    162\n",
       "Initial     162\n",
       "Delta       162\n",
       "dtype: int64"
      ]
     },
     "execution_count": 43,
     "metadata": {},
     "output_type": "execute_result"
    }
   ],
   "source": [
    "changes.loc[changes['Delta']>0].count()"
   ]
  },
  {
   "cell_type": "markdown",
   "metadata": {},
   "source": [
    "<h3>final epoch results"
   ]
  },
  {
   "cell_type": "code",
   "execution_count": 5,
   "metadata": {},
   "outputs": [
    {
     "data": {
      "text/html": [
       "<div>\n",
       "<style scoped>\n",
       "    .dataframe tbody tr th:only-of-type {\n",
       "        vertical-align: middle;\n",
       "    }\n",
       "\n",
       "    .dataframe tbody tr th {\n",
       "        vertical-align: top;\n",
       "    }\n",
       "\n",
       "    .dataframe thead th {\n",
       "        text-align: right;\n",
       "    }\n",
       "</style>\n",
       "<table border=\"1\" class=\"dataframe\">\n",
       "  <thead>\n",
       "    <tr style=\"text-align: right;\">\n",
       "      <th></th>\n",
       "      <th>Initial molecule</th>\n",
       "      <th>Modified molecule</th>\n",
       "    </tr>\n",
       "  </thead>\n",
       "  <tbody>\n",
       "    <tr>\n",
       "      <th>0</th>\n",
       "      <td>NC(=O)c1ccc(N2CCN(c3cccc(C(F)(F)F)c3)CC2)c2cnc...</td>\n",
       "      <td>NC(=O)c1ccc(N2CCN(c3cccc(CC(F)(F)F)c3)CC2)c2c...</td>\n",
       "    </tr>\n",
       "    <tr>\n",
       "      <th>1</th>\n",
       "      <td>CCc1c(N)ncnc1N1CCC(c2nc(-c3cc(F)ccc3C)cn2CC2CN...</td>\n",
       "      <td>CCn1nc(N)nc1N1CCCC(c2cc(-c3nc(F)cn3CC(=O)O)cc...</td>\n",
       "    </tr>\n",
       "    <tr>\n",
       "      <th>2</th>\n",
       "      <td>CC(=O)Nc1nc(C)c(-c2cnc(Sc3cccnc3)o2)s1</td>\n",
       "      <td>CC(=O)Nc1nc(C)c(-c2ccc(Sc3cccnn3)o2)s1</td>\n",
       "    </tr>\n",
       "    <tr>\n",
       "      <th>3</th>\n",
       "      <td>O=C(Cc1cc(=O)[nH]c(N2CCOCC2)n1)Nc1cccc(C(F)(F)...</td>\n",
       "      <td>O=C(Cc1cc(=O)[nH]c(N2CCOCC2)n1)Nc1ccnc(OC(F)(...</td>\n",
       "    </tr>\n",
       "    <tr>\n",
       "      <th>4</th>\n",
       "      <td>Nc1ncccc1-c1nc2ccc(-c3ccccc3)nc2n1-c1ccc(CNC(=...</td>\n",
       "      <td>Nc1ncccc1-c1nc2ccc(-c3cncnc3)nc2n1-c1ccc(CNC(...</td>\n",
       "    </tr>\n",
       "  </tbody>\n",
       "</table>\n",
       "</div>"
      ],
      "text/plain": [
       "                                   Initial molecule   \\\n",
       "0  NC(=O)c1ccc(N2CCN(c3cccc(C(F)(F)F)c3)CC2)c2cnc...   \n",
       "1  CCc1c(N)ncnc1N1CCC(c2nc(-c3cc(F)ccc3C)cn2CC2CN...   \n",
       "2            CC(=O)Nc1nc(C)c(-c2cnc(Sc3cccnc3)o2)s1    \n",
       "3  O=C(Cc1cc(=O)[nH]c(N2CCOCC2)n1)Nc1cccc(C(F)(F)...   \n",
       "4  Nc1ncccc1-c1nc2ccc(-c3ccccc3)nc2n1-c1ccc(CNC(=...   \n",
       "\n",
       "                                   Modified molecule  \n",
       "0   NC(=O)c1ccc(N2CCN(c3cccc(CC(F)(F)F)c3)CC2)c2c...  \n",
       "1   CCn1nc(N)nc1N1CCCC(c2cc(-c3nc(F)cn3CC(=O)O)cc...  \n",
       "2             CC(=O)Nc1nc(C)c(-c2ccc(Sc3cccnn3)o2)s1  \n",
       "3   O=C(Cc1cc(=O)[nH]c(N2CCOCC2)n1)Nc1ccnc(OC(F)(...  \n",
       "4   Nc1ncccc1-c1nc2ccc(-c3cncnc3)nc2n1-c1ccc(CNC(...  "
      ]
     },
     "execution_count": 5,
     "metadata": {},
     "output_type": "execute_result"
    }
   ],
   "source": [
    "import rewards\n",
    "import pandas as pd\n",
    "import rdkit.Chem as ch\n",
    "df = pd.read_csv('./past outputs/out299.csv',engine=\"python\")\n",
    "df.head()"
   ]
  },
  {
   "cell_type": "code",
   "execution_count": 6,
   "metadata": {},
   "outputs": [
    {
     "name": "stderr",
     "output_type": "stream",
     "text": [
      "C:\\Users\\HP\\Anaconda3\\lib\\site-packages\\sklearn\\utils\\deprecation.py:143: FutureWarning: The sklearn.ensemble.forest module is  deprecated in version 0.22 and will be removed in version 0.24. The corresponding classes / functions should instead be imported from sklearn.ensemble. Anything that cannot be imported from sklearn.ensemble is now part of the private API.\n",
      "  warnings.warn(message, FutureWarning)\n",
      "C:\\Users\\HP\\Anaconda3\\lib\\site-packages\\sklearn\\utils\\deprecation.py:143: FutureWarning: The sklearn.tree.tree module is  deprecated in version 0.22 and will be removed in version 0.24. The corresponding classes / functions should instead be imported from sklearn.tree. Anything that cannot be imported from sklearn.tree is now part of the private API.\n",
      "  warnings.warn(message, FutureWarning)\n",
      "C:\\Users\\HP\\Anaconda3\\lib\\site-packages\\sklearn\\base.py:334: UserWarning: Trying to unpickle estimator DecisionTreeRegressor from version 0.20.2 when using version 0.23.1. This might lead to breaking code or invalid results. Use at your own risk.\n",
      "  UserWarning)\n",
      "C:\\Users\\HP\\Anaconda3\\lib\\site-packages\\sklearn\\base.py:334: UserWarning: Trying to unpickle estimator RandomForestRegressor from version 0.20.2 when using version 0.23.1. This might lead to breaking code or invalid results. Use at your own risk.\n",
      "  UserWarning)\n"
     ]
    },
    {
     "name": "stdout",
     "output_type": "stream",
     "text": [
      "Properties predicted for 322 molecules\n",
      " Evaluations completed\n",
      "Properties predicted for 322 molecules\n",
      " Evaluations completed\n"
     ]
    },
    {
     "name": "stderr",
     "output_type": "stream",
     "text": [
      "C:\\Users\\HP\\Anaconda3\\lib\\site-packages\\sklearn\\base.py:334: UserWarning: Trying to unpickle estimator DecisionTreeRegressor from version 0.20.2 when using version 0.23.1. This might lead to breaking code or invalid results. Use at your own risk.\n",
      "  UserWarning)\n",
      "C:\\Users\\HP\\Anaconda3\\lib\\site-packages\\sklearn\\base.py:334: UserWarning: Trying to unpickle estimator RandomForestRegressor from version 0.20.2 when using version 0.23.1. This might lead to breaking code or invalid results. Use at your own risk.\n",
      "  UserWarning)\n"
     ]
    }
   ],
   "source": [
    "moli = []\n",
    "molm = []\n",
    "for i in range(len(df)):\n",
    "    moli.append(ch.MolFromSmiles(df.iloc[i,0]))\n",
    "    molm.append(ch.MolFromSmiles(df.iloc[i,1]))\n",
    "ini = bunch_evaluation(moli)\n",
    "mod = bunch_evaluation(molm)"
   ]
  },
  {
   "cell_type": "code",
   "execution_count": 9,
   "metadata": {},
   "outputs": [],
   "source": [
    "import math\n",
    "ini = np.asarray(ini)\n",
    "new_ini = np.log(ini[:,1]*math.exp(3)) + 7"
   ]
  },
  {
   "cell_type": "code",
   "execution_count": 11,
   "metadata": {},
   "outputs": [],
   "source": [
    "mod = np.asarray(mod)\n",
    "new_mod = np.log(mod[:,1]*math.exp(3)) + 7"
   ]
  },
  {
   "cell_type": "code",
   "execution_count": 28,
   "metadata": {},
   "outputs": [],
   "source": [
    "#remember to change pIC50 conversion depending on the reward function"
   ]
  },
  {
   "cell_type": "code",
   "execution_count": 12,
   "metadata": {},
   "outputs": [],
   "source": [
    "import math\n",
    "changes = pd.DataFrame(data=np.transpose(np.asarray([new_mod,new_ini])),columns=['Modified','Initial']) "
   ]
  },
  {
   "cell_type": "code",
   "execution_count": 31,
   "metadata": {},
   "outputs": [],
   "source": [
    "c"
   ]
  },
  {
   "cell_type": "code",
   "execution_count": 13,
   "metadata": {},
   "outputs": [
    {
     "data": {
      "text/html": [
       "<div>\n",
       "<style scoped>\n",
       "    .dataframe tbody tr th:only-of-type {\n",
       "        vertical-align: middle;\n",
       "    }\n",
       "\n",
       "    .dataframe tbody tr th {\n",
       "        vertical-align: top;\n",
       "    }\n",
       "\n",
       "    .dataframe thead th {\n",
       "        text-align: right;\n",
       "    }\n",
       "</style>\n",
       "<table border=\"1\" class=\"dataframe\">\n",
       "  <thead>\n",
       "    <tr style=\"text-align: right;\">\n",
       "      <th></th>\n",
       "      <th>Modified</th>\n",
       "      <th>Initial</th>\n",
       "    </tr>\n",
       "  </thead>\n",
       "  <tbody>\n",
       "    <tr>\n",
       "      <th>0</th>\n",
       "      <td>6.258733</td>\n",
       "      <td>5.943600</td>\n",
       "    </tr>\n",
       "    <tr>\n",
       "      <th>1</th>\n",
       "      <td>6.744733</td>\n",
       "      <td>7.997644</td>\n",
       "    </tr>\n",
       "    <tr>\n",
       "      <th>2</th>\n",
       "      <td>7.188200</td>\n",
       "      <td>7.172533</td>\n",
       "    </tr>\n",
       "    <tr>\n",
       "      <th>3</th>\n",
       "      <td>6.185809</td>\n",
       "      <td>5.653519</td>\n",
       "    </tr>\n",
       "    <tr>\n",
       "      <th>4</th>\n",
       "      <td>5.663200</td>\n",
       "      <td>6.124267</td>\n",
       "    </tr>\n",
       "  </tbody>\n",
       "</table>\n",
       "</div>"
      ],
      "text/plain": [
       "   Modified   Initial\n",
       "0  6.258733  5.943600\n",
       "1  6.744733  7.997644\n",
       "2  7.188200  7.172533\n",
       "3  6.185809  5.653519\n",
       "4  5.663200  6.124267"
      ]
     },
     "execution_count": 13,
     "metadata": {},
     "output_type": "execute_result"
    }
   ],
   "source": [
    "changes.head()"
   ]
  },
  {
   "cell_type": "code",
   "execution_count": 14,
   "metadata": {},
   "outputs": [],
   "source": [
    "changes['Delta'] = changes['Modified'] - changes['Initial']\n",
    "changes.sort_values(by='Delta',ascending=False,inplace=True)"
   ]
  },
  {
   "cell_type": "code",
   "execution_count": 15,
   "metadata": {},
   "outputs": [],
   "source": [
    "inact_to_act = changes.loc[(changes['Modified']>7) & (changes['Initial']<7),['Modified','Initial','Delta']].sort_values(by='Delta',ascending=False)"
   ]
  },
  {
   "cell_type": "code",
   "execution_count": 16,
   "metadata": {},
   "outputs": [
    {
     "data": {
      "text/html": [
       "<div>\n",
       "<style scoped>\n",
       "    .dataframe tbody tr th:only-of-type {\n",
       "        vertical-align: middle;\n",
       "    }\n",
       "\n",
       "    .dataframe tbody tr th {\n",
       "        vertical-align: top;\n",
       "    }\n",
       "\n",
       "    .dataframe thead th {\n",
       "        text-align: right;\n",
       "    }\n",
       "</style>\n",
       "<table border=\"1\" class=\"dataframe\">\n",
       "  <thead>\n",
       "    <tr style=\"text-align: right;\">\n",
       "      <th></th>\n",
       "      <th>Modified</th>\n",
       "      <th>Initial</th>\n",
       "      <th>Delta</th>\n",
       "    </tr>\n",
       "  </thead>\n",
       "  <tbody>\n",
       "    <tr>\n",
       "      <th>142</th>\n",
       "      <td>6.985400</td>\n",
       "      <td>5.240617</td>\n",
       "      <td>1.744783</td>\n",
       "    </tr>\n",
       "    <tr>\n",
       "      <th>305</th>\n",
       "      <td>6.258959</td>\n",
       "      <td>4.540926</td>\n",
       "      <td>1.718033</td>\n",
       "    </tr>\n",
       "    <tr>\n",
       "      <th>127</th>\n",
       "      <td>6.978289</td>\n",
       "      <td>5.410350</td>\n",
       "      <td>1.567939</td>\n",
       "    </tr>\n",
       "    <tr>\n",
       "      <th>104</th>\n",
       "      <td>6.247933</td>\n",
       "      <td>4.688333</td>\n",
       "      <td>1.559600</td>\n",
       "    </tr>\n",
       "    <tr>\n",
       "      <th>176</th>\n",
       "      <td>8.206911</td>\n",
       "      <td>6.683533</td>\n",
       "      <td>1.523378</td>\n",
       "    </tr>\n",
       "    <tr>\n",
       "      <th>45</th>\n",
       "      <td>7.009950</td>\n",
       "      <td>5.515672</td>\n",
       "      <td>1.494278</td>\n",
       "    </tr>\n",
       "    <tr>\n",
       "      <th>96</th>\n",
       "      <td>7.184411</td>\n",
       "      <td>5.743600</td>\n",
       "      <td>1.440811</td>\n",
       "    </tr>\n",
       "    <tr>\n",
       "      <th>84</th>\n",
       "      <td>6.601525</td>\n",
       "      <td>5.201288</td>\n",
       "      <td>1.400236</td>\n",
       "    </tr>\n",
       "    <tr>\n",
       "      <th>122</th>\n",
       "      <td>6.154267</td>\n",
       "      <td>4.767467</td>\n",
       "      <td>1.386800</td>\n",
       "    </tr>\n",
       "    <tr>\n",
       "      <th>111</th>\n",
       "      <td>7.019522</td>\n",
       "      <td>5.741271</td>\n",
       "      <td>1.278251</td>\n",
       "    </tr>\n",
       "  </tbody>\n",
       "</table>\n",
       "</div>"
      ],
      "text/plain": [
       "     Modified   Initial     Delta\n",
       "142  6.985400  5.240617  1.744783\n",
       "305  6.258959  4.540926  1.718033\n",
       "127  6.978289  5.410350  1.567939\n",
       "104  6.247933  4.688333  1.559600\n",
       "176  8.206911  6.683533  1.523378\n",
       "45   7.009950  5.515672  1.494278\n",
       "96   7.184411  5.743600  1.440811\n",
       "84   6.601525  5.201288  1.400236\n",
       "122  6.154267  4.767467  1.386800\n",
       "111  7.019522  5.741271  1.278251"
      ]
     },
     "execution_count": 16,
     "metadata": {},
     "output_type": "execute_result"
    }
   ],
   "source": [
    "changes.head(10)"
   ]
  },
  {
   "cell_type": "code",
   "execution_count": 17,
   "metadata": {},
   "outputs": [],
   "source": [
    "changes.to_csv('./out299_pIC.csv',index=False)"
   ]
  },
  {
   "cell_type": "code",
   "execution_count": 18,
   "metadata": {},
   "outputs": [],
   "source": [
    "inact_to_act.to_csv('./act_pIC299.csv',index=False)"
   ]
  },
  {
   "cell_type": "code",
   "execution_count": 19,
   "metadata": {},
   "outputs": [
    {
     "data": {
      "text/html": [
       "<div>\n",
       "<style scoped>\n",
       "    .dataframe tbody tr th:only-of-type {\n",
       "        vertical-align: middle;\n",
       "    }\n",
       "\n",
       "    .dataframe tbody tr th {\n",
       "        vertical-align: top;\n",
       "    }\n",
       "\n",
       "    .dataframe thead th {\n",
       "        text-align: right;\n",
       "    }\n",
       "</style>\n",
       "<table border=\"1\" class=\"dataframe\">\n",
       "  <thead>\n",
       "    <tr style=\"text-align: right;\">\n",
       "      <th></th>\n",
       "      <th>Modified</th>\n",
       "      <th>Initial</th>\n",
       "      <th>Delta</th>\n",
       "    </tr>\n",
       "  </thead>\n",
       "  <tbody>\n",
       "    <tr>\n",
       "      <th>176</th>\n",
       "      <td>8.206911</td>\n",
       "      <td>6.683533</td>\n",
       "      <td>1.523378</td>\n",
       "    </tr>\n",
       "    <tr>\n",
       "      <th>45</th>\n",
       "      <td>7.009950</td>\n",
       "      <td>5.515672</td>\n",
       "      <td>1.494278</td>\n",
       "    </tr>\n",
       "    <tr>\n",
       "      <th>96</th>\n",
       "      <td>7.184411</td>\n",
       "      <td>5.743600</td>\n",
       "      <td>1.440811</td>\n",
       "    </tr>\n",
       "    <tr>\n",
       "      <th>111</th>\n",
       "      <td>7.019522</td>\n",
       "      <td>5.741271</td>\n",
       "      <td>1.278251</td>\n",
       "    </tr>\n",
       "    <tr>\n",
       "      <th>315</th>\n",
       "      <td>7.046802</td>\n",
       "      <td>5.854000</td>\n",
       "      <td>1.192802</td>\n",
       "    </tr>\n",
       "  </tbody>\n",
       "</table>\n",
       "</div>"
      ],
      "text/plain": [
       "     Modified   Initial     Delta\n",
       "176  8.206911  6.683533  1.523378\n",
       "45   7.009950  5.515672  1.494278\n",
       "96   7.184411  5.743600  1.440811\n",
       "111  7.019522  5.741271  1.278251\n",
       "315  7.046802  5.854000  1.192802"
      ]
     },
     "execution_count": 19,
     "metadata": {},
     "output_type": "execute_result"
    }
   ],
   "source": [
    "inact_to_act.head()"
   ]
  },
  {
   "cell_type": "code",
   "execution_count": 20,
   "metadata": {},
   "outputs": [
    {
     "data": {
      "text/plain": [
       "[<matplotlib.lines.Line2D at 0x1fd611c7940>,\n",
       " <matplotlib.lines.Line2D at 0x1fd611c7a90>]"
      ]
     },
     "execution_count": 20,
     "metadata": {},
     "output_type": "execute_result"
    },
    {
     "data": {
      "image/png": "[encoded data removed]",
      "text/plain": [
       "<Figure size 432x288 with 1 Axes>"
      ]
     },
     "metadata": {
      "needs_background": "light"
     },
     "output_type": "display_data"
    }
   ],
   "source": [
    "import matplotlib.pyplot as plt\n",
    "x = [4,5,6,7]\n",
    "y = x\n",
    "plt.xlabel('pIC50 initial')\n",
    "plt.ylabel('pIC50 final')\n",
    "plt.plot(changes['Initial'].iloc[0:10],changes['Modified'].iloc[0:10],x,y)"
   ]
  },
  {
   "cell_type": "code",
   "execution_count": 22,
   "metadata": {},
   "outputs": [
    {
     "data": {
      "text/plain": [
       "(array([ 3., 14., 16., 44., 90., 80., 41., 17., 10.,  7.]),\n",
       " array([-1.68285238, -1.34008887, -0.99732537, -0.65456186, -0.31179835,\n",
       "         0.03096516,  0.37372867,  0.71649217,  1.05925568,  1.40201919,\n",
       "         1.7447827 ]),\n",
       " <a list of 10 Patch objects>)"
      ]
     },
     "execution_count": 22,
     "metadata": {},
     "output_type": "execute_result"
    },
    {
     "data": {
      "image/png": "[encoded data removed]",
      "text/plain": [
       "<Figure size 432x288 with 1 Axes>"
      ]
     },
     "metadata": {
      "needs_background": "light"
     },
     "output_type": "display_data"
    }
   ],
   "source": [
    "plt.hist(changes['Delta'])"
   ]
  },
  {
   "cell_type": "code",
   "execution_count": null,
   "metadata": {},
   "outputs": [],
   "source": []
  },
  {
   "cell_type": "code",
   "execution_count": 23,
   "metadata": {},
   "outputs": [
    {
     "data": {
      "text/plain": [
       "Modified    154\n",
       "Initial     154\n",
       "Delta       154\n",
       "dtype: int64"
      ]
     },
     "execution_count": 23,
     "metadata": {},
     "output_type": "execute_result"
    }
   ],
   "source": [
    "changes.loc[changes['Delta']<0].count()"
   ]
  },
  {
   "cell_type": "code",
   "execution_count": 24,
   "metadata": {},
   "outputs": [
    {
     "data": {
      "text/plain": [
       "Modified    165\n",
       "Initial     165\n",
       "Delta       165\n",
       "dtype: int64"
      ]
     },
     "execution_count": 24,
     "metadata": {},
     "output_type": "execute_result"
    }
   ],
   "source": [
    "changes.loc[changes['Delta']>0].count()"
   ]
  },
  {
   "cell_type": "markdown",
   "metadata": {},
   "source": [
    "<h1>pIC>8"
   ]
  },
  {
   "cell_type": "code",
   "execution_count": 13,
   "metadata": {},
   "outputs": [
    {
     "data": {
      "text/plain": [
       "<matplotlib.collections.PathCollection at 0x210780d8e48>"
      ]
     },
     "execution_count": 13,
     "metadata": {},
     "output_type": "execute_result"
    },
    {
     "data": {
      "image/png": "[encoded data removed]",
      "text/plain": [
       "<Figure size 432x288 with 1 Axes>"
      ]
     },
     "metadata": {
      "needs_background": "light"
     },
     "output_type": "display_data"
    }
   ],
   "source": [
    "r_tot = np.load('r_tot.npy')\n",
    "plt.scatter(range(len(r_tot)),r_tot)"
   ]
  },
  {
   "cell_type": "code",
   "execution_count": 14,
   "metadata": {},
   "outputs": [],
   "source": [
    "r_tot2 = []\n",
    "for val in r_tot:\n",
    "    if val<10:\n",
    "        r_tot2.append(val)\n",
    "r_tot2 = np.asarray(r_tot2)"
   ]
  },
  {
   "cell_type": "code",
   "execution_count": 20,
   "metadata": {},
   "outputs": [
    {
     "name": "stdout",
     "output_type": "stream",
     "text": [
      "0.32990919076719977\n"
     ]
    },
    {
     "data": {
      "image/png": "[encoded data removed]",
      "text/plain": [
       "<Figure size 432x288 with 1 Axes>"
      ]
     },
     "metadata": {
      "needs_background": "light"
     },
     "output_type": "display_data"
    }
   ],
   "source": [
    "plt.scatter(range(len(r_tot2)),abs(r_tot2))\n",
    "print(r_tot2.mean())"
   ]
  },
  {
   "cell_type": "code",
   "execution_count": 23,
   "metadata": {},
   "outputs": [],
   "source": [
    "df = pd.read_csv('./past outputs/out159.csv',engine=\"python\")\n",
    "from rewards import bunch_evaluation\n",
    "moli = []\n",
    "molm = []\n",
    "for i in range(len(df)):\n",
    "    moli.append(ch.MolFromSmiles(df.iloc[i,0]))\n",
    "    molm.append(ch.MolFromSmiles(df.iloc[i,1]))"
   ]
  },
  {
   "cell_type": "code",
   "execution_count": 35,
   "metadata": {},
   "outputs": [
    {
     "name": "stderr",
     "output_type": "stream",
     "text": [
      "C:\\Users\\HP\\Anaconda3\\lib\\site-packages\\sklearn\\utils\\deprecation.py:143: FutureWarning: The sklearn.ensemble.forest module is  deprecated in version 0.22 and will be removed in version 0.24. The corresponding classes / functions should instead be imported from sklearn.ensemble. Anything that cannot be imported from sklearn.ensemble is now part of the private API.\n",
      "  warnings.warn(message, FutureWarning)\n",
      "C:\\Users\\HP\\Anaconda3\\lib\\site-packages\\sklearn\\utils\\deprecation.py:143: FutureWarning: The sklearn.tree.tree module is  deprecated in version 0.22 and will be removed in version 0.24. The corresponding classes / functions should instead be imported from sklearn.tree. Anything that cannot be imported from sklearn.tree is now part of the private API.\n",
      "  warnings.warn(message, FutureWarning)\n",
      "C:\\Users\\HP\\Anaconda3\\lib\\site-packages\\sklearn\\base.py:334: UserWarning: Trying to unpickle estimator DecisionTreeRegressor from version 0.20.2 when using version 0.23.1. This might lead to breaking code or invalid results. Use at your own risk.\n",
      "  UserWarning)\n",
      "C:\\Users\\HP\\Anaconda3\\lib\\site-packages\\sklearn\\base.py:334: UserWarning: Trying to unpickle estimator RandomForestRegressor from version 0.20.2 when using version 0.23.1. This might lead to breaking code or invalid results. Use at your own risk.\n",
      "  UserWarning)\n"
     ]
    },
    {
     "name": "stdout",
     "output_type": "stream",
     "text": [
      "Properties predicted for 332 molecules\n",
      "Properties predicted for 332 molecules\n"
     ]
    },
    {
     "name": "stderr",
     "output_type": "stream",
     "text": [
      "C:\\Users\\HP\\Anaconda3\\lib\\site-packages\\sklearn\\base.py:334: UserWarning: Trying to unpickle estimator DecisionTreeRegressor from version 0.20.2 when using version 0.23.1. This might lead to breaking code or invalid results. Use at your own risk.\n",
      "  UserWarning)\n",
      "C:\\Users\\HP\\Anaconda3\\lib\\site-packages\\sklearn\\base.py:334: UserWarning: Trying to unpickle estimator RandomForestRegressor from version 0.20.2 when using version 0.23.1. This might lead to breaking code or invalid results. Use at your own risk.\n",
      "  UserWarning)\n"
     ]
    }
   ],
   "source": [
    "ini = get_pIC50(moli)\n",
    "ini = np.asarray(ini)\n",
    "mod = get_pIC50(molm)\n",
    "mod = np.asarray(mod)"
   ]
  },
  {
   "cell_type": "code",
   "execution_count": 37,
   "metadata": {},
   "outputs": [
    {
     "data": {
      "text/plain": [
       "array([7.21311667, 7.28747619, 7.26781667, 5.61117706, 6.44118667,\n",
       "       6.4624    , 6.7806    , 8.18751111, 6.7731    , 6.37364   ,\n",
       "       6.85693333, 7.02673333, 7.10459667, 5.37521066, 7.88184444,\n",
       "       6.22273333, 7.03382667, 6.88911111, 6.42145556, 6.95593333,\n",
       "       5.75816111, 6.33978333, 6.4948    , 7.36733333, 6.83312222,\n",
       "       7.44026667, 6.98306667, 6.60344667, 6.65702606, 6.58716   ,\n",
       "       6.57853333, 7.8907    , 6.97338333, 7.2508    , 6.89677778,\n",
       "       7.02671778, 7.01973333, 6.07490348, 7.09186667, 7.34121905,\n",
       "       6.94091111, 5.46482222, 6.76495   , 7.8907    , 6.83978889,\n",
       "       6.96785556, 7.29617619, 6.47956667, 6.78123333, 7.03639556,\n",
       "       7.18218333, 7.49346111, 6.81013333, 6.82448222, 7.39304444,\n",
       "       6.22495   , 7.32882222, 6.15245   , 6.84138889, 7.76048667,\n",
       "       7.02518333, 7.2459    , 7.05921333, 7.19753333, 6.11520333,\n",
       "       5.86386495, 7.69666667, 7.21892778, 6.75582222, 7.44068889,\n",
       "       7.09936667, 6.26666667, 7.82994444, 7.17473333, 6.48731778,\n",
       "       7.8098    , 7.48106667, 7.80926667, 7.34043333, 6.90523333,\n",
       "       7.95173333, 7.35416667, 6.98465556, 7.15842222, 6.75013333,\n",
       "       7.04081111, 6.74358889, 7.38762222, 7.45193611, 6.93851056,\n",
       "       7.37693333, 7.15641111, 6.94344444, 6.55581111, 6.9784    ,\n",
       "       7.06985   , 7.42493333, 6.20353333, 6.93380333, 7.72096667,\n",
       "       6.45806667, 6.74433333, 6.85224   , 7.47504444, 7.11772222,\n",
       "       7.1019    , 7.10143333, 6.86417778, 6.9314    , 7.23002222,\n",
       "       7.19526667, 6.56154889, 6.69820556, 7.19495   , 6.94753333,\n",
       "       6.94604444, 7.1802    , 7.68761667, 5.69391626, 7.48446667,\n",
       "       7.35371111, 6.68632667, 6.65416889, 6.63006667, 6.68953333,\n",
       "       7.18622222, 6.99104444, 6.29846667, 7.90568889, 7.1308    ,\n",
       "       7.1796    , 6.97235   , 7.10745556, 6.79976667, 7.46428   ,\n",
       "       6.86796667, 7.62579889, 6.91775556, 5.96671853, 7.26763333,\n",
       "       6.27121068, 7.01615556, 6.72739111, 6.43445556, 6.10186667,\n",
       "       7.5127    , 7.00084444, 7.17743333, 6.76726667, 6.89175556,\n",
       "       6.92559111, 6.27286667, 7.22960333, 6.7493    , 6.06234444,\n",
       "       6.74008889, 5.53699778, 7.40796667, 6.50371889, 7.1892    ,\n",
       "       6.93616667, 6.7124    , 7.10313333, 6.18773169, 6.64643333,\n",
       "       6.65251111, 7.6214    , 7.11433333, 6.09106667, 7.13468889,\n",
       "       6.41923333, 7.03517333, 7.43656667, 7.24631111, 7.73573333,\n",
       "       6.32548889, 7.10879444, 6.58276667, 5.78076751, 7.59173333,\n",
       "       6.97768333, 7.55743333, 7.15853333, 6.75793333, 7.0848    ,\n",
       "       5.95280886, 7.21578889, 6.308     , 6.55202556, 5.86545957,\n",
       "       6.23146667, 6.54081667, 7.40635556, 7.11153333, 6.31637778,\n",
       "       6.4536    , 6.5958    , 7.83543889, 7.76504444, 7.10506667,\n",
       "       7.34734444, 7.49073333, 7.31511111, 7.0136    , 6.93266667,\n",
       "       7.26713333, 7.04799873, 7.07536667, 6.73826508, 6.38327556,\n",
       "       5.966     , 6.86546667, 6.92065556, 6.95723333, 7.35643333,\n",
       "       7.40417333, 7.58886667, 5.5918    , 6.71936667, 7.63733333,\n",
       "       7.44227333, 6.68087778, 6.57741333, 6.95504444, 7.20451111,\n",
       "       6.68197778, 7.9822    , 6.55642222, 8.11186667, 7.14531667,\n",
       "       7.21873333, 6.83420444, 6.28293333, 5.84121409, 6.70038889,\n",
       "       7.07529444, 6.60138   , 7.08098667, 7.16995556, 7.54164667,\n",
       "       6.6574    , 6.88633333, 6.98843333, 7.4616    , 6.66217651,\n",
       "       6.14673333, 6.692     , 6.93873333, 7.39264333, 7.20286444,\n",
       "       7.16718828, 6.22049587, 7.59404889, 7.52655556, 6.52374603,\n",
       "       6.82355556, 7.04226667, 6.69065333, 7.64633333, 7.138     ,\n",
       "       7.443     , 6.39876667, 6.42836667, 6.99446667, 7.63008889,\n",
       "       6.59306667, 7.02096667, 7.56366667, 7.44548333, 7.36967333,\n",
       "       7.58773333, 6.52128889, 6.7533    , 6.33707778, 6.9522    ,\n",
       "       6.57207778, 6.79767778, 7.48312667, 7.32077778, 7.22353333,\n",
       "       7.21592333, 7.287     , 7.3601    , 6.32613111, 6.72066667,\n",
       "       7.79281667, 7.78861111, 6.58477222, 6.2958    , 6.72659667,\n",
       "       6.58566667, 6.86766667, 6.65358333, 6.90666667, 7.00033333,\n",
       "       6.68934444, 7.24076111, 7.3578    , 6.17143889, 6.96641111,\n",
       "       7.5066    , 6.98613333, 6.81728889, 7.12001111, 5.99692624,\n",
       "       6.7186    , 7.15653333, 7.03264444, 6.73254   , 7.51815333,\n",
       "       8.04208889, 6.6397    , 6.51313643, 6.80238333, 7.4016    ,\n",
       "       7.33673333, 7.20776937, 7.48305778, 6.55433333, 7.46546667,\n",
       "       7.15443333, 7.30247222, 6.37749389, 7.07531111, 6.46983333,\n",
       "       7.25200556, 7.00756667, 6.76726667, 5.50042583, 6.77423333,\n",
       "       7.02880444, 6.95995556])"
      ]
     },
     "execution_count": 37,
     "metadata": {},
     "output_type": "execute_result"
    }
   ],
   "source": [
    "mod"
   ]
  },
  {
   "cell_type": "code",
   "execution_count": 38,
   "metadata": {},
   "outputs": [],
   "source": [
    "changes = pd.DataFrame(data=np.transpose(np.asarray([mod,ini])),columns=['Modified','Initial']) "
   ]
  },
  {
   "cell_type": "code",
   "execution_count": 31,
   "metadata": {},
   "outputs": [],
   "source": [
    "c"
   ]
  },
  {
   "cell_type": "code",
   "execution_count": 39,
   "metadata": {},
   "outputs": [
    {
     "data": {
      "text/html": [
       "<div>\n",
       "<style scoped>\n",
       "    .dataframe tbody tr th:only-of-type {\n",
       "        vertical-align: middle;\n",
       "    }\n",
       "\n",
       "    .dataframe tbody tr th {\n",
       "        vertical-align: top;\n",
       "    }\n",
       "\n",
       "    .dataframe thead th {\n",
       "        text-align: right;\n",
       "    }\n",
       "</style>\n",
       "<table border=\"1\" class=\"dataframe\">\n",
       "  <thead>\n",
       "    <tr style=\"text-align: right;\">\n",
       "      <th></th>\n",
       "      <th>Modified</th>\n",
       "      <th>Initial</th>\n",
       "    </tr>\n",
       "  </thead>\n",
       "  <tbody>\n",
       "    <tr>\n",
       "      <th>0</th>\n",
       "      <td>7.213117</td>\n",
       "      <td>7.763167</td>\n",
       "    </tr>\n",
       "    <tr>\n",
       "      <th>1</th>\n",
       "      <td>7.287476</td>\n",
       "      <td>6.806319</td>\n",
       "    </tr>\n",
       "    <tr>\n",
       "      <th>2</th>\n",
       "      <td>7.267817</td>\n",
       "      <td>7.062500</td>\n",
       "    </tr>\n",
       "    <tr>\n",
       "      <th>3</th>\n",
       "      <td>5.611177</td>\n",
       "      <td>6.808733</td>\n",
       "    </tr>\n",
       "    <tr>\n",
       "      <th>4</th>\n",
       "      <td>6.441187</td>\n",
       "      <td>6.868733</td>\n",
       "    </tr>\n",
       "  </tbody>\n",
       "</table>\n",
       "</div>"
      ],
      "text/plain": [
       "   Modified   Initial\n",
       "0  7.213117  7.763167\n",
       "1  7.287476  6.806319\n",
       "2  7.267817  7.062500\n",
       "3  5.611177  6.808733\n",
       "4  6.441187  6.868733"
      ]
     },
     "execution_count": 39,
     "metadata": {},
     "output_type": "execute_result"
    }
   ],
   "source": [
    "changes.head()"
   ]
  },
  {
   "cell_type": "code",
   "execution_count": 40,
   "metadata": {},
   "outputs": [],
   "source": [
    "changes['Delta'] = changes['Modified'] - changes['Initial']\n",
    "changes.sort_values(by='Delta',ascending=False,inplace=True)"
   ]
  },
  {
   "cell_type": "code",
   "execution_count": 41,
   "metadata": {},
   "outputs": [],
   "source": [
    "inact_to_act = changes.loc[(changes['Modified']>7) & (changes['Initial']<7),['Modified','Initial','Delta']].sort_values(by='Delta',ascending=False)"
   ]
  },
  {
   "cell_type": "code",
   "execution_count": 42,
   "metadata": {},
   "outputs": [
    {
     "data": {
      "text/html": [
       "<div>\n",
       "<style scoped>\n",
       "    .dataframe tbody tr th:only-of-type {\n",
       "        vertical-align: middle;\n",
       "    }\n",
       "\n",
       "    .dataframe tbody tr th {\n",
       "        vertical-align: top;\n",
       "    }\n",
       "\n",
       "    .dataframe thead th {\n",
       "        text-align: right;\n",
       "    }\n",
       "</style>\n",
       "<table border=\"1\" class=\"dataframe\">\n",
       "  <thead>\n",
       "    <tr style=\"text-align: right;\">\n",
       "      <th></th>\n",
       "      <th>Modified</th>\n",
       "      <th>Initial</th>\n",
       "      <th>Delta</th>\n",
       "    </tr>\n",
       "  </thead>\n",
       "  <tbody>\n",
       "    <tr>\n",
       "      <th>68</th>\n",
       "      <td>6.755822</td>\n",
       "      <td>4.659000</td>\n",
       "      <td>2.096822</td>\n",
       "    </tr>\n",
       "    <tr>\n",
       "      <th>64</th>\n",
       "      <td>6.115203</td>\n",
       "      <td>4.556286</td>\n",
       "      <td>1.558917</td>\n",
       "    </tr>\n",
       "    <tr>\n",
       "      <th>90</th>\n",
       "      <td>7.376933</td>\n",
       "      <td>5.935533</td>\n",
       "      <td>1.441400</td>\n",
       "    </tr>\n",
       "    <tr>\n",
       "      <th>145</th>\n",
       "      <td>7.512700</td>\n",
       "      <td>6.191400</td>\n",
       "      <td>1.321300</td>\n",
       "    </tr>\n",
       "    <tr>\n",
       "      <th>181</th>\n",
       "      <td>7.557433</td>\n",
       "      <td>6.240200</td>\n",
       "      <td>1.317233</td>\n",
       "    </tr>\n",
       "    <tr>\n",
       "      <th>324</th>\n",
       "      <td>6.469833</td>\n",
       "      <td>5.201288</td>\n",
       "      <td>1.268545</td>\n",
       "    </tr>\n",
       "    <tr>\n",
       "      <th>6</th>\n",
       "      <td>6.780600</td>\n",
       "      <td>5.518533</td>\n",
       "      <td>1.262067</td>\n",
       "    </tr>\n",
       "    <tr>\n",
       "      <th>266</th>\n",
       "      <td>7.020967</td>\n",
       "      <td>5.822504</td>\n",
       "      <td>1.198462</td>\n",
       "    </tr>\n",
       "    <tr>\n",
       "      <th>239</th>\n",
       "      <td>7.541647</td>\n",
       "      <td>6.350311</td>\n",
       "      <td>1.191336</td>\n",
       "    </tr>\n",
       "    <tr>\n",
       "      <th>315</th>\n",
       "      <td>7.336733</td>\n",
       "      <td>6.216413</td>\n",
       "      <td>1.120320</td>\n",
       "    </tr>\n",
       "  </tbody>\n",
       "</table>\n",
       "</div>"
      ],
      "text/plain": [
       "     Modified   Initial     Delta\n",
       "68   6.755822  4.659000  2.096822\n",
       "64   6.115203  4.556286  1.558917\n",
       "90   7.376933  5.935533  1.441400\n",
       "145  7.512700  6.191400  1.321300\n",
       "181  7.557433  6.240200  1.317233\n",
       "324  6.469833  5.201288  1.268545\n",
       "6    6.780600  5.518533  1.262067\n",
       "266  7.020967  5.822504  1.198462\n",
       "239  7.541647  6.350311  1.191336\n",
       "315  7.336733  6.216413  1.120320"
      ]
     },
     "execution_count": 42,
     "metadata": {},
     "output_type": "execute_result"
    }
   ],
   "source": [
    "changes.head(10)"
   ]
  },
  {
   "cell_type": "code",
   "execution_count": 44,
   "metadata": {},
   "outputs": [],
   "source": [
    "changes.to_csv('./out159_pIC.csv',index=False)"
   ]
  },
  {
   "cell_type": "code",
   "execution_count": 43,
   "metadata": {},
   "outputs": [],
   "source": [
    "inact_to_act.to_csv('./act_pIC159.csv',index=False)"
   ]
  },
  {
   "cell_type": "code",
   "execution_count": 45,
   "metadata": {},
   "outputs": [
    {
     "data": {
      "text/html": [
       "<div>\n",
       "<style scoped>\n",
       "    .dataframe tbody tr th:only-of-type {\n",
       "        vertical-align: middle;\n",
       "    }\n",
       "\n",
       "    .dataframe tbody tr th {\n",
       "        vertical-align: top;\n",
       "    }\n",
       "\n",
       "    .dataframe thead th {\n",
       "        text-align: right;\n",
       "    }\n",
       "</style>\n",
       "<table border=\"1\" class=\"dataframe\">\n",
       "  <thead>\n",
       "    <tr style=\"text-align: right;\">\n",
       "      <th></th>\n",
       "      <th>Modified</th>\n",
       "      <th>Initial</th>\n",
       "      <th>Delta</th>\n",
       "    </tr>\n",
       "  </thead>\n",
       "  <tbody>\n",
       "    <tr>\n",
       "      <th>90</th>\n",
       "      <td>7.376933</td>\n",
       "      <td>5.935533</td>\n",
       "      <td>1.441400</td>\n",
       "    </tr>\n",
       "    <tr>\n",
       "      <th>145</th>\n",
       "      <td>7.512700</td>\n",
       "      <td>6.191400</td>\n",
       "      <td>1.321300</td>\n",
       "    </tr>\n",
       "    <tr>\n",
       "      <th>181</th>\n",
       "      <td>7.557433</td>\n",
       "      <td>6.240200</td>\n",
       "      <td>1.317233</td>\n",
       "    </tr>\n",
       "    <tr>\n",
       "      <th>266</th>\n",
       "      <td>7.020967</td>\n",
       "      <td>5.822504</td>\n",
       "      <td>1.198462</td>\n",
       "    </tr>\n",
       "    <tr>\n",
       "      <th>239</th>\n",
       "      <td>7.541647</td>\n",
       "      <td>6.350311</td>\n",
       "      <td>1.191336</td>\n",
       "    </tr>\n",
       "  </tbody>\n",
       "</table>\n",
       "</div>"
      ],
      "text/plain": [
       "     Modified   Initial     Delta\n",
       "90   7.376933  5.935533  1.441400\n",
       "145  7.512700  6.191400  1.321300\n",
       "181  7.557433  6.240200  1.317233\n",
       "266  7.020967  5.822504  1.198462\n",
       "239  7.541647  6.350311  1.191336"
      ]
     },
     "execution_count": 45,
     "metadata": {},
     "output_type": "execute_result"
    }
   ],
   "source": [
    "inact_to_act.head()"
   ]
  },
  {
   "cell_type": "code",
   "execution_count": null,
   "metadata": {},
   "outputs": [],
   "source": []
  },
  {
   "cell_type": "code",
   "execution_count": 46,
   "metadata": {},
   "outputs": [
    {
     "data": {
      "text/plain": [
       "Modified    1003.809442\n",
       "Initial     1062.834505\n",
       "Delta        -59.025062\n",
       "dtype: float64"
      ]
     },
     "execution_count": 46,
     "metadata": {},
     "output_type": "execute_result"
    }
   ],
   "source": [
    "changes.loc[changes['Delta']<0].sum()"
   ]
  },
  {
   "cell_type": "code",
   "execution_count": 47,
   "metadata": {},
   "outputs": [
    {
     "data": {
      "text/plain": [
       "Modified    1224.952920\n",
       "Initial     1147.710643\n",
       "Delta         77.242277\n",
       "dtype: float64"
      ]
     },
     "execution_count": 47,
     "metadata": {},
     "output_type": "execute_result"
    }
   ],
   "source": [
    "changes.loc[changes['Delta']>0].sum()"
   ]
  },
  {
   "cell_type": "code",
   "execution_count": 48,
   "metadata": {},
   "outputs": [
    {
     "data": {
      "text/plain": [
       "18.217214788101835"
      ]
     },
     "execution_count": 48,
     "metadata": {},
     "output_type": "execute_result"
    }
   ],
   "source": [
    "changes['Delta'].sum()"
   ]
  },
  {
   "cell_type": "code",
   "execution_count": null,
   "metadata": {},
   "outputs": [],
   "source": []
  },
  {
   "cell_type": "code",
   "execution_count": 49,
   "metadata": {},
   "outputs": [],
   "source": [
    "img = (ch.MolFromSmiles(df.iloc[1,0]))\n",
    "mol2 = ch.MolFromSmiles(df.iloc[1,1])"
   ]
  },
  {
   "cell_type": "code",
   "execution_count": 50,
   "metadata": {},
   "outputs": [
    {
     "data": {
      "image/png": "[encoded data removed]",
      "text/plain": [
       "<rdkit.Chem.rdchem.Mol at 0x210000039e0>"
      ]
     },
     "execution_count": 50,
     "metadata": {},
     "output_type": "execute_result"
    }
   ],
   "source": [
    "img"
   ]
  },
  {
   "cell_type": "code",
   "execution_count": 51,
   "metadata": {
    "scrolled": true
   },
   "outputs": [
    {
     "data": {
      "image/png": "[encoded data removed]",
      "text/plain": [
       "<rdkit.Chem.rdchem.Mol at 0x21000003990>"
      ]
     },
     "execution_count": 51,
     "metadata": {},
     "output_type": "execute_result"
    }
   ],
   "source": [
    "mol2"
   ]
  },
  {
   "cell_type": "code",
   "execution_count": 54,
   "metadata": {},
   "outputs": [],
   "source": [
    "losses = np.load(\"./Losses/Loss in epoch 159.npy\")"
   ]
  },
  {
   "cell_type": "code",
   "execution_count": 58,
   "metadata": {},
   "outputs": [],
   "source": [
    "loss = []\n",
    "for i in range(160):\n",
    "    losses = np.load(\"./Losses/Loss in epoch {}.npy\".format(i))\n",
    "    loss.append(losses)\n",
    "loss = np.asarray(loss)"
   ]
  },
  {
   "cell_type": "code",
   "execution_count": 60,
   "metadata": {},
   "outputs": [
    {
     "data": {
      "text/plain": [
       "array([[ 4.14573795e+00],\n",
       "       [ 3.23710475e+00],\n",
       "       [-5.56290116e-02],\n",
       "       [-5.28769038e-01],\n",
       "       [ 3.33294003e+00],\n",
       "       [-2.33459896e-01],\n",
       "       [ 3.27002327e+00],\n",
       "       [ 3.68573103e+00],\n",
       "       [-2.47477769e-01],\n",
       "       [-2.08487980e-01],\n",
       "       [ 3.18746516e+00],\n",
       "       [ 3.06717533e+00],\n",
       "       [ 2.84641548e+00],\n",
       "       [ 3.15158390e+00],\n",
       "       [ 3.06425804e+00],\n",
       "       [ 2.81926926e+00],\n",
       "       [ 3.00993953e+00],\n",
       "       [ 3.11982700e+00],\n",
       "       [-7.22013649e-01],\n",
       "       [-3.17054212e-01],\n",
       "       [-9.01264858e-01],\n",
       "       [ 2.75065436e+00],\n",
       "       [ 3.02553637e+00],\n",
       "       [-3.30761087e-01],\n",
       "       [ 2.63856528e+00],\n",
       "       [ 3.32289219e+00],\n",
       "       [-5.56590544e-01],\n",
       "       [ 2.64847527e+00],\n",
       "       [ 2.98366455e+00],\n",
       "       [-1.56220060e-01],\n",
       "       [ 3.00603351e+00],\n",
       "       [-3.90810557e-01],\n",
       "       [ 2.89239766e+00],\n",
       "       [ 3.01290753e+00],\n",
       "       [ 3.26072344e+00],\n",
       "       [-2.14935413e-01],\n",
       "       [ 2.48285812e+00],\n",
       "       [-4.60470286e-01],\n",
       "       [ 2.87211508e+00],\n",
       "       [ 3.14284230e+00],\n",
       "       [-7.97227991e-01],\n",
       "       [ 3.02421454e+00],\n",
       "       [ 2.02001983e+00],\n",
       "       [ 2.63988491e+00],\n",
       "       [ 3.03911566e+00],\n",
       "       [ 2.23681812e+00],\n",
       "       [ 2.73852672e+00],\n",
       "       [ 2.76720249e+00],\n",
       "       [-4.28147912e-01],\n",
       "       [ 2.78187971e+00],\n",
       "       [ 2.65383392e+00],\n",
       "       [-4.10063928e-01],\n",
       "       [ 2.99572980e+00],\n",
       "       [-1.02678059e+00],\n",
       "       [ 2.92997317e+00],\n",
       "       [ 2.84951898e+00],\n",
       "       [-1.24020234e-01],\n",
       "       [-5.06786402e-01],\n",
       "       [-4.37614885e-01],\n",
       "       [ 2.65924571e+00],\n",
       "       [-8.98832920e-01],\n",
       "       [ 3.11063455e+00],\n",
       "       [ 2.25246168e+00],\n",
       "       [ 2.62194474e+00],\n",
       "       [ 2.29680770e+00],\n",
       "       [-5.03962170e-01],\n",
       "       [-3.63348152e-01],\n",
       "       [ 2.87504397e+00],\n",
       "       [ 2.84718056e+00],\n",
       "       [ 2.44850009e+00],\n",
       "       [ 1.96933249e+02],\n",
       "       [-3.74575409e-01],\n",
       "       [ 3.03444749e+00],\n",
       "       [ 3.02731170e+00],\n",
       "       [-5.42960626e-01],\n",
       "       [-5.48266784e-01],\n",
       "       [ 3.04210259e+00],\n",
       "       [ 3.60346615e+00],\n",
       "       [-8.60522777e-01],\n",
       "       [ 1.75326773e+02],\n",
       "       [-5.11694290e-01],\n",
       "       [ 2.53711841e+00],\n",
       "       [ 3.89532478e-01],\n",
       "       [ 2.62390227e+00],\n",
       "       [ 2.55185616e+00],\n",
       "       [-8.74632904e-01],\n",
       "       [ 2.31663280e+00],\n",
       "       [ 3.52929471e+00],\n",
       "       [ 2.84554416e+00],\n",
       "       [-2.78952595e-01],\n",
       "       [-1.43501475e+00],\n",
       "       [ 3.75117715e-01],\n",
       "       [-4.70820211e-01],\n",
       "       [-3.12287572e-01],\n",
       "       [ 2.56813675e+00],\n",
       "       [ 2.83658391e+00],\n",
       "       [ 2.69386717e-01],\n",
       "       [-1.06627899e-01],\n",
       "       [ 2.65698654e+00],\n",
       "       [-3.33789978e-01],\n",
       "       [-3.33639838e-01],\n",
       "       [ 2.75811832e+00],\n",
       "       [ 2.69904620e+00],\n",
       "       [ 2.83904730e+00],\n",
       "       [-5.82740114e-01],\n",
       "       [ 1.76465851e+00],\n",
       "       [ 2.72815315e+00],\n",
       "       [ 3.51339822e+00],\n",
       "       [-6.03684613e-01],\n",
       "       [ 2.77993171e+00],\n",
       "       [-3.00326962e-01],\n",
       "       [ 2.95683724e+00],\n",
       "       [ 2.68810276e+00],\n",
       "       [-7.16140953e-01],\n",
       "       [-6.74681694e-01],\n",
       "       [ 2.79470247e+00],\n",
       "       [-5.18017228e-01],\n",
       "       [ 2.49583865e+00],\n",
       "       [ 2.03953805e+00],\n",
       "       [ 2.93480066e+00],\n",
       "       [-1.31377072e+00],\n",
       "       [ 2.66904709e+00],\n",
       "       [ 2.34294625e+00],\n",
       "       [ 2.71510172e+00],\n",
       "       [-4.49439938e-01],\n",
       "       [ 2.37729995e+00],\n",
       "       [ 2.79153323e+00],\n",
       "       [ 2.72319281e+00],\n",
       "       [ 3.14208846e+00],\n",
       "       [ 2.67149795e+00],\n",
       "       [ 2.95050150e+00],\n",
       "       [-5.12395438e-01],\n",
       "       [ 2.44295930e+00],\n",
       "       [ 3.27847005e+00],\n",
       "       [ 3.07840923e-01],\n",
       "       [ 2.77906076e-02],\n",
       "       [-5.61161446e-01],\n",
       "       [ 2.26569662e+00],\n",
       "       [-3.25150061e-01],\n",
       "       [-1.06744683e+00],\n",
       "       [-3.51345744e-01],\n",
       "       [-2.19045283e-01],\n",
       "       [-5.04033743e-01],\n",
       "       [-1.16960440e-01],\n",
       "       [ 2.59489951e+00],\n",
       "       [-2.27507305e-01],\n",
       "       [ 2.49927799e+00],\n",
       "       [-6.08129943e-01],\n",
       "       [ 2.54684757e+00],\n",
       "       [-4.99469008e-01],\n",
       "       [ 2.39664100e+00],\n",
       "       [-7.81461773e-01],\n",
       "       [-4.04458509e-01],\n",
       "       [-9.92900638e-01],\n",
       "       [ 2.84825558e+00],\n",
       "       [ 2.68090055e+00],\n",
       "       [ 3.25139529e+00],\n",
       "       [ 2.99007966e+00],\n",
       "       [ 1.62385427e+00],\n",
       "       [-1.17918085e-02]])"
      ]
     },
     "execution_count": 60,
     "metadata": {},
     "output_type": "execute_result"
    }
   ],
   "source": []
  },
  {
   "cell_type": "markdown",
   "metadata": {},
   "source": [
    "<h1>29-06-20"
   ]
  },
  {
   "cell_type": "code",
   "execution_count": 4,
   "metadata": {},
   "outputs": [],
   "source": [
    "history = np.load('./history/history.npy')"
   ]
  },
  {
   "cell_type": "code",
   "execution_count": 12,
   "metadata": {},
   "outputs": [],
   "source": [
    "ind = []\n",
    "for i in range(len(history)):\n",
    "    if history[i,2] > 0.015:\n",
    "        ind.append(i)"
   ]
  },
  {
   "cell_type": "code",
   "execution_count": 13,
   "metadata": {},
   "outputs": [
    {
     "data": {
      "text/plain": [
       "[28, 70, 85, 203, 210, 227, 229, 244, 250, 262, 280, 284, 292, 295]"
      ]
     },
     "execution_count": 13,
     "metadata": {},
     "output_type": "execute_result"
    }
   ],
   "source": [
    "ind"
   ]
  },
  {
   "cell_type": "markdown",
   "metadata": {},
   "source": [
    "<h2> Epoch 85 results"
   ]
  },
  {
   "cell_type": "code",
   "execution_count": 22,
   "metadata": {},
   "outputs": [
    {
     "data": {
      "text/html": [
       "<div>\n",
       "<style scoped>\n",
       "    .dataframe tbody tr th:only-of-type {\n",
       "        vertical-align: middle;\n",
       "    }\n",
       "\n",
       "    .dataframe tbody tr th {\n",
       "        vertical-align: top;\n",
       "    }\n",
       "\n",
       "    .dataframe thead th {\n",
       "        text-align: right;\n",
       "    }\n",
       "</style>\n",
       "<table border=\"1\" class=\"dataframe\">\n",
       "  <thead>\n",
       "    <tr style=\"text-align: right;\">\n",
       "      <th></th>\n",
       "      <th>Initial molecule</th>\n",
       "      <th>Modified molecule</th>\n",
       "    </tr>\n",
       "  </thead>\n",
       "  <tbody>\n",
       "    <tr>\n",
       "      <th>0</th>\n",
       "      <td>COc1ccc(N2CCc3ncnc(-c4cccc(OC5CCN(C(C)=O)CC5)c...</td>\n",
       "      <td>CSc1ccc(N[C@H](C)c2cccc(OC3=CCN(C(C)=O)CC3)c2...</td>\n",
       "    </tr>\n",
       "    <tr>\n",
       "      <th>1</th>\n",
       "      <td>NC(=O)c1c(N)ncnc1N1CCC(c2nc(-c3cc(F)ccc3Cl)cn2...</td>\n",
       "      <td>CCCSc1ccc([18F])cc1-c1cn(CCN2CCCC2)c(C2CCN(c3...</td>\n",
       "    </tr>\n",
       "    <tr>\n",
       "      <th>2</th>\n",
       "      <td>NC1([C@@H](CCc2ccc(Cl)cc2)NC(=O)N2CCCCC2)CCN(c...</td>\n",
       "      <td>N[N+]1(N(CCCc2ccc(Cl)cc2)C(=O)N2CCCCC2)CCN(c2...</td>\n",
       "    </tr>\n",
       "    <tr>\n",
       "      <th>3</th>\n",
       "      <td>Cc1nc(N)nc(-n2c(Nc3cn[nH]c3)nc3ccccc32)n1</td>\n",
       "      <td>Cc1nc(N)nc(-n2c(Nc3c[nH]cc3)nc3ccccc32)n1</td>\n",
       "    </tr>\n",
       "    <tr>\n",
       "      <th>4</th>\n",
       "      <td>Nc1ccc(S(=O)(=O)Nc2nncs2)cc1</td>\n",
       "      <td>Nc1ncc(S(=O)(=O)Nc2nccs2)cn1</td>\n",
       "    </tr>\n",
       "  </tbody>\n",
       "</table>\n",
       "</div>"
      ],
      "text/plain": [
       "                                   Initial molecule   \\\n",
       "0  COc1ccc(N2CCc3ncnc(-c4cccc(OC5CCN(C(C)=O)CC5)c...   \n",
       "1  NC(=O)c1c(N)ncnc1N1CCC(c2nc(-c3cc(F)ccc3Cl)cn2...   \n",
       "2  NC1([C@@H](CCc2ccc(Cl)cc2)NC(=O)N2CCCCC2)CCN(c...   \n",
       "3         Cc1nc(N)nc(-n2c(Nc3cn[nH]c3)nc3ccccc32)n1    \n",
       "4                      Nc1ccc(S(=O)(=O)Nc2nncs2)cc1    \n",
       "\n",
       "                                   Modified molecule  \n",
       "0   CSc1ccc(N[C@H](C)c2cccc(OC3=CCN(C(C)=O)CC3)c2...  \n",
       "1   CCCSc1ccc([18F])cc1-c1cn(CCN2CCCC2)c(C2CCN(c3...  \n",
       "2   N[N+]1(N(CCCc2ccc(Cl)cc2)C(=O)N2CCCCC2)CCN(c2...  \n",
       "3          Cc1nc(N)nc(-n2c(Nc3c[nH]cc3)nc3ccccc32)n1  \n",
       "4                       Nc1ncc(S(=O)(=O)Nc2nccs2)cn1  "
      ]
     },
     "execution_count": 22,
     "metadata": {},
     "output_type": "execute_result"
    }
   ],
   "source": [
    "df = pd.read_csv('./past outputs/out85.csv',engine=\"python\")\n",
    "df.head()"
   ]
  },
  {
   "cell_type": "code",
   "execution_count": 23,
   "metadata": {},
   "outputs": [],
   "source": [
    "from rdkit import Chem as ch\n",
    "moli = []\n",
    "molm = []\n",
    "for i in range(len(df)):\n",
    "    moli.append(ch.MolFromSmiles(df.iloc[i,0]))\n",
    "    molm.append(ch.MolFromSmiles(df.iloc[i,1]))"
   ]
  },
  {
   "cell_type": "code",
   "execution_count": 28,
   "metadata": {},
   "outputs": [
    {
     "name": "stdout",
     "output_type": "stream",
     "text": [
      "Properties predicted for 319 molecules\n"
     ]
    },
    {
     "name": "stderr",
     "output_type": "stream",
     "text": [
      "C:\\Users\\HP\\Anaconda3\\lib\\site-packages\\sklearn\\base.py:334: UserWarning: Trying to unpickle estimator DecisionTreeRegressor from version 0.20.2 when using version 0.23.1. This might lead to breaking code or invalid results. Use at your own risk.\n",
      "  UserWarning)\n",
      "C:\\Users\\HP\\Anaconda3\\lib\\site-packages\\sklearn\\base.py:334: UserWarning: Trying to unpickle estimator RandomForestRegressor from version 0.20.2 when using version 0.23.1. This might lead to breaking code or invalid results. Use at your own risk.\n",
      "  UserWarning)\n"
     ]
    }
   ],
   "source": [
    "ini = get_pIC50(moli)"
   ]
  },
  {
   "cell_type": "code",
   "execution_count": null,
   "metadata": {},
   "outputs": [],
   "source": [
    "del molm[140]"
   ]
  },
  {
   "cell_type": "code",
   "execution_count": 46,
   "metadata": {},
   "outputs": [
    {
     "name": "stdout",
     "output_type": "stream",
     "text": [
      "318\n",
      "Properties predicted for 318 molecules\n"
     ]
    },
    {
     "name": "stderr",
     "output_type": "stream",
     "text": [
      "C:\\Users\\HP\\Anaconda3\\lib\\site-packages\\sklearn\\base.py:334: UserWarning: Trying to unpickle estimator DecisionTreeRegressor from version 0.20.2 when using version 0.23.1. This might lead to breaking code or invalid results. Use at your own risk.\n",
      "  UserWarning)\n",
      "C:\\Users\\HP\\Anaconda3\\lib\\site-packages\\sklearn\\base.py:334: UserWarning: Trying to unpickle estimator RandomForestRegressor from version 0.20.2 when using version 0.23.1. This might lead to breaking code or invalid results. Use at your own risk.\n",
      "  UserWarning)\n"
     ]
    }
   ],
   "source": [
    "print(len(molm))\n",
    "mod = get_pIC50(molm)"
   ]
  },
  {
   "cell_type": "code",
   "execution_count": 41,
   "metadata": {},
   "outputs": [
    {
     "data": {
      "text/plain": [
       "318"
      ]
     },
     "execution_count": 41,
     "metadata": {},
     "output_type": "execute_result"
    }
   ],
   "source": [
    "ini = np.delete(ini,140)\n",
    "len(ini)"
   ]
  },
  {
   "cell_type": "code",
   "execution_count": 45,
   "metadata": {},
   "outputs": [
    {
     "data": {
      "text/plain": [
       "(318, 2)"
      ]
     },
     "execution_count": 45,
     "metadata": {},
     "output_type": "execute_result"
    }
   ],
   "source": [
    "mod.shape"
   ]
  },
  {
   "cell_type": "code",
   "execution_count": 47,
   "metadata": {},
   "outputs": [
    {
     "data": {
      "text/html": [
       "<div>\n",
       "<style scoped>\n",
       "    .dataframe tbody tr th:only-of-type {\n",
       "        vertical-align: middle;\n",
       "    }\n",
       "\n",
       "    .dataframe tbody tr th {\n",
       "        vertical-align: top;\n",
       "    }\n",
       "\n",
       "    .dataframe thead th {\n",
       "        text-align: right;\n",
       "    }\n",
       "</style>\n",
       "<table border=\"1\" class=\"dataframe\">\n",
       "  <thead>\n",
       "    <tr style=\"text-align: right;\">\n",
       "      <th></th>\n",
       "      <th>Modified</th>\n",
       "      <th>Initial</th>\n",
       "      <th>Delta</th>\n",
       "    </tr>\n",
       "  </thead>\n",
       "  <tbody>\n",
       "    <tr>\n",
       "      <th>189</th>\n",
       "      <td>8.336200</td>\n",
       "      <td>6.478356</td>\n",
       "      <td>1.857844</td>\n",
       "    </tr>\n",
       "    <tr>\n",
       "      <th>247</th>\n",
       "      <td>8.098800</td>\n",
       "      <td>6.523031</td>\n",
       "      <td>1.575769</td>\n",
       "    </tr>\n",
       "    <tr>\n",
       "      <th>245</th>\n",
       "      <td>8.025467</td>\n",
       "      <td>6.550161</td>\n",
       "      <td>1.475306</td>\n",
       "    </tr>\n",
       "    <tr>\n",
       "      <th>0</th>\n",
       "      <td>7.633944</td>\n",
       "      <td>6.165019</td>\n",
       "      <td>1.468925</td>\n",
       "    </tr>\n",
       "    <tr>\n",
       "      <th>296</th>\n",
       "      <td>6.001322</td>\n",
       "      <td>4.814178</td>\n",
       "      <td>1.187144</td>\n",
       "    </tr>\n",
       "  </tbody>\n",
       "</table>\n",
       "</div>"
      ],
      "text/plain": [
       "     Modified   Initial     Delta\n",
       "189  8.336200  6.478356  1.857844\n",
       "247  8.098800  6.523031  1.575769\n",
       "245  8.025467  6.550161  1.475306\n",
       "0    7.633944  6.165019  1.468925\n",
       "296  6.001322  4.814178  1.187144"
      ]
     },
     "execution_count": 47,
     "metadata": {},
     "output_type": "execute_result"
    }
   ],
   "source": [
    "ini = np.asarray(ini)\n",
    "mod = np.asarray(mod)\n",
    "changes = pd.DataFrame(np.transpose(np.asarray([ini,mod])),columns=['Modified','Initial'])\n",
    "changes['Delta'] = changes['Modified'] - changes['Initial']\n",
    "changes.sort_values(by='Delta',ascending=False,inplace=True)\n",
    "changes.head()"
   ]
  },
  {
   "cell_type": "code",
   "execution_count": 21,
   "metadata": {},
   "outputs": [
    {
     "data": {
      "image/png": "[encoded data removed]",
      "text/plain": [
       "<rdkit.Chem.rdchem.Mol at 0x291ac57a120>"
      ]
     },
     "execution_count": 21,
     "metadata": {},
     "output_type": "execute_result"
    }
   ],
   "source": [
    "molm[0]"
   ]
  },
  {
   "cell_type": "code",
   "execution_count": 50,
   "metadata": {},
   "outputs": [],
   "source": [
    "inact_to_act = changes.loc[(changes['Modified']>7) & (changes['Initial']<7),['Modified','Initial','Delta']].sort_values(by='Delta',ascending=False)\n",
    "changes.to_csv('./past outputs/out85_pIC.csv',index=False)\n",
    "inact_to_act.to_csv('./past outputs/act_pIC85.csv',index=False)"
   ]
  },
  {
   "cell_type": "code",
   "execution_count": 51,
   "metadata": {},
   "outputs": [
    {
     "data": {
      "text/html": [
       "<div>\n",
       "<style scoped>\n",
       "    .dataframe tbody tr th:only-of-type {\n",
       "        vertical-align: middle;\n",
       "    }\n",
       "\n",
       "    .dataframe tbody tr th {\n",
       "        vertical-align: top;\n",
       "    }\n",
       "\n",
       "    .dataframe thead th {\n",
       "        text-align: right;\n",
       "    }\n",
       "</style>\n",
       "<table border=\"1\" class=\"dataframe\">\n",
       "  <thead>\n",
       "    <tr style=\"text-align: right;\">\n",
       "      <th></th>\n",
       "      <th>Modified</th>\n",
       "      <th>Initial</th>\n",
       "      <th>Delta</th>\n",
       "    </tr>\n",
       "  </thead>\n",
       "  <tbody>\n",
       "    <tr>\n",
       "      <th>189</th>\n",
       "      <td>8.336200</td>\n",
       "      <td>6.478356</td>\n",
       "      <td>1.857844</td>\n",
       "    </tr>\n",
       "    <tr>\n",
       "      <th>247</th>\n",
       "      <td>8.098800</td>\n",
       "      <td>6.523031</td>\n",
       "      <td>1.575769</td>\n",
       "    </tr>\n",
       "    <tr>\n",
       "      <th>245</th>\n",
       "      <td>8.025467</td>\n",
       "      <td>6.550161</td>\n",
       "      <td>1.475306</td>\n",
       "    </tr>\n",
       "    <tr>\n",
       "      <th>0</th>\n",
       "      <td>7.633944</td>\n",
       "      <td>6.165019</td>\n",
       "      <td>1.468925</td>\n",
       "    </tr>\n",
       "    <tr>\n",
       "      <th>296</th>\n",
       "      <td>6.001322</td>\n",
       "      <td>4.814178</td>\n",
       "      <td>1.187144</td>\n",
       "    </tr>\n",
       "    <tr>\n",
       "      <th>203</th>\n",
       "      <td>7.584806</td>\n",
       "      <td>6.447150</td>\n",
       "      <td>1.137656</td>\n",
       "    </tr>\n",
       "    <tr>\n",
       "      <th>310</th>\n",
       "      <td>7.717867</td>\n",
       "      <td>6.588387</td>\n",
       "      <td>1.129480</td>\n",
       "    </tr>\n",
       "    <tr>\n",
       "      <th>180</th>\n",
       "      <td>7.984889</td>\n",
       "      <td>6.868149</td>\n",
       "      <td>1.116740</td>\n",
       "    </tr>\n",
       "    <tr>\n",
       "      <th>308</th>\n",
       "      <td>7.902000</td>\n",
       "      <td>6.801856</td>\n",
       "      <td>1.100144</td>\n",
       "    </tr>\n",
       "    <tr>\n",
       "      <th>39</th>\n",
       "      <td>8.090167</td>\n",
       "      <td>7.021489</td>\n",
       "      <td>1.068678</td>\n",
       "    </tr>\n",
       "  </tbody>\n",
       "</table>\n",
       "</div>"
      ],
      "text/plain": [
       "     Modified   Initial     Delta\n",
       "189  8.336200  6.478356  1.857844\n",
       "247  8.098800  6.523031  1.575769\n",
       "245  8.025467  6.550161  1.475306\n",
       "0    7.633944  6.165019  1.468925\n",
       "296  6.001322  4.814178  1.187144\n",
       "203  7.584806  6.447150  1.137656\n",
       "310  7.717867  6.588387  1.129480\n",
       "180  7.984889  6.868149  1.116740\n",
       "308  7.902000  6.801856  1.100144\n",
       "39   8.090167  7.021489  1.068678"
      ]
     },
     "execution_count": 51,
     "metadata": {},
     "output_type": "execute_result"
    }
   ],
   "source": [
    "changes.head(10)"
   ]
  },
  {
   "cell_type": "code",
   "execution_count": 52,
   "metadata": {},
   "outputs": [
    {
     "data": {
      "text/html": [
       "<div>\n",
       "<style scoped>\n",
       "    .dataframe tbody tr th:only-of-type {\n",
       "        vertical-align: middle;\n",
       "    }\n",
       "\n",
       "    .dataframe tbody tr th {\n",
       "        vertical-align: top;\n",
       "    }\n",
       "\n",
       "    .dataframe thead th {\n",
       "        text-align: right;\n",
       "    }\n",
       "</style>\n",
       "<table border=\"1\" class=\"dataframe\">\n",
       "  <thead>\n",
       "    <tr style=\"text-align: right;\">\n",
       "      <th></th>\n",
       "      <th>Modified</th>\n",
       "      <th>Initial</th>\n",
       "      <th>Delta</th>\n",
       "    </tr>\n",
       "  </thead>\n",
       "  <tbody>\n",
       "    <tr>\n",
       "      <th>189</th>\n",
       "      <td>8.336200</td>\n",
       "      <td>6.478356</td>\n",
       "      <td>1.857844</td>\n",
       "    </tr>\n",
       "    <tr>\n",
       "      <th>247</th>\n",
       "      <td>8.098800</td>\n",
       "      <td>6.523031</td>\n",
       "      <td>1.575769</td>\n",
       "    </tr>\n",
       "    <tr>\n",
       "      <th>245</th>\n",
       "      <td>8.025467</td>\n",
       "      <td>6.550161</td>\n",
       "      <td>1.475306</td>\n",
       "    </tr>\n",
       "    <tr>\n",
       "      <th>0</th>\n",
       "      <td>7.633944</td>\n",
       "      <td>6.165019</td>\n",
       "      <td>1.468925</td>\n",
       "    </tr>\n",
       "    <tr>\n",
       "      <th>203</th>\n",
       "      <td>7.584806</td>\n",
       "      <td>6.447150</td>\n",
       "      <td>1.137656</td>\n",
       "    </tr>\n",
       "  </tbody>\n",
       "</table>\n",
       "</div>"
      ],
      "text/plain": [
       "     Modified   Initial     Delta\n",
       "189  8.336200  6.478356  1.857844\n",
       "247  8.098800  6.523031  1.575769\n",
       "245  8.025467  6.550161  1.475306\n",
       "0    7.633944  6.165019  1.468925\n",
       "203  7.584806  6.447150  1.137656"
      ]
     },
     "execution_count": 52,
     "metadata": {},
     "output_type": "execute_result"
    }
   ],
   "source": [
    "inact_to_act.head()"
   ]
  },
  {
   "cell_type": "code",
   "execution_count": 108,
   "metadata": {},
   "outputs": [
    {
     "data": {
      "text/plain": [
       "<matplotlib.legend.Legend at 0x291aef43630>"
      ]
     },
     "execution_count": 108,
     "metadata": {},
     "output_type": "execute_result"
    },
    {
     "data": {
      "image/png": "[encoded data removed]",
      "text/plain": [
       "<Figure size 432x288 with 1 Axes>"
      ]
     },
     "metadata": {
      "needs_background": "light"
     },
     "output_type": "display_data"
    }
   ],
   "source": [
    "import matplotlib.pyplot as plt\n",
    "changes = pd.read_csv('./past outputs/out85_pIC.csv')\n",
    "inact_to_act=pd.read_csv('./past outputs/act_pIC85.csv')\n",
    "bins = np.linspace(4,10,14)\n",
    "#changes = changes.loc[changes.Delta>0]\n",
    "plt.hist(changes['Initial'], bins, alpha=0.5, label='initial',color='blue')\n",
    "plt.hist(changes['Modified'], bins, alpha=0.5, label='modified',color='green')\n",
    "plt.legend(loc='upper right')"
   ]
  },
  {
   "cell_type": "code",
   "execution_count": 58,
   "metadata": {},
   "outputs": [
    {
     "data": {
      "text/plain": [
       "-68.04726634855014"
      ]
     },
     "execution_count": 58,
     "metadata": {},
     "output_type": "execute_result"
    }
   ],
   "source": [
    "changes.loc[changes['Delta']<0].sum()['Delta']"
   ]
  },
  {
   "cell_type": "code",
   "execution_count": 57,
   "metadata": {},
   "outputs": [
    {
     "data": {
      "text/plain": [
       "Modified    1095.52368\n",
       "Initial     1040.30229\n",
       "Delta         55.22139\n",
       "dtype: float64"
      ]
     },
     "execution_count": 57,
     "metadata": {},
     "output_type": "execute_result"
    }
   ],
   "source": [
    "changes.loc[changes['Delta']>0].sum()"
   ]
  },
  {
   "cell_type": "code",
   "execution_count": 64,
   "metadata": {},
   "outputs": [
    {
     "name": "stdout",
     "output_type": "stream",
     "text": [
      "<class 'NoneType'>\n"
     ]
    }
   ],
   "source": [
    "for i in range(len(df)):\n",
    "        if type(Chem.MolFromSmiles(df.iloc[i,1])) != \"<class 'NoneType'>\":\n",
    "            if i==140:\n",
    "                print(type(Chem.MolFromSmiles(df.iloc[i,1])))\n",
    "            moli.append(Chem.MolFromSmiles(df.iloc[i,0]))\n",
    "            molm.append(Chem.MolFromSmiles(df.iloc[i,1]))"
   ]
  },
  {
   "cell_type": "code",
   "execution_count": 62,
   "metadata": {},
   "outputs": [
    {
     "data": {
      "text/plain": [
       "NoneType"
      ]
     },
     "execution_count": 62,
     "metadata": {},
     "output_type": "execute_result"
    }
   ],
   "source": [
    "type(molm[140])"
   ]
  },
  {
   "cell_type": "markdown",
   "metadata": {},
   "source": [
    "<h2>Epoch 295"
   ]
  },
  {
   "cell_type": "code",
   "execution_count": 65,
   "metadata": {},
   "outputs": [
    {
     "data": {
      "text/html": [
       "<div>\n",
       "<style scoped>\n",
       "    .dataframe tbody tr th:only-of-type {\n",
       "        vertical-align: middle;\n",
       "    }\n",
       "\n",
       "    .dataframe tbody tr th {\n",
       "        vertical-align: top;\n",
       "    }\n",
       "\n",
       "    .dataframe thead th {\n",
       "        text-align: right;\n",
       "    }\n",
       "</style>\n",
       "<table border=\"1\" class=\"dataframe\">\n",
       "  <thead>\n",
       "    <tr style=\"text-align: right;\">\n",
       "      <th></th>\n",
       "      <th>Initial molecule</th>\n",
       "      <th>Modified molecule</th>\n",
       "    </tr>\n",
       "  </thead>\n",
       "  <tbody>\n",
       "    <tr>\n",
       "      <th>0</th>\n",
       "      <td>Nc1ncccc1-c1nc2cc(Br)cnc2n1-c1ccc(CNC(=O)c2ccc...</td>\n",
       "      <td>Nc1ncccc1-c1nc2cc(OCCCOCCF)cnc2n1-c1ccc(CNC(=...</td>\n",
       "    </tr>\n",
       "    <tr>\n",
       "      <th>1</th>\n",
       "      <td>C[C@@H](Nc1c(N)ncnc1C#N)c1nn2ccnc2c(=O)n1-c1cc...</td>\n",
       "      <td>CC(C(=O)c1c(C#N)ncnc1I)c1nn2ccnc2c(=O)n1-c1cc...</td>\n",
       "    </tr>\n",
       "    <tr>\n",
       "      <th>2</th>\n",
       "      <td>C[C@@H](Nc1ncnc2[nH]cnc12)c1nn2cccc2c(=O)n1-c1...</td>\n",
       "      <td>C[C@@H](Nc1ncnc2c1nc[nH]2)c1cnc2[nH]c(=O)n(-n...</td>\n",
       "    </tr>\n",
       "    <tr>\n",
       "      <th>3</th>\n",
       "      <td>C=C(C)c1c(N)ncnc1N1CCC(c2nc(-c3cc(F)ccc3C(F)(F...</td>\n",
       "      <td>C=C(C)n1nc(N)nc1N1CCCC(c2nc(-c3cc([18F])ccc3O...</td>\n",
       "    </tr>\n",
       "    <tr>\n",
       "      <th>4</th>\n",
       "      <td>CC1Cc2ccccc2N1C(=O)Cc1nc(N2CCOCC2)cc(=O)n1C</td>\n",
       "      <td>Cc1c(N2CCOCC2)nc(CC(=O)c2ccc3CCCC(C)c3c2)[nH]...</td>\n",
       "    </tr>\n",
       "  </tbody>\n",
       "</table>\n",
       "</div>"
      ],
      "text/plain": [
       "                                   Initial molecule   \\\n",
       "0  Nc1ncccc1-c1nc2cc(Br)cnc2n1-c1ccc(CNC(=O)c2ccc...   \n",
       "1  C[C@@H](Nc1c(N)ncnc1C#N)c1nn2ccnc2c(=O)n1-c1cc...   \n",
       "2  C[C@@H](Nc1ncnc2[nH]cnc12)c1nn2cccc2c(=O)n1-c1...   \n",
       "3  C=C(C)c1c(N)ncnc1N1CCC(c2nc(-c3cc(F)ccc3C(F)(F...   \n",
       "4       CC1Cc2ccccc2N1C(=O)Cc1nc(N2CCOCC2)cc(=O)n1C    \n",
       "\n",
       "                                   Modified molecule  \n",
       "0   Nc1ncccc1-c1nc2cc(OCCCOCCF)cnc2n1-c1ccc(CNC(=...  \n",
       "1   CC(C(=O)c1c(C#N)ncnc1I)c1nn2ccnc2c(=O)n1-c1cc...  \n",
       "2   C[C@@H](Nc1ncnc2c1nc[nH]2)c1cnc2[nH]c(=O)n(-n...  \n",
       "3   C=C(C)n1nc(N)nc1N1CCCC(c2nc(-c3cc([18F])ccc3O...  \n",
       "4   Cc1c(N2CCOCC2)nc(CC(=O)c2ccc3CCCC(C)c3c2)[nH]...  "
      ]
     },
     "execution_count": 65,
     "metadata": {},
     "output_type": "execute_result"
    }
   ],
   "source": [
    "df = pd.read_csv('./past outputs/out295.csv',engine=\"python\")\n",
    "df.head()"
   ]
  },
  {
   "cell_type": "code",
   "execution_count": 79,
   "metadata": {},
   "outputs": [
    {
     "name": "stdout",
     "output_type": "stream",
     "text": [
      "317\n"
     ]
    }
   ],
   "source": [
    "from rdkit import Chem as ch\n",
    "moli = []\n",
    "molm = []\n",
    "for i in range(len(df)):\n",
    "        if (Chem.MolFromSmiles(df.iloc[i,1])) is not None:\n",
    "            moli.append(Chem.MolFromSmiles(df.iloc[i,0]))\n",
    "            molm.append(Chem.MolFromSmiles(df.iloc[i,1]))\n",
    "print(len(molm))"
   ]
  },
  {
   "cell_type": "code",
   "execution_count": 68,
   "metadata": {},
   "outputs": [
    {
     "name": "stdout",
     "output_type": "stream",
     "text": [
      "Properties predicted for 317 molecules\n"
     ]
    },
    {
     "name": "stderr",
     "output_type": "stream",
     "text": [
      "C:\\Users\\HP\\Anaconda3\\lib\\site-packages\\sklearn\\base.py:334: UserWarning: Trying to unpickle estimator DecisionTreeRegressor from version 0.20.2 when using version 0.23.1. This might lead to breaking code or invalid results. Use at your own risk.\n",
      "  UserWarning)\n",
      "C:\\Users\\HP\\Anaconda3\\lib\\site-packages\\sklearn\\base.py:334: UserWarning: Trying to unpickle estimator RandomForestRegressor from version 0.20.2 when using version 0.23.1. This might lead to breaking code or invalid results. Use at your own risk.\n",
      "  UserWarning)\n"
     ]
    }
   ],
   "source": [
    "ini = get_pIC50(moli)"
   ]
  },
  {
   "cell_type": "code",
   "execution_count": 87,
   "metadata": {},
   "outputs": [
    {
     "name": "stdout",
     "output_type": "stream",
     "text": [
      "127\n"
     ]
    }
   ],
   "source": [
    "for i in range(len(molm)):\n",
    "    if molm[i] is None:\n",
    "        print(i)"
   ]
  },
  {
   "cell_type": "code",
   "execution_count": 46,
   "metadata": {},
   "outputs": [
    {
     "name": "stdout",
     "output_type": "stream",
     "text": [
      "318\n",
      "Properties predicted for 318 molecules\n"
     ]
    },
    {
     "name": "stderr",
     "output_type": "stream",
     "text": [
      "C:\\Users\\HP\\Anaconda3\\lib\\site-packages\\sklearn\\base.py:334: UserWarning: Trying to unpickle estimator DecisionTreeRegressor from version 0.20.2 when using version 0.23.1. This might lead to breaking code or invalid results. Use at your own risk.\n",
      "  UserWarning)\n",
      "C:\\Users\\HP\\Anaconda3\\lib\\site-packages\\sklearn\\base.py:334: UserWarning: Trying to unpickle estimator RandomForestRegressor from version 0.20.2 when using version 0.23.1. This might lead to breaking code or invalid results. Use at your own risk.\n",
      "  UserWarning)\n"
     ]
    }
   ],
   "source": [
    "print(len(molm))\n",
    "mod = get_pIC50(molm)"
   ]
  },
  {
   "cell_type": "code",
   "execution_count": 41,
   "metadata": {},
   "outputs": [
    {
     "data": {
      "text/plain": [
       "318"
      ]
     },
     "execution_count": 41,
     "metadata": {},
     "output_type": "execute_result"
    }
   ],
   "source": [
    "ini = np.delete(ini,140)\n",
    "len(ini)"
   ]
  },
  {
   "cell_type": "code",
   "execution_count": 45,
   "metadata": {},
   "outputs": [
    {
     "data": {
      "text/plain": [
       "(318, 2)"
      ]
     },
     "execution_count": 45,
     "metadata": {},
     "output_type": "execute_result"
    }
   ],
   "source": [
    "mod.shape"
   ]
  },
  {
   "cell_type": "code",
   "execution_count": 47,
   "metadata": {},
   "outputs": [
    {
     "data": {
      "text/html": [
       "<div>\n",
       "<style scoped>\n",
       "    .dataframe tbody tr th:only-of-type {\n",
       "        vertical-align: middle;\n",
       "    }\n",
       "\n",
       "    .dataframe tbody tr th {\n",
       "        vertical-align: top;\n",
       "    }\n",
       "\n",
       "    .dataframe thead th {\n",
       "        text-align: right;\n",
       "    }\n",
       "</style>\n",
       "<table border=\"1\" class=\"dataframe\">\n",
       "  <thead>\n",
       "    <tr style=\"text-align: right;\">\n",
       "      <th></th>\n",
       "      <th>Modified</th>\n",
       "      <th>Initial</th>\n",
       "      <th>Delta</th>\n",
       "    </tr>\n",
       "  </thead>\n",
       "  <tbody>\n",
       "    <tr>\n",
       "      <th>189</th>\n",
       "      <td>8.336200</td>\n",
       "      <td>6.478356</td>\n",
       "      <td>1.857844</td>\n",
       "    </tr>\n",
       "    <tr>\n",
       "      <th>247</th>\n",
       "      <td>8.098800</td>\n",
       "      <td>6.523031</td>\n",
       "      <td>1.575769</td>\n",
       "    </tr>\n",
       "    <tr>\n",
       "      <th>245</th>\n",
       "      <td>8.025467</td>\n",
       "      <td>6.550161</td>\n",
       "      <td>1.475306</td>\n",
       "    </tr>\n",
       "    <tr>\n",
       "      <th>0</th>\n",
       "      <td>7.633944</td>\n",
       "      <td>6.165019</td>\n",
       "      <td>1.468925</td>\n",
       "    </tr>\n",
       "    <tr>\n",
       "      <th>296</th>\n",
       "      <td>6.001322</td>\n",
       "      <td>4.814178</td>\n",
       "      <td>1.187144</td>\n",
       "    </tr>\n",
       "  </tbody>\n",
       "</table>\n",
       "</div>"
      ],
      "text/plain": [
       "     Modified   Initial     Delta\n",
       "189  8.336200  6.478356  1.857844\n",
       "247  8.098800  6.523031  1.575769\n",
       "245  8.025467  6.550161  1.475306\n",
       "0    7.633944  6.165019  1.468925\n",
       "296  6.001322  4.814178  1.187144"
      ]
     },
     "execution_count": 47,
     "metadata": {},
     "output_type": "execute_result"
    }
   ],
   "source": [
    "ini = np.asarray(ini)\n",
    "mod = np.asarray(mod)\n",
    "changes = pd.DataFrame(np.transpose(np.asarray([ini,mod])),columns=['Modified','Initial'])\n",
    "changes['Delta'] = changes['Modified'] - changes['Initial']\n",
    "changes.sort_values(by='Delta',ascending=False,inplace=True)\n",
    "changes.head()"
   ]
  },
  {
   "cell_type": "code",
   "execution_count": 21,
   "metadata": {},
   "outputs": [
    {
     "data": {
      "image/png": "[encoded data removed]",
      "text/plain": [
       "<rdkit.Chem.rdchem.Mol at 0x291ac57a120>"
      ]
     },
     "execution_count": 21,
     "metadata": {},
     "output_type": "execute_result"
    }
   ],
   "source": [
    "molm[0]"
   ]
  },
  {
   "cell_type": "code",
   "execution_count": 92,
   "metadata": {},
   "outputs": [],
   "source": [
    "#inact_to_act = changes.loc[(changes['Modified']>7) & (changes['Initial']<7),['Modified','Initial','Delta']].sort_values(by='Delta',ascending=False)\n",
    "changes = pd.read_csv('./past outputs/out_pIC295.csv')\n",
    "inact_to_act= pd.read_csv('./past outputs/act_pIC295.csv')"
   ]
  },
  {
   "cell_type": "code",
   "execution_count": 93,
   "metadata": {},
   "outputs": [
    {
     "data": {
      "text/html": [
       "<div>\n",
       "<style scoped>\n",
       "    .dataframe tbody tr th:only-of-type {\n",
       "        vertical-align: middle;\n",
       "    }\n",
       "\n",
       "    .dataframe tbody tr th {\n",
       "        vertical-align: top;\n",
       "    }\n",
       "\n",
       "    .dataframe thead th {\n",
       "        text-align: right;\n",
       "    }\n",
       "</style>\n",
       "<table border=\"1\" class=\"dataframe\">\n",
       "  <thead>\n",
       "    <tr style=\"text-align: right;\">\n",
       "      <th></th>\n",
       "      <th>Modified</th>\n",
       "      <th>Initial</th>\n",
       "      <th>Delta</th>\n",
       "    </tr>\n",
       "  </thead>\n",
       "  <tbody>\n",
       "    <tr>\n",
       "      <th>0</th>\n",
       "      <td>6.771067</td>\n",
       "      <td>5.138931</td>\n",
       "      <td>1.632136</td>\n",
       "    </tr>\n",
       "    <tr>\n",
       "      <th>1</th>\n",
       "      <td>7.248672</td>\n",
       "      <td>5.837932</td>\n",
       "      <td>1.410740</td>\n",
       "    </tr>\n",
       "    <tr>\n",
       "      <th>2</th>\n",
       "      <td>7.358767</td>\n",
       "      <td>6.045486</td>\n",
       "      <td>1.313281</td>\n",
       "    </tr>\n",
       "    <tr>\n",
       "      <th>3</th>\n",
       "      <td>7.868600</td>\n",
       "      <td>6.607863</td>\n",
       "      <td>1.260737</td>\n",
       "    </tr>\n",
       "    <tr>\n",
       "      <th>4</th>\n",
       "      <td>6.704933</td>\n",
       "      <td>5.495667</td>\n",
       "      <td>1.209267</td>\n",
       "    </tr>\n",
       "    <tr>\n",
       "      <th>5</th>\n",
       "      <td>7.853556</td>\n",
       "      <td>6.749356</td>\n",
       "      <td>1.104200</td>\n",
       "    </tr>\n",
       "    <tr>\n",
       "      <th>6</th>\n",
       "      <td>8.192291</td>\n",
       "      <td>7.227511</td>\n",
       "      <td>0.964780</td>\n",
       "    </tr>\n",
       "    <tr>\n",
       "      <th>7</th>\n",
       "      <td>7.719600</td>\n",
       "      <td>6.776863</td>\n",
       "      <td>0.942737</td>\n",
       "    </tr>\n",
       "    <tr>\n",
       "      <th>8</th>\n",
       "      <td>7.964067</td>\n",
       "      <td>7.111183</td>\n",
       "      <td>0.852883</td>\n",
       "    </tr>\n",
       "    <tr>\n",
       "      <th>9</th>\n",
       "      <td>7.719600</td>\n",
       "      <td>6.878530</td>\n",
       "      <td>0.841070</td>\n",
       "    </tr>\n",
       "  </tbody>\n",
       "</table>\n",
       "</div>"
      ],
      "text/plain": [
       "   Modified   Initial     Delta\n",
       "0  6.771067  5.138931  1.632136\n",
       "1  7.248672  5.837932  1.410740\n",
       "2  7.358767  6.045486  1.313281\n",
       "3  7.868600  6.607863  1.260737\n",
       "4  6.704933  5.495667  1.209267\n",
       "5  7.853556  6.749356  1.104200\n",
       "6  8.192291  7.227511  0.964780\n",
       "7  7.719600  6.776863  0.942737\n",
       "8  7.964067  7.111183  0.852883\n",
       "9  7.719600  6.878530  0.841070"
      ]
     },
     "execution_count": 93,
     "metadata": {},
     "output_type": "execute_result"
    }
   ],
   "source": [
    "changes.head(10)"
   ]
  },
  {
   "cell_type": "code",
   "execution_count": 94,
   "metadata": {},
   "outputs": [
    {
     "data": {
      "text/html": [
       "<div>\n",
       "<style scoped>\n",
       "    .dataframe tbody tr th:only-of-type {\n",
       "        vertical-align: middle;\n",
       "    }\n",
       "\n",
       "    .dataframe tbody tr th {\n",
       "        vertical-align: top;\n",
       "    }\n",
       "\n",
       "    .dataframe thead th {\n",
       "        text-align: right;\n",
       "    }\n",
       "</style>\n",
       "<table border=\"1\" class=\"dataframe\">\n",
       "  <thead>\n",
       "    <tr style=\"text-align: right;\">\n",
       "      <th></th>\n",
       "      <th>Modified</th>\n",
       "      <th>Initial</th>\n",
       "      <th>Delta</th>\n",
       "    </tr>\n",
       "  </thead>\n",
       "  <tbody>\n",
       "    <tr>\n",
       "      <th>0</th>\n",
       "      <td>7.248672</td>\n",
       "      <td>5.837932</td>\n",
       "      <td>1.410740</td>\n",
       "    </tr>\n",
       "    <tr>\n",
       "      <th>1</th>\n",
       "      <td>7.358767</td>\n",
       "      <td>6.045486</td>\n",
       "      <td>1.313281</td>\n",
       "    </tr>\n",
       "    <tr>\n",
       "      <th>2</th>\n",
       "      <td>7.868600</td>\n",
       "      <td>6.607863</td>\n",
       "      <td>1.260737</td>\n",
       "    </tr>\n",
       "    <tr>\n",
       "      <th>3</th>\n",
       "      <td>7.853556</td>\n",
       "      <td>6.749356</td>\n",
       "      <td>1.104200</td>\n",
       "    </tr>\n",
       "    <tr>\n",
       "      <th>4</th>\n",
       "      <td>7.719600</td>\n",
       "      <td>6.776863</td>\n",
       "      <td>0.942737</td>\n",
       "    </tr>\n",
       "  </tbody>\n",
       "</table>\n",
       "</div>"
      ],
      "text/plain": [
       "   Modified   Initial     Delta\n",
       "0  7.248672  5.837932  1.410740\n",
       "1  7.358767  6.045486  1.313281\n",
       "2  7.868600  6.607863  1.260737\n",
       "3  7.853556  6.749356  1.104200\n",
       "4  7.719600  6.776863  0.942737"
      ]
     },
     "execution_count": 94,
     "metadata": {},
     "output_type": "execute_result"
    }
   ],
   "source": [
    "inact_to_act.head()"
   ]
  },
  {
   "cell_type": "code",
   "execution_count": 9,
   "metadata": {},
   "outputs": [],
   "source": [
    "changes = pd.read_csv('./past outputs/29Jun/out_pIC295.csv')\n",
    "inact_to_act=pd.read_csv('./past outputs/29Jun/act_pIC295.csv')"
   ]
  },
  {
   "cell_type": "code",
   "execution_count": 19,
   "metadata": {},
   "outputs": [
    {
     "data": {
      "text/plain": [
       "[10, 8]"
      ]
     },
     "execution_count": 19,
     "metadata": {},
     "output_type": "execute_result"
    }
   ],
   "source": [
    "[changes.loc[changes['Initial']>8]['Initial'].count(),changes.loc[changes['Modified']>8]['Modified'].count()]"
   ]
  },
  {
   "cell_type": "code",
   "execution_count": 21,
   "metadata": {},
   "outputs": [
    {
     "data": {
      "text/plain": [
       "<BarContainer object of 2 artists>"
      ]
     },
     "execution_count": 21,
     "metadata": {},
     "output_type": "execute_result"
    },
    {
     "data": {
      "image/png": "[encoded data removed]",
      "text/plain": [
       "<Figure size 432x288 with 1 Axes>"
      ]
     },
     "metadata": {
      "needs_background": "light"
     },
     "output_type": "display_data"
    }
   ],
   "source": [
    "plt.bar([\"Initial\",\"Modified\"],[changes.loc[changes['Initial']>8]['Initial'].count(),changes.loc[changes['Modified']>8]['Modified'].count()])"
   ]
  },
  {
   "cell_type": "code",
   "execution_count": 110,
   "metadata": {},
   "outputs": [
    {
     "data": {
      "text/plain": [
       "<matplotlib.legend.Legend at 0x291af075fd0>"
      ]
     },
     "execution_count": 110,
     "metadata": {},
     "output_type": "execute_result"
    },
    {
     "data": {
      "image/png": "[encoded data removed]",
      "text/plain": [
       "<Figure size 432x288 with 1 Axes>"
      ]
     },
     "metadata": {
      "needs_background": "light"
     },
     "output_type": "display_data"
    }
   ],
   "source": [
    "import matplotlib.pyplot as plt\n",
    "bins = np.linspace(4,10,14)\n",
    "#changes = changes.loc[changes.Delta>0]\n",
    "plt.hist(changes['Initial'], bins, alpha=0.5, label='initial',color='blue')\n",
    "plt.hist(changes['Modified'], bins, alpha=0.5, label='modified',color='green')\n",
    "plt.legend(loc='upper right')"
   ]
  },
  {
   "cell_type": "code",
   "execution_count": 58,
   "metadata": {},
   "outputs": [
    {
     "data": {
      "text/plain": [
       "-68.04726634855014"
      ]
     },
     "execution_count": 58,
     "metadata": {},
     "output_type": "execute_result"
    }
   ],
   "source": [
    "changes.loc[changes['Delta']<0].sum()['Delta']"
   ]
  },
  {
   "cell_type": "markdown",
   "metadata": {},
   "source": [
    "<h1>r_tot what is?"
   ]
  },
  {
   "cell_type": "code",
   "execution_count": 3,
   "metadata": {},
   "outputs": [],
   "source": [
    "import numpy as np\n",
    "hist = np.load('./History/history.npy')\n"
   ]
  },
  {
   "cell_type": "code",
   "execution_count": 4,
   "metadata": {},
   "outputs": [
    {
     "data": {
      "text/plain": [
       "(300, 4)"
      ]
     },
     "execution_count": 4,
     "metadata": {},
     "output_type": "execute_result"
    }
   ],
   "source": [
    "hist.shape"
   ]
  },
  {
   "cell_type": "code",
   "execution_count": 14,
   "metadata": {},
   "outputs": [
    {
     "data": {
      "text/plain": [
       "[<matplotlib.lines.Line2D at 0x227415ae940>]"
      ]
     },
     "execution_count": 14,
     "metadata": {},
     "output_type": "execute_result"
    },
    {
     "data": {
      "image/png": "[encoded data removed]",
      "text/plain": [
       "<Figure size 360x360 with 1 Axes>"
      ]
     },
     "metadata": {
      "needs_background": "light"
     },
     "output_type": "display_data"
    }
   ],
   "source": [
    "plt.figure(figsize=(5,5))\n",
    "plt.plot(range(1,301),hist[:,1])"
   ]
  },
  {
   "cell_type": "code",
   "execution_count": 16,
   "metadata": {},
   "outputs": [
    {
     "data": {
      "text/plain": [
       "[<matplotlib.lines.Line2D at 0x227416766a0>]"
      ]
     },
     "execution_count": 16,
     "metadata": {},
     "output_type": "execute_result"
    },
    {
     "data": {
      "image/png": "[encoded data removed]",
      "text/plain": [
       "<Figure size 720x720 with 1 Axes>"
      ]
     },
     "metadata": {
      "needs_background": "light"
     },
     "output_type": "display_data"
    }
   ],
   "source": [
    "plt.figure(figsize=(10,10))\n",
    "plt.plot(range(1,301),hist[:,2])"
   ]
  },
  {
   "cell_type": "code",
   "execution_count": 18,
   "metadata": {},
   "outputs": [],
   "source": [
    "df = pd.DataFrame(data=hist,columns=[\"mean_r_tot\",\"valid_frac\",\"good_pIC\",\"mean_score\"])"
   ]
  },
  {
   "cell_type": "code",
   "execution_count": 21,
   "metadata": {},
   "outputs": [
    {
     "data": {
      "text/plain": [
       "array([0.00195312, 0.00390625, 0.0078125 , 0.00585938, 0.01171875,\n",
       "       0.01367188, 0.        , 0.00976562, 0.015625  , 0.0234375 ,\n",
       "       0.01953125, 0.01757812, 0.02148438])"
      ]
     },
     "execution_count": 21,
     "metadata": {},
     "output_type": "execute_result"
    }
   ],
   "source": [
    "df.mean_score.unique()"
   ]
  },
  {
   "cell_type": "code",
   "execution_count": 25,
   "metadata": {},
   "outputs": [
    {
     "data": {
      "text/plain": [
       "13"
      ]
     },
     "execution_count": 25,
     "metadata": {},
     "output_type": "execute_result"
    }
   ],
   "source": [
    "len(df.good_pIC.unique())"
   ]
  },
  {
   "cell_type": "code",
   "execution_count": 24,
   "metadata": {},
   "outputs": [
    {
     "data": {
      "text/plain": [
       "59"
      ]
     },
     "execution_count": 24,
     "metadata": {},
     "output_type": "execute_result"
    }
   ],
   "source": [
    "len(df.valid_frac.unique())"
   ]
  },
  {
   "cell_type": "markdown",
   "metadata": {},
   "source": [
    "Note that fraction all valid = fraction pIC > 8"
   ]
  },
  {
   "cell_type": "markdown",
   "metadata": {},
   "source": [
    "<h1> Estimating number of NaN values"
   ]
  },
  {
   "cell_type": "code",
   "execution_count": 39,
   "metadata": {},
   "outputs": [],
   "source": [
    "import sys\n",
    "sys.path.insert(0,'./Modules/')\n",
    "from rewards import get_padel\n",
    "get_padel(r'C:\\Users\\HP\\AZC_Internship\\DeepFMPO\\3.6\\generated_molecules','./chk_desc.csv','1500')"
   ]
  },
  {
   "cell_type": "code",
   "execution_count": 40,
   "metadata": {},
   "outputs": [],
   "source": [
    "df = pd.read_csv('./chk_desc.csv')"
   ]
  },
  {
   "cell_type": "code",
   "execution_count": 41,
   "metadata": {},
   "outputs": [
    {
     "name": "stdout",
     "output_type": "stream",
     "text": [
      "count      308\n",
      "unique       2\n",
      "top       True\n",
      "freq       292\n",
      "Name: SCH-3, dtype: object\n",
      "count      308\n",
      "unique       2\n",
      "top       True\n",
      "freq       292\n",
      "Name: SCH-4, dtype: object\n",
      "count      308\n",
      "unique       2\n",
      "top       True\n",
      "freq       292\n",
      "Name: SCH-5, dtype: object\n",
      "count      308\n",
      "unique       2\n",
      "top       True\n",
      "freq       292\n",
      "Name: SCH-6, dtype: object\n",
      "count      308\n",
      "unique       2\n",
      "top       True\n",
      "freq       292\n",
      "Name: SCH-7, dtype: object\n",
      "count      308\n",
      "unique       2\n",
      "top       True\n",
      "freq       292\n",
      "Name: VCH-3, dtype: object\n",
      "count      308\n",
      "unique       2\n",
      "top       True\n",
      "freq       292\n",
      "Name: VCH-4, dtype: object\n",
      "count      308\n",
      "unique       2\n",
      "top       True\n",
      "freq       292\n",
      "Name: VCH-5, dtype: object\n",
      "count      308\n",
      "unique       2\n",
      "top       True\n",
      "freq       292\n",
      "Name: VCH-6, dtype: object\n",
      "count      308\n",
      "unique       2\n",
      "top       True\n",
      "freq       292\n",
      "Name: VCH-7, dtype: object\n",
      "count      308\n",
      "unique       2\n",
      "top       True\n",
      "freq       282\n",
      "Name: SP-0, dtype: object\n",
      "count      308\n",
      "unique       2\n",
      "top       True\n",
      "freq       282\n",
      "Name: SP-1, dtype: object\n",
      "count      308\n",
      "unique       2\n",
      "top       True\n",
      "freq       282\n",
      "Name: SP-2, dtype: object\n",
      "count      308\n",
      "unique       2\n",
      "top       True\n",
      "freq       282\n",
      "Name: SP-3, dtype: object\n",
      "count      308\n",
      "unique       2\n",
      "top       True\n",
      "freq       282\n",
      "Name: SP-4, dtype: object\n",
      "count      308\n",
      "unique       2\n",
      "top       True\n",
      "freq       282\n",
      "Name: SP-5, dtype: object\n",
      "count      308\n",
      "unique       2\n",
      "top       True\n",
      "freq       282\n",
      "Name: SP-6, dtype: object\n",
      "count      308\n",
      "unique       2\n",
      "top       True\n",
      "freq       282\n",
      "Name: SP-7, dtype: object\n",
      "count      308\n",
      "unique       2\n",
      "top       True\n",
      "freq       282\n",
      "Name: ASP-0, dtype: object\n",
      "count      308\n",
      "unique       2\n",
      "top       True\n",
      "freq       282\n",
      "Name: ASP-1, dtype: object\n",
      "count      308\n",
      "unique       2\n",
      "top       True\n",
      "freq       282\n",
      "Name: ASP-2, dtype: object\n",
      "count      308\n",
      "unique       2\n",
      "top       True\n",
      "freq       282\n",
      "Name: ASP-3, dtype: object\n",
      "count      308\n",
      "unique       2\n",
      "top       True\n",
      "freq       282\n",
      "Name: ASP-4, dtype: object\n",
      "count      308\n",
      "unique       2\n",
      "top       True\n",
      "freq       282\n",
      "Name: ASP-5, dtype: object\n",
      "count      308\n",
      "unique       2\n",
      "top       True\n",
      "freq       282\n",
      "Name: ASP-6, dtype: object\n",
      "count      308\n",
      "unique       2\n",
      "top       True\n",
      "freq       282\n",
      "Name: ASP-7, dtype: object\n",
      "count      308\n",
      "unique       2\n",
      "top       True\n",
      "freq       282\n",
      "Name: VP-0, dtype: object\n",
      "count      308\n",
      "unique       2\n",
      "top       True\n",
      "freq       282\n",
      "Name: VP-1, dtype: object\n",
      "count      308\n",
      "unique       2\n",
      "top       True\n",
      "freq       282\n",
      "Name: VP-2, dtype: object\n",
      "count      308\n",
      "unique       2\n",
      "top       True\n",
      "freq       282\n",
      "Name: VP-3, dtype: object\n",
      "count      308\n",
      "unique       2\n",
      "top       True\n",
      "freq       282\n",
      "Name: VP-4, dtype: object\n",
      "count      308\n",
      "unique       2\n",
      "top       True\n",
      "freq       282\n",
      "Name: VP-5, dtype: object\n",
      "count      308\n",
      "unique       2\n",
      "top       True\n",
      "freq       282\n",
      "Name: VP-6, dtype: object\n",
      "count      308\n",
      "unique       2\n",
      "top       True\n",
      "freq       282\n",
      "Name: VP-7, dtype: object\n",
      "count      308\n",
      "unique       2\n",
      "top       True\n",
      "freq       282\n",
      "Name: AVP-0, dtype: object\n",
      "count      308\n",
      "unique       2\n",
      "top       True\n",
      "freq       282\n",
      "Name: AVP-1, dtype: object\n",
      "count      308\n",
      "unique       2\n",
      "top       True\n",
      "freq       282\n",
      "Name: AVP-2, dtype: object\n",
      "count      308\n",
      "unique       2\n",
      "top       True\n",
      "freq       282\n",
      "Name: AVP-3, dtype: object\n",
      "count      308\n",
      "unique       2\n",
      "top       True\n",
      "freq       282\n",
      "Name: AVP-4, dtype: object\n",
      "count      308\n",
      "unique       2\n",
      "top       True\n",
      "freq       282\n",
      "Name: AVP-5, dtype: object\n",
      "count      308\n",
      "unique       2\n",
      "top       True\n",
      "freq       282\n",
      "Name: AVP-6, dtype: object\n",
      "count      308\n",
      "unique       2\n",
      "top       True\n",
      "freq       282\n",
      "Name: AVP-7, dtype: object\n"
     ]
    }
   ],
   "source": [
    "unavlb = []\n",
    "for col in df.columns:\n",
    "    if df[col].isna().any() == True:\n",
    "        print(df[col].isna().describe())\n",
    "        unavlb.append(col)"
   ]
  },
  {
   "cell_type": "markdown",
   "metadata": {},
   "source": [
    "Till 1500ms:These columns are not there in RFECVSKB1200 => <b>Null values are not affecting the model</b>"
   ]
  },
  {
   "cell_type": "code",
   "execution_count": 42,
   "metadata": {},
   "outputs": [
    {
     "name": "stdout",
     "output_type": "stream",
     "text": [
      "No problem (y)\n"
     ]
    }
   ],
   "source": [
    "chk = True\n",
    "for col in unavlb:\n",
    "    if col in needed_cols:\n",
    "        print(\"Losing\")\n",
    "        chk = False\n",
    "        break\n",
    "if chk:\n",
    "    print(\"No problem (y)\")"
   ]
  },
  {
   "cell_type": "code",
   "execution_count": 11,
   "metadata": {},
   "outputs": [],
   "source": [
    "x = pd.read_csv(r'C:\\Users\\HP\\AZC_Internship\\jupyter notebooks\\data\\RFECV1200SKB2.csv')\n",
    "needed_cols = x.columns"
   ]
  },
  {
   "cell_type": "code",
   "execution_count": 15,
   "metadata": {},
   "outputs": [
    {
     "data": {
      "text/html": [
       "<div>\n",
       "<style scoped>\n",
       "    .dataframe tbody tr th:only-of-type {\n",
       "        vertical-align: middle;\n",
       "    }\n",
       "\n",
       "    .dataframe tbody tr th {\n",
       "        vertical-align: top;\n",
       "    }\n",
       "\n",
       "    .dataframe thead th {\n",
       "        text-align: right;\n",
       "    }\n",
       "</style>\n",
       "<table border=\"1\" class=\"dataframe\">\n",
       "  <thead>\n",
       "    <tr style=\"text-align: right;\">\n",
       "      <th></th>\n",
       "      <th>Name</th>\n",
       "      <th>ATS0m</th>\n",
       "      <th>ATS1m</th>\n",
       "      <th>ATS2m</th>\n",
       "      <th>ATS3m</th>\n",
       "      <th>ATS4m</th>\n",
       "      <th>ATS5m</th>\n",
       "      <th>ATS6m</th>\n",
       "      <th>ATS7m</th>\n",
       "      <th>ATS8m</th>\n",
       "      <th>...</th>\n",
       "      <th>nT5HeteroRing</th>\n",
       "      <th>nT6HeteroRing</th>\n",
       "      <th>nT7HeteroRing</th>\n",
       "      <th>nT8HeteroRing</th>\n",
       "      <th>nT9HeteroRing</th>\n",
       "      <th>nT10HeteroRing</th>\n",
       "      <th>nT11HeteroRing</th>\n",
       "      <th>nT12HeteroRing</th>\n",
       "      <th>nTG12HeteroRing</th>\n",
       "      <th>LipinskiFailures</th>\n",
       "    </tr>\n",
       "  </thead>\n",
       "  <tbody>\n",
       "    <tr>\n",
       "      <th>0</th>\n",
       "      <td>10</td>\n",
       "      <td>5039.970682</td>\n",
       "      <td>5223.716046</td>\n",
       "      <td>7606.656293</td>\n",
       "      <td>8417.172469</td>\n",
       "      <td>7930.540778</td>\n",
       "      <td>6869.434662</td>\n",
       "      <td>6138.930561</td>\n",
       "      <td>6116.460679</td>\n",
       "      <td>5335.137068</td>\n",
       "      <td>...</td>\n",
       "      <td>1.0</td>\n",
       "      <td>1.0</td>\n",
       "      <td>0.0</td>\n",
       "      <td>0.0</td>\n",
       "      <td>1.0</td>\n",
       "      <td>0.0</td>\n",
       "      <td>0.0</td>\n",
       "      <td>0.0</td>\n",
       "      <td>0.0</td>\n",
       "      <td>0</td>\n",
       "    </tr>\n",
       "    <tr>\n",
       "      <th>1</th>\n",
       "      <td>100</td>\n",
       "      <td>4669.708630</td>\n",
       "      <td>5440.989382</td>\n",
       "      <td>7705.605475</td>\n",
       "      <td>7909.481514</td>\n",
       "      <td>6984.642688</td>\n",
       "      <td>6491.314192</td>\n",
       "      <td>6227.101198</td>\n",
       "      <td>5463.471354</td>\n",
       "      <td>5027.893249</td>\n",
       "      <td>...</td>\n",
       "      <td>1.0</td>\n",
       "      <td>2.0</td>\n",
       "      <td>0.0</td>\n",
       "      <td>0.0</td>\n",
       "      <td>1.0</td>\n",
       "      <td>1.0</td>\n",
       "      <td>0.0</td>\n",
       "      <td>0.0</td>\n",
       "      <td>0.0</td>\n",
       "      <td>0</td>\n",
       "    </tr>\n",
       "    <tr>\n",
       "      <th>2</th>\n",
       "      <td>101</td>\n",
       "      <td>5580.133114</td>\n",
       "      <td>6190.047729</td>\n",
       "      <td>8915.936064</td>\n",
       "      <td>9392.375746</td>\n",
       "      <td>9975.203626</td>\n",
       "      <td>10536.031895</td>\n",
       "      <td>10390.103630</td>\n",
       "      <td>10306.291221</td>\n",
       "      <td>9389.331234</td>\n",
       "      <td>...</td>\n",
       "      <td>2.0</td>\n",
       "      <td>1.0</td>\n",
       "      <td>0.0</td>\n",
       "      <td>0.0</td>\n",
       "      <td>2.0</td>\n",
       "      <td>0.0</td>\n",
       "      <td>0.0</td>\n",
       "      <td>0.0</td>\n",
       "      <td>0.0</td>\n",
       "      <td>0</td>\n",
       "    </tr>\n",
       "    <tr>\n",
       "      <th>3</th>\n",
       "      <td>0</td>\n",
       "      <td>5818.100451</td>\n",
       "      <td>6593.733096</td>\n",
       "      <td>10266.792096</td>\n",
       "      <td>11364.878541</td>\n",
       "      <td>12421.098234</td>\n",
       "      <td>11710.054145</td>\n",
       "      <td>9562.036369</td>\n",
       "      <td>7797.198820</td>\n",
       "      <td>7109.291543</td>\n",
       "      <td>...</td>\n",
       "      <td>3.0</td>\n",
       "      <td>2.0</td>\n",
       "      <td>0.0</td>\n",
       "      <td>0.0</td>\n",
       "      <td>1.0</td>\n",
       "      <td>0.0</td>\n",
       "      <td>0.0</td>\n",
       "      <td>0.0</td>\n",
       "      <td>0.0</td>\n",
       "      <td>1</td>\n",
       "    </tr>\n",
       "    <tr>\n",
       "      <th>4</th>\n",
       "      <td>102</td>\n",
       "      <td>7204.771591</td>\n",
       "      <td>7100.449277</td>\n",
       "      <td>10699.590348</td>\n",
       "      <td>10185.879728</td>\n",
       "      <td>9029.673054</td>\n",
       "      <td>8758.728401</td>\n",
       "      <td>7407.515599</td>\n",
       "      <td>7574.000067</td>\n",
       "      <td>7440.759138</td>\n",
       "      <td>...</td>\n",
       "      <td>2.0</td>\n",
       "      <td>0.0</td>\n",
       "      <td>0.0</td>\n",
       "      <td>0.0</td>\n",
       "      <td>1.0</td>\n",
       "      <td>0.0</td>\n",
       "      <td>0.0</td>\n",
       "      <td>0.0</td>\n",
       "      <td>0.0</td>\n",
       "      <td>0</td>\n",
       "    </tr>\n",
       "    <tr>\n",
       "      <th>5</th>\n",
       "      <td>103</td>\n",
       "      <td>7508.069932</td>\n",
       "      <td>7662.711000</td>\n",
       "      <td>11926.694560</td>\n",
       "      <td>12476.783944</td>\n",
       "      <td>12529.247385</td>\n",
       "      <td>13347.782414</td>\n",
       "      <td>13900.206316</td>\n",
       "      <td>13237.983828</td>\n",
       "      <td>13015.111445</td>\n",
       "      <td>...</td>\n",
       "      <td>1.0</td>\n",
       "      <td>2.0</td>\n",
       "      <td>0.0</td>\n",
       "      <td>0.0</td>\n",
       "      <td>0.0</td>\n",
       "      <td>0.0</td>\n",
       "      <td>0.0</td>\n",
       "      <td>0.0</td>\n",
       "      <td>0.0</td>\n",
       "      <td>0</td>\n",
       "    </tr>\n",
       "    <tr>\n",
       "      <th>6</th>\n",
       "      <td>104</td>\n",
       "      <td>5942.265309</td>\n",
       "      <td>7019.459355</td>\n",
       "      <td>10586.189627</td>\n",
       "      <td>11121.408672</td>\n",
       "      <td>10879.828865</td>\n",
       "      <td>10195.015397</td>\n",
       "      <td>9706.897819</td>\n",
       "      <td>9190.852239</td>\n",
       "      <td>7887.291748</td>\n",
       "      <td>...</td>\n",
       "      <td>3.0</td>\n",
       "      <td>3.0</td>\n",
       "      <td>0.0</td>\n",
       "      <td>0.0</td>\n",
       "      <td>1.0</td>\n",
       "      <td>0.0</td>\n",
       "      <td>0.0</td>\n",
       "      <td>0.0</td>\n",
       "      <td>0.0</td>\n",
       "      <td>0</td>\n",
       "    </tr>\n",
       "    <tr>\n",
       "      <th>7</th>\n",
       "      <td>1</td>\n",
       "      <td>5988.112600</td>\n",
       "      <td>6333.725099</td>\n",
       "      <td>9274.302811</td>\n",
       "      <td>10008.147995</td>\n",
       "      <td>10364.297685</td>\n",
       "      <td>10894.198085</td>\n",
       "      <td>11465.456663</td>\n",
       "      <td>10240.976339</td>\n",
       "      <td>8960.532826</td>\n",
       "      <td>...</td>\n",
       "      <td>2.0</td>\n",
       "      <td>1.0</td>\n",
       "      <td>0.0</td>\n",
       "      <td>0.0</td>\n",
       "      <td>1.0</td>\n",
       "      <td>0.0</td>\n",
       "      <td>0.0</td>\n",
       "      <td>0.0</td>\n",
       "      <td>0.0</td>\n",
       "      <td>0</td>\n",
       "    </tr>\n",
       "    <tr>\n",
       "      <th>8</th>\n",
       "      <td>106</td>\n",
       "      <td>22008.451686</td>\n",
       "      <td>8187.937738</td>\n",
       "      <td>11907.702438</td>\n",
       "      <td>14139.147568</td>\n",
       "      <td>14477.188409</td>\n",
       "      <td>12646.665216</td>\n",
       "      <td>13822.895763</td>\n",
       "      <td>15478.710913</td>\n",
       "      <td>15607.285126</td>\n",
       "      <td>...</td>\n",
       "      <td>1.0</td>\n",
       "      <td>1.0</td>\n",
       "      <td>0.0</td>\n",
       "      <td>0.0</td>\n",
       "      <td>0.0</td>\n",
       "      <td>0.0</td>\n",
       "      <td>0.0</td>\n",
       "      <td>0.0</td>\n",
       "      <td>0.0</td>\n",
       "      <td>0</td>\n",
       "    </tr>\n",
       "    <tr>\n",
       "      <th>9</th>\n",
       "      <td>105</td>\n",
       "      <td>7670.218382</td>\n",
       "      <td>7877.314820</td>\n",
       "      <td>12000.669514</td>\n",
       "      <td>12240.582534</td>\n",
       "      <td>13885.610632</td>\n",
       "      <td>13257.443903</td>\n",
       "      <td>13118.960688</td>\n",
       "      <td>12730.064125</td>\n",
       "      <td>13902.085509</td>\n",
       "      <td>...</td>\n",
       "      <td>3.0</td>\n",
       "      <td>2.0</td>\n",
       "      <td>0.0</td>\n",
       "      <td>0.0</td>\n",
       "      <td>0.0</td>\n",
       "      <td>0.0</td>\n",
       "      <td>0.0</td>\n",
       "      <td>0.0</td>\n",
       "      <td>0.0</td>\n",
       "      <td>2</td>\n",
       "    </tr>\n",
       "  </tbody>\n",
       "</table>\n",
       "<p>10 rows × 1051 columns</p>\n",
       "</div>"
      ],
      "text/plain": [
       "   Name         ATS0m        ATS1m         ATS2m         ATS3m         ATS4m  \\\n",
       "0    10   5039.970682  5223.716046   7606.656293   8417.172469   7930.540778   \n",
       "1   100   4669.708630  5440.989382   7705.605475   7909.481514   6984.642688   \n",
       "2   101   5580.133114  6190.047729   8915.936064   9392.375746   9975.203626   \n",
       "3     0   5818.100451  6593.733096  10266.792096  11364.878541  12421.098234   \n",
       "4   102   7204.771591  7100.449277  10699.590348  10185.879728   9029.673054   \n",
       "5   103   7508.069932  7662.711000  11926.694560  12476.783944  12529.247385   \n",
       "6   104   5942.265309  7019.459355  10586.189627  11121.408672  10879.828865   \n",
       "7     1   5988.112600  6333.725099   9274.302811  10008.147995  10364.297685   \n",
       "8   106  22008.451686  8187.937738  11907.702438  14139.147568  14477.188409   \n",
       "9   105   7670.218382  7877.314820  12000.669514  12240.582534  13885.610632   \n",
       "\n",
       "          ATS5m         ATS6m         ATS7m         ATS8m  ...  nT5HeteroRing  \\\n",
       "0   6869.434662   6138.930561   6116.460679   5335.137068  ...            1.0   \n",
       "1   6491.314192   6227.101198   5463.471354   5027.893249  ...            1.0   \n",
       "2  10536.031895  10390.103630  10306.291221   9389.331234  ...            2.0   \n",
       "3  11710.054145   9562.036369   7797.198820   7109.291543  ...            3.0   \n",
       "4   8758.728401   7407.515599   7574.000067   7440.759138  ...            2.0   \n",
       "5  13347.782414  13900.206316  13237.983828  13015.111445  ...            1.0   \n",
       "6  10195.015397   9706.897819   9190.852239   7887.291748  ...            3.0   \n",
       "7  10894.198085  11465.456663  10240.976339   8960.532826  ...            2.0   \n",
       "8  12646.665216  13822.895763  15478.710913  15607.285126  ...            1.0   \n",
       "9  13257.443903  13118.960688  12730.064125  13902.085509  ...            3.0   \n",
       "\n",
       "   nT6HeteroRing  nT7HeteroRing  nT8HeteroRing  nT9HeteroRing  nT10HeteroRing  \\\n",
       "0            1.0            0.0            0.0            1.0             0.0   \n",
       "1            2.0            0.0            0.0            1.0             1.0   \n",
       "2            1.0            0.0            0.0            2.0             0.0   \n",
       "3            2.0            0.0            0.0            1.0             0.0   \n",
       "4            0.0            0.0            0.0            1.0             0.0   \n",
       "5            2.0            0.0            0.0            0.0             0.0   \n",
       "6            3.0            0.0            0.0            1.0             0.0   \n",
       "7            1.0            0.0            0.0            1.0             0.0   \n",
       "8            1.0            0.0            0.0            0.0             0.0   \n",
       "9            2.0            0.0            0.0            0.0             0.0   \n",
       "\n",
       "   nT11HeteroRing  nT12HeteroRing  nTG12HeteroRing  LipinskiFailures  \n",
       "0             0.0             0.0              0.0                 0  \n",
       "1             0.0             0.0              0.0                 0  \n",
       "2             0.0             0.0              0.0                 0  \n",
       "3             0.0             0.0              0.0                 1  \n",
       "4             0.0             0.0              0.0                 0  \n",
       "5             0.0             0.0              0.0                 0  \n",
       "6             0.0             0.0              0.0                 0  \n",
       "7             0.0             0.0              0.0                 0  \n",
       "8             0.0             0.0              0.0                 0  \n",
       "9             0.0             0.0              0.0                 2  \n",
       "\n",
       "[10 rows x 1051 columns]"
      ]
     },
     "execution_count": 15,
     "metadata": {},
     "output_type": "execute_result"
    }
   ],
   "source": [
    "df.head(10)"
   ]
  },
  {
   "cell_type": "code",
   "execution_count": 53,
   "metadata": {},
   "outputs": [],
   "source": [
    "r=  np.load('rewards.npy')"
   ]
  },
  {
   "cell_type": "code",
   "execution_count": 54,
   "metadata": {},
   "outputs": [
    {
     "data": {
      "text/plain": [
       "(512, 1)"
      ]
     },
     "execution_count": 54,
     "metadata": {},
     "output_type": "execute_result"
    }
   ],
   "source": [
    "r.shape"
   ]
  },
  {
   "cell_type": "code",
   "execution_count": 55,
   "metadata": {},
   "outputs": [
    {
     "data": {
      "text/html": [
       "<div>\n",
       "<style scoped>\n",
       "    .dataframe tbody tr th:only-of-type {\n",
       "        vertical-align: middle;\n",
       "    }\n",
       "\n",
       "    .dataframe tbody tr th {\n",
       "        vertical-align: top;\n",
       "    }\n",
       "\n",
       "    .dataframe thead th {\n",
       "        text-align: right;\n",
       "    }\n",
       "</style>\n",
       "<table border=\"1\" class=\"dataframe\">\n",
       "  <thead>\n",
       "    <tr style=\"text-align: right;\">\n",
       "      <th></th>\n",
       "      <th>Name</th>\n",
       "      <th>ATS0m</th>\n",
       "      <th>ATS1m</th>\n",
       "      <th>ATS2m</th>\n",
       "      <th>ATS3m</th>\n",
       "      <th>ATS4m</th>\n",
       "      <th>ATS5m</th>\n",
       "      <th>ATS6m</th>\n",
       "      <th>ATS7m</th>\n",
       "      <th>ATS8m</th>\n",
       "      <th>...</th>\n",
       "      <th>nT5HeteroRing</th>\n",
       "      <th>nT6HeteroRing</th>\n",
       "      <th>nT7HeteroRing</th>\n",
       "      <th>nT8HeteroRing</th>\n",
       "      <th>nT9HeteroRing</th>\n",
       "      <th>nT10HeteroRing</th>\n",
       "      <th>nT11HeteroRing</th>\n",
       "      <th>nT12HeteroRing</th>\n",
       "      <th>nTG12HeteroRing</th>\n",
       "      <th>LipinskiFailures</th>\n",
       "    </tr>\n",
       "  </thead>\n",
       "  <tbody>\n",
       "    <tr>\n",
       "      <th>count</th>\n",
       "      <td>308</td>\n",
       "      <td>308</td>\n",
       "      <td>308</td>\n",
       "      <td>308</td>\n",
       "      <td>308</td>\n",
       "      <td>308</td>\n",
       "      <td>308</td>\n",
       "      <td>308</td>\n",
       "      <td>308</td>\n",
       "      <td>308</td>\n",
       "      <td>...</td>\n",
       "      <td>308</td>\n",
       "      <td>308</td>\n",
       "      <td>308</td>\n",
       "      <td>308</td>\n",
       "      <td>308</td>\n",
       "      <td>308</td>\n",
       "      <td>308</td>\n",
       "      <td>308</td>\n",
       "      <td>308</td>\n",
       "      <td>308</td>\n",
       "    </tr>\n",
       "    <tr>\n",
       "      <th>unique</th>\n",
       "      <td>1</td>\n",
       "      <td>1</td>\n",
       "      <td>1</td>\n",
       "      <td>1</td>\n",
       "      <td>1</td>\n",
       "      <td>1</td>\n",
       "      <td>1</td>\n",
       "      <td>1</td>\n",
       "      <td>1</td>\n",
       "      <td>1</td>\n",
       "      <td>...</td>\n",
       "      <td>1</td>\n",
       "      <td>1</td>\n",
       "      <td>1</td>\n",
       "      <td>1</td>\n",
       "      <td>1</td>\n",
       "      <td>1</td>\n",
       "      <td>1</td>\n",
       "      <td>1</td>\n",
       "      <td>1</td>\n",
       "      <td>1</td>\n",
       "    </tr>\n",
       "    <tr>\n",
       "      <th>top</th>\n",
       "      <td>False</td>\n",
       "      <td>False</td>\n",
       "      <td>False</td>\n",
       "      <td>False</td>\n",
       "      <td>False</td>\n",
       "      <td>False</td>\n",
       "      <td>False</td>\n",
       "      <td>False</td>\n",
       "      <td>False</td>\n",
       "      <td>False</td>\n",
       "      <td>...</td>\n",
       "      <td>False</td>\n",
       "      <td>False</td>\n",
       "      <td>False</td>\n",
       "      <td>False</td>\n",
       "      <td>False</td>\n",
       "      <td>False</td>\n",
       "      <td>False</td>\n",
       "      <td>False</td>\n",
       "      <td>False</td>\n",
       "      <td>False</td>\n",
       "    </tr>\n",
       "    <tr>\n",
       "      <th>freq</th>\n",
       "      <td>308</td>\n",
       "      <td>308</td>\n",
       "      <td>308</td>\n",
       "      <td>308</td>\n",
       "      <td>308</td>\n",
       "      <td>308</td>\n",
       "      <td>308</td>\n",
       "      <td>308</td>\n",
       "      <td>308</td>\n",
       "      <td>308</td>\n",
       "      <td>...</td>\n",
       "      <td>308</td>\n",
       "      <td>308</td>\n",
       "      <td>308</td>\n",
       "      <td>308</td>\n",
       "      <td>308</td>\n",
       "      <td>308</td>\n",
       "      <td>308</td>\n",
       "      <td>308</td>\n",
       "      <td>308</td>\n",
       "      <td>308</td>\n",
       "    </tr>\n",
       "  </tbody>\n",
       "</table>\n",
       "<p>4 rows × 1051 columns</p>\n",
       "</div>"
      ],
      "text/plain": [
       "         Name  ATS0m  ATS1m  ATS2m  ATS3m  ATS4m  ATS5m  ATS6m  ATS7m  ATS8m  \\\n",
       "count     308    308    308    308    308    308    308    308    308    308   \n",
       "unique      1      1      1      1      1      1      1      1      1      1   \n",
       "top     False  False  False  False  False  False  False  False  False  False   \n",
       "freq      308    308    308    308    308    308    308    308    308    308   \n",
       "\n",
       "        ... nT5HeteroRing nT6HeteroRing nT7HeteroRing nT8HeteroRing  \\\n",
       "count   ...           308           308           308           308   \n",
       "unique  ...             1             1             1             1   \n",
       "top     ...         False         False         False         False   \n",
       "freq    ...           308           308           308           308   \n",
       "\n",
       "       nT9HeteroRing nT10HeteroRing nT11HeteroRing nT12HeteroRing  \\\n",
       "count            308            308            308            308   \n",
       "unique             1              1              1              1   \n",
       "top            False          False          False          False   \n",
       "freq             308            308            308            308   \n",
       "\n",
       "       nTG12HeteroRing LipinskiFailures  \n",
       "count              308              308  \n",
       "unique               1                1  \n",
       "top              False            False  \n",
       "freq               308              308  \n",
       "\n",
       "[4 rows x 1051 columns]"
      ]
     },
     "execution_count": 55,
     "metadata": {},
     "output_type": "execute_result"
    }
   ],
   "source": [
    "df.isna().describe()"
   ]
  },
  {
   "cell_type": "code",
   "execution_count": 56,
   "metadata": {},
   "outputs": [
    {
     "data": {
      "text/plain": [
       "array([[ 0.        ],\n",
       "       [ 0.85969206],\n",
       "       [ 0.        ],\n",
       "       [ 0.85969206],\n",
       "       [ 0.        ],\n",
       "       [ 0.85969206],\n",
       "       [ 0.85969206],\n",
       "       [-0.1       ],\n",
       "       [ 0.75969206],\n",
       "       [ 0.        ],\n",
       "       [ 0.85969206],\n",
       "       [ 0.75969206],\n",
       "       [ 0.85969206],\n",
       "       [-0.1       ],\n",
       "       [ 0.85969206],\n",
       "       [ 0.        ],\n",
       "       [ 0.85969206],\n",
       "       [ 0.        ],\n",
       "       [ 0.        ],\n",
       "       [ 0.85969206],\n",
       "       [ 0.85969206],\n",
       "       [ 0.75969206],\n",
       "       [ 0.        ],\n",
       "       [ 0.        ],\n",
       "       [ 0.        ],\n",
       "       [ 0.        ],\n",
       "       [ 0.        ],\n",
       "       [ 0.85969206],\n",
       "       [ 0.75969206],\n",
       "       [ 0.        ],\n",
       "       [ 0.85969206],\n",
       "       [ 0.        ],\n",
       "       [ 0.85969206],\n",
       "       [ 0.85969206],\n",
       "       [ 0.        ],\n",
       "       [ 0.85969206],\n",
       "       [ 0.75969206],\n",
       "       [ 0.        ],\n",
       "       [ 0.        ],\n",
       "       [ 0.        ],\n",
       "       [ 0.85969206],\n",
       "       [ 0.85969206],\n",
       "       [ 0.        ],\n",
       "       [ 0.        ],\n",
       "       [ 0.85969206],\n",
       "       [ 0.75969206],\n",
       "       [ 0.75969206],\n",
       "       [ 0.        ],\n",
       "       [ 0.        ],\n",
       "       [-0.1       ],\n",
       "       [ 0.75969206],\n",
       "       [ 0.85969206],\n",
       "       [ 0.75969206],\n",
       "       [ 0.        ],\n",
       "       [ 0.85969206],\n",
       "       [ 0.        ],\n",
       "       [ 0.85969206],\n",
       "       [ 0.85969206],\n",
       "       [ 0.        ],\n",
       "       [ 0.        ],\n",
       "       [ 0.85969206],\n",
       "       [ 0.        ],\n",
       "       [ 0.85969206],\n",
       "       [ 0.85969206],\n",
       "       [ 0.85969206],\n",
       "       [ 0.85969206],\n",
       "       [ 0.        ],\n",
       "       [ 0.85969206],\n",
       "       [ 0.        ],\n",
       "       [ 0.        ],\n",
       "       [-0.1       ],\n",
       "       [ 0.85969206],\n",
       "       [ 0.        ],\n",
       "       [-0.1       ],\n",
       "       [ 0.75969206],\n",
       "       [-0.1       ],\n",
       "       [ 0.85969206],\n",
       "       [ 0.        ],\n",
       "       [ 0.85969206],\n",
       "       [ 0.85969206],\n",
       "       [-0.1       ],\n",
       "       [-0.1       ],\n",
       "       [ 0.85969206],\n",
       "       [ 0.85969206],\n",
       "       [ 0.85969206],\n",
       "       [ 0.85969206],\n",
       "       [-0.1       ],\n",
       "       [ 0.85969206],\n",
       "       [ 0.        ],\n",
       "       [ 0.        ],\n",
       "       [-0.1       ],\n",
       "       [ 0.85969206],\n",
       "       [ 0.75969206],\n",
       "       [ 0.        ],\n",
       "       [ 0.85969206],\n",
       "       [ 0.85969206],\n",
       "       [ 0.        ],\n",
       "       [ 0.        ],\n",
       "       [ 0.        ],\n",
       "       [ 0.75969206],\n",
       "       [ 0.        ],\n",
       "       [-0.1       ],\n",
       "       [ 0.        ],\n",
       "       [ 0.        ],\n",
       "       [ 0.        ],\n",
       "       [ 0.75969206],\n",
       "       [ 0.        ],\n",
       "       [ 0.        ],\n",
       "       [ 0.85969206],\n",
       "       [-0.1       ],\n",
       "       [ 0.        ],\n",
       "       [ 0.85969206],\n",
       "       [-0.1       ],\n",
       "       [ 0.85969206],\n",
       "       [ 0.        ],\n",
       "       [ 0.        ],\n",
       "       [ 0.        ],\n",
       "       [ 0.85969206],\n",
       "       [ 0.85969206],\n",
       "       [ 0.85969206],\n",
       "       [ 0.85969206],\n",
       "       [ 0.        ],\n",
       "       [ 0.85969206],\n",
       "       [-0.1       ],\n",
       "       [ 0.85969206],\n",
       "       [ 0.        ],\n",
       "       [ 0.85969206],\n",
       "       [ 0.85969206],\n",
       "       [ 0.85969206],\n",
       "       [ 0.85969206],\n",
       "       [ 0.85969206],\n",
       "       [ 0.75969206],\n",
       "       [ 0.75969206],\n",
       "       [ 0.        ],\n",
       "       [ 0.85969206],\n",
       "       [ 0.75969206],\n",
       "       [ 0.        ],\n",
       "       [ 0.75969206],\n",
       "       [ 0.75969206],\n",
       "       [ 0.        ],\n",
       "       [ 0.        ],\n",
       "       [ 0.85969206],\n",
       "       [ 0.85969206],\n",
       "       [ 0.85969206],\n",
       "       [ 0.85969206],\n",
       "       [ 0.75969206],\n",
       "       [ 0.85969206],\n",
       "       [ 0.85969206],\n",
       "       [ 0.85969206],\n",
       "       [ 0.85969206],\n",
       "       [ 0.85969206],\n",
       "       [ 0.85969206],\n",
       "       [ 0.        ],\n",
       "       [-0.1       ],\n",
       "       [ 0.        ],\n",
       "       [ 0.85969206],\n",
       "       [ 0.75969206],\n",
       "       [-0.1       ],\n",
       "       [ 0.75969206],\n",
       "       [ 0.        ],\n",
       "       [ 0.        ],\n",
       "       [ 0.85969206],\n",
       "       [ 0.        ],\n",
       "       [ 0.75969206],\n",
       "       [ 0.85969206],\n",
       "       [ 0.85969206],\n",
       "       [-0.1       ],\n",
       "       [ 0.85969206],\n",
       "       [ 0.85969206],\n",
       "       [ 0.85969206],\n",
       "       [ 0.85969206],\n",
       "       [ 0.85969206],\n",
       "       [ 0.        ],\n",
       "       [ 0.        ],\n",
       "       [ 0.        ],\n",
       "       [ 0.        ],\n",
       "       [ 0.        ],\n",
       "       [ 0.75969206],\n",
       "       [ 0.85969206],\n",
       "       [ 0.75969206],\n",
       "       [ 0.85969206],\n",
       "       [ 0.85969206],\n",
       "       [ 0.        ],\n",
       "       [ 0.85969206],\n",
       "       [ 0.85969206],\n",
       "       [ 0.85969206],\n",
       "       [ 0.        ],\n",
       "       [ 0.        ],\n",
       "       [ 0.        ],\n",
       "       [ 0.        ],\n",
       "       [ 0.        ],\n",
       "       [ 0.        ],\n",
       "       [ 0.85969206],\n",
       "       [ 0.85969206],\n",
       "       [ 0.85969206],\n",
       "       [ 0.85969206],\n",
       "       [ 0.85969206],\n",
       "       [ 0.75969206],\n",
       "       [-0.1       ],\n",
       "       [ 0.        ],\n",
       "       [ 0.75969206],\n",
       "       [ 0.85969206],\n",
       "       [ 0.85969206],\n",
       "       [ 0.85969206],\n",
       "       [-0.1       ],\n",
       "       [ 0.        ],\n",
       "       [ 0.        ],\n",
       "       [ 0.85969206],\n",
       "       [ 0.        ],\n",
       "       [-0.1       ],\n",
       "       [ 0.85969206],\n",
       "       [ 0.85969206],\n",
       "       [ 0.85969206],\n",
       "       [ 0.85969206],\n",
       "       [ 0.85969206],\n",
       "       [ 0.        ],\n",
       "       [ 0.        ],\n",
       "       [ 0.85969206],\n",
       "       [ 0.85969206],\n",
       "       [ 0.85969206],\n",
       "       [ 0.        ],\n",
       "       [-0.1       ],\n",
       "       [ 0.85969206],\n",
       "       [ 0.        ],\n",
       "       [ 0.        ],\n",
       "       [ 0.        ],\n",
       "       [ 0.85969206],\n",
       "       [ 0.85969206],\n",
       "       [ 0.        ],\n",
       "       [ 0.85969206],\n",
       "       [ 0.85969206],\n",
       "       [ 0.        ],\n",
       "       [ 0.        ],\n",
       "       [-0.1       ],\n",
       "       [ 0.        ],\n",
       "       [ 0.85969206],\n",
       "       [ 0.        ],\n",
       "       [ 0.85969206],\n",
       "       [ 0.85969206],\n",
       "       [ 0.85969206],\n",
       "       [-0.1       ],\n",
       "       [ 0.85969206],\n",
       "       [ 0.85969206],\n",
       "       [ 0.75969206],\n",
       "       [ 0.85969206],\n",
       "       [ 0.85969206],\n",
       "       [ 0.85969206],\n",
       "       [ 0.        ],\n",
       "       [ 0.85969206],\n",
       "       [ 0.85969206],\n",
       "       [ 0.85969206],\n",
       "       [ 0.85969206],\n",
       "       [ 0.85969206],\n",
       "       [ 0.85969206],\n",
       "       [ 0.85969206],\n",
       "       [ 0.        ],\n",
       "       [ 0.        ],\n",
       "       [ 0.85969206],\n",
       "       [ 0.85969206],\n",
       "       [ 0.        ],\n",
       "       [ 0.        ],\n",
       "       [ 0.85969206],\n",
       "       [ 0.85969206],\n",
       "       [ 0.        ],\n",
       "       [ 0.85969206],\n",
       "       [ 0.85969206],\n",
       "       [ 0.85969206],\n",
       "       [ 0.75969206],\n",
       "       [ 0.85969206],\n",
       "       [ 0.75969206],\n",
       "       [ 0.        ],\n",
       "       [ 0.85969206],\n",
       "       [ 0.85969206],\n",
       "       [ 0.85969206],\n",
       "       [ 0.85969206],\n",
       "       [ 0.85969206],\n",
       "       [ 0.        ],\n",
       "       [ 0.        ],\n",
       "       [ 0.85969206],\n",
       "       [ 0.85969206],\n",
       "       [ 0.85969206],\n",
       "       [ 0.85969206],\n",
       "       [ 0.        ],\n",
       "       [ 0.85969206],\n",
       "       [ 0.85969206],\n",
       "       [ 0.85969206],\n",
       "       [ 0.        ],\n",
       "       [ 0.75969206],\n",
       "       [ 0.        ],\n",
       "       [ 0.75969206],\n",
       "       [ 0.        ],\n",
       "       [ 0.        ],\n",
       "       [-0.1       ],\n",
       "       [ 0.85969206],\n",
       "       [ 0.        ],\n",
       "       [ 0.75969206],\n",
       "       [ 0.85969206],\n",
       "       [ 0.85969206],\n",
       "       [ 0.        ],\n",
       "       [ 0.85969206],\n",
       "       [ 0.85969206],\n",
       "       [-0.1       ],\n",
       "       [ 0.85969206],\n",
       "       [ 0.85969206],\n",
       "       [ 0.85969206],\n",
       "       [ 0.85969206],\n",
       "       [ 0.        ],\n",
       "       [ 0.        ],\n",
       "       [ 0.85969206],\n",
       "       [ 0.85969206],\n",
       "       [ 0.        ],\n",
       "       [ 0.85969206],\n",
       "       [ 0.85969206],\n",
       "       [ 0.        ],\n",
       "       [ 0.        ],\n",
       "       [ 0.        ],\n",
       "       [ 0.        ],\n",
       "       [ 0.        ],\n",
       "       [ 0.        ],\n",
       "       [ 0.85969206],\n",
       "       [ 0.75969206],\n",
       "       [-0.1       ],\n",
       "       [ 0.85969206],\n",
       "       [ 0.85969206],\n",
       "       [ 0.75969206],\n",
       "       [ 0.75969206],\n",
       "       [ 0.        ],\n",
       "       [ 0.75969206],\n",
       "       [ 0.85969206],\n",
       "       [ 0.        ],\n",
       "       [ 0.85969206],\n",
       "       [ 0.75969206],\n",
       "       [ 0.85969206],\n",
       "       [ 0.75969206],\n",
       "       [ 0.        ],\n",
       "       [ 0.        ],\n",
       "       [ 0.85969206],\n",
       "       [ 0.85969206],\n",
       "       [ 0.        ],\n",
       "       [ 0.85969206],\n",
       "       [ 0.        ],\n",
       "       [ 0.        ],\n",
       "       [ 0.        ],\n",
       "       [ 0.        ],\n",
       "       [ 0.85969206],\n",
       "       [-0.1       ],\n",
       "       [ 0.        ],\n",
       "       [ 0.85969206],\n",
       "       [-0.1       ],\n",
       "       [ 0.        ],\n",
       "       [ 0.        ],\n",
       "       [ 0.85969206],\n",
       "       [ 0.85969206],\n",
       "       [ 0.        ],\n",
       "       [ 0.85969206],\n",
       "       [ 0.75969206],\n",
       "       [ 0.        ],\n",
       "       [ 0.85969206],\n",
       "       [ 0.85969206],\n",
       "       [ 0.85969206],\n",
       "       [ 0.85969206],\n",
       "       [ 0.85969206],\n",
       "       [ 0.85969206],\n",
       "       [ 0.85969206],\n",
       "       [ 0.85969206],\n",
       "       [ 0.85969206],\n",
       "       [ 0.        ],\n",
       "       [ 0.        ],\n",
       "       [ 0.        ],\n",
       "       [ 0.85969206],\n",
       "       [ 0.        ],\n",
       "       [ 0.        ],\n",
       "       [ 0.85969206],\n",
       "       [ 0.        ],\n",
       "       [ 0.85969206],\n",
       "       [ 0.85969206],\n",
       "       [ 0.85969206],\n",
       "       [ 0.85969206],\n",
       "       [ 0.85969206],\n",
       "       [ 0.        ],\n",
       "       [ 0.85969206],\n",
       "       [ 0.        ],\n",
       "       [ 0.        ],\n",
       "       [ 0.85969206],\n",
       "       [ 0.85969206],\n",
       "       [ 0.85969206],\n",
       "       [ 0.        ],\n",
       "       [ 0.        ],\n",
       "       [ 0.75969206],\n",
       "       [ 0.85969206],\n",
       "       [ 0.        ],\n",
       "       [-0.1       ],\n",
       "       [ 0.85969206],\n",
       "       [ 0.        ],\n",
       "       [ 0.85969206],\n",
       "       [ 0.        ],\n",
       "       [ 0.        ],\n",
       "       [-0.1       ],\n",
       "       [ 0.85969206],\n",
       "       [ 0.85969206],\n",
       "       [ 0.85969206],\n",
       "       [ 0.        ],\n",
       "       [ 0.        ],\n",
       "       [ 0.85969206],\n",
       "       [ 0.        ],\n",
       "       [-0.1       ],\n",
       "       [ 0.75969206],\n",
       "       [ 0.        ],\n",
       "       [ 0.        ],\n",
       "       [ 0.85969206],\n",
       "       [ 0.        ],\n",
       "       [ 0.85969206],\n",
       "       [-0.1       ],\n",
       "       [ 0.85969206],\n",
       "       [ 0.        ],\n",
       "       [ 0.85969206],\n",
       "       [ 0.        ],\n",
       "       [ 0.85969206],\n",
       "       [ 0.        ],\n",
       "       [ 0.85969206],\n",
       "       [ 0.        ],\n",
       "       [ 0.        ],\n",
       "       [ 0.85969206],\n",
       "       [-0.1       ],\n",
       "       [ 0.75969206],\n",
       "       [ 0.85969206],\n",
       "       [ 0.        ],\n",
       "       [-0.1       ],\n",
       "       [ 0.85969206],\n",
       "       [ 0.        ],\n",
       "       [ 0.        ],\n",
       "       [ 0.85969206],\n",
       "       [-0.1       ],\n",
       "       [-0.1       ],\n",
       "       [ 0.        ],\n",
       "       [ 0.85969206],\n",
       "       [ 0.85969206],\n",
       "       [ 0.75969206],\n",
       "       [ 0.85969206],\n",
       "       [ 0.        ],\n",
       "       [ 0.85969206],\n",
       "       [ 0.        ],\n",
       "       [ 0.        ],\n",
       "       [ 0.85969206],\n",
       "       [ 0.        ],\n",
       "       [ 0.85969206],\n",
       "       [ 0.85969206],\n",
       "       [ 0.75969206],\n",
       "       [ 0.        ],\n",
       "       [ 0.        ],\n",
       "       [ 0.        ],\n",
       "       [ 0.        ],\n",
       "       [ 0.85969206],\n",
       "       [ 0.85969206],\n",
       "       [ 0.75969206],\n",
       "       [ 0.        ],\n",
       "       [ 0.        ],\n",
       "       [ 0.        ],\n",
       "       [ 0.85969206],\n",
       "       [ 0.85969206],\n",
       "       [ 0.75969206],\n",
       "       [ 0.        ],\n",
       "       [ 0.85969206],\n",
       "       [ 0.85969206],\n",
       "       [ 0.75969206],\n",
       "       [ 0.        ],\n",
       "       [ 0.85969206],\n",
       "       [ 0.85969206],\n",
       "       [ 0.        ],\n",
       "       [ 0.85969206],\n",
       "       [ 0.85969206],\n",
       "       [ 0.        ],\n",
       "       [ 0.        ],\n",
       "       [ 0.85969206],\n",
       "       [ 0.85969206],\n",
       "       [ 0.        ],\n",
       "       [ 0.        ],\n",
       "       [ 0.85969206],\n",
       "       [ 0.85969206],\n",
       "       [ 0.75969206],\n",
       "       [ 0.        ],\n",
       "       [ 0.        ],\n",
       "       [ 0.75969206],\n",
       "       [ 0.        ],\n",
       "       [ 0.        ],\n",
       "       [ 0.        ],\n",
       "       [ 0.85969206],\n",
       "       [ 0.        ],\n",
       "       [ 0.        ],\n",
       "       [ 0.85969206],\n",
       "       [ 0.85969206],\n",
       "       [ 0.        ],\n",
       "       [ 0.85969206],\n",
       "       [ 0.85969206],\n",
       "       [ 0.        ],\n",
       "       [ 0.85969206],\n",
       "       [ 0.75969206],\n",
       "       [ 0.75969206],\n",
       "       [ 0.85969206],\n",
       "       [ 0.85969206],\n",
       "       [ 0.75969206],\n",
       "       [ 0.75969206],\n",
       "       [ 0.85969206],\n",
       "       [ 0.        ],\n",
       "       [ 0.        ],\n",
       "       [ 0.        ],\n",
       "       [ 0.85969206],\n",
       "       [-0.1       ],\n",
       "       [ 0.        ],\n",
       "       [ 0.85969206],\n",
       "       [ 0.85969206],\n",
       "       [ 0.85969206]])"
      ]
     },
     "execution_count": 56,
     "metadata": {},
     "output_type": "execute_result"
    }
   ],
   "source": [
    "r"
   ]
  },
  {
   "cell_type": "code",
   "execution_count": 3,
   "metadata": {},
   "outputs": [],
   "source": [
    "df = pd.read_csv('./past outputs/out'+str(249)+'.csv',sep=\";\")"
   ]
  },
  {
   "cell_type": "code",
   "execution_count": 4,
   "metadata": {},
   "outputs": [
    {
     "data": {
      "text/html": [
       "<div>\n",
       "<style scoped>\n",
       "    .dataframe tbody tr th:only-of-type {\n",
       "        vertical-align: middle;\n",
       "    }\n",
       "\n",
       "    .dataframe tbody tr th {\n",
       "        vertical-align: top;\n",
       "    }\n",
       "\n",
       "    .dataframe thead th {\n",
       "        text-align: right;\n",
       "    }\n",
       "</style>\n",
       "<table border=\"1\" class=\"dataframe\">\n",
       "  <thead>\n",
       "    <tr style=\"text-align: right;\">\n",
       "      <th></th>\n",
       "      <th>Initial molecule</th>\n",
       "      <th>Modified molecule</th>\n",
       "    </tr>\n",
       "  </thead>\n",
       "  <tbody>\n",
       "    <tr>\n",
       "      <th>0</th>\n",
       "      <td>CC(=O)Nc1cc(Nc2cnn3c(C#N)cc(NC4CC4)nc23)cnc1C</td>\n",
       "      <td>CCCCNc1nc2c(Nc3cnc(C)c(C(=O)OC)c3)cnn2c(C#N)c1</td>\n",
       "    </tr>\n",
       "    <tr>\n",
       "      <th>1</th>\n",
       "      <td>O=C(Cc1cc(=O)[nH]c(N2CCOCC2)n1)N1CCc2ccc(F)cc21</td>\n",
       "      <td>O=C(Cc1cc(=O)[nH]c(C2CCCC2)n1)N1CCc2ccc(F)cc21</td>\n",
       "    </tr>\n",
       "    <tr>\n",
       "      <th>2</th>\n",
       "      <td>NC1(c2ccc(-c3ncc4cccnc4c3-c3ccccc3)cc2)CCC1</td>\n",
       "      <td>O=C(O)C1(c2ccc(-c3ncc4cccnc4c3-c3ccccc3)cc2)CCC1</td>\n",
       "    </tr>\n",
       "    <tr>\n",
       "      <th>3</th>\n",
       "      <td>O=C(Cc1cc(=O)[nH]c(-c2ccncc2)n1)N1CCc2c(F)cccc21</td>\n",
       "      <td>O=C(Cc1cc(=O)[nH]c(-c2ncnc2)n1)N1CCc2c(F)cccc21</td>\n",
       "    </tr>\n",
       "    <tr>\n",
       "      <th>4</th>\n",
       "      <td>Nc1cc(N2CCC(c3nc(-c4cc(F)ccc4C(F)(F)F)cn3CCN3C...</td>\n",
       "      <td>Nc1cc(N2CCC(c3cc(-c4cc([18F])ccc4C(F)(F)F)ccc...</td>\n",
       "    </tr>\n",
       "  </tbody>\n",
       "</table>\n",
       "</div>"
      ],
      "text/plain": [
       "                                   Initial molecule   \\\n",
       "0     CC(=O)Nc1cc(Nc2cnn3c(C#N)cc(NC4CC4)nc23)cnc1C    \n",
       "1   O=C(Cc1cc(=O)[nH]c(N2CCOCC2)n1)N1CCc2ccc(F)cc21    \n",
       "2       NC1(c2ccc(-c3ncc4cccnc4c3-c3ccccc3)cc2)CCC1    \n",
       "3  O=C(Cc1cc(=O)[nH]c(-c2ccncc2)n1)N1CCc2c(F)cccc21    \n",
       "4  Nc1cc(N2CCC(c3nc(-c4cc(F)ccc4C(F)(F)F)cn3CCN3C...   \n",
       "\n",
       "                                   Modified molecule  \n",
       "0     CCCCNc1nc2c(Nc3cnc(C)c(C(=O)OC)c3)cnn2c(C#N)c1  \n",
       "1     O=C(Cc1cc(=O)[nH]c(C2CCCC2)n1)N1CCc2ccc(F)cc21  \n",
       "2   O=C(O)C1(c2ccc(-c3ncc4cccnc4c3-c3ccccc3)cc2)CCC1  \n",
       "3    O=C(Cc1cc(=O)[nH]c(-c2ncnc2)n1)N1CCc2c(F)cccc21  \n",
       "4   Nc1cc(N2CCC(c3cc(-c4cc([18F])ccc4C(F)(F)F)ccc...  "
      ]
     },
     "execution_count": 4,
     "metadata": {},
     "output_type": "execute_result"
    }
   ],
   "source": [
    "df.head()"
   ]
  },
  {
   "cell_type": "code",
   "execution_count": 6,
   "metadata": {},
   "outputs": [],
   "source": [
    "moli = []\n",
    "molm = []\n",
    "\n",
    "for i in range(len(df)):\n",
    "    if (Chem.MolFromSmiles(df.iloc[i,1])) is not None:\n",
    "        moli.append(Chem.MolFromSmiles(df.iloc[i,0]))\n",
    "        molm.append(Chem.MolFromSmiles(df.iloc[i,1]))"
   ]
  },
  {
   "cell_type": "code",
   "execution_count": 7,
   "metadata": {},
   "outputs": [
    {
     "data": {
      "image/png": "[encoded data removed]",
      "text/plain": [
       "<rdkit.Chem.rdchem.Mol at 0x1e57bdd3e40>"
      ]
     },
     "execution_count": 7,
     "metadata": {},
     "output_type": "execute_result"
    }
   ],
   "source": [
    "moli[0]"
   ]
  },
  {
   "cell_type": "code",
   "execution_count": 9,
   "metadata": {},
   "outputs": [
    {
     "data": {
      "image/png": "[encoded data removed]",
      "text/plain": [
       "<rdkit.Chem.rdchem.Mol at 0x1e57bde9210>"
      ]
     },
     "execution_count": 9,
     "metadata": {},
     "output_type": "execute_result"
    }
   ],
   "source": [
    "molm[0]"
   ]
  },
  {
   "cell_type": "code",
   "execution_count": 10,
   "metadata": {},
   "outputs": [],
   "source": [
    "def get_pIC50(mols):\n",
    "    folder_path =  \"./generated_molecules/\"\n",
    "    file_path = \"./descriptors.csv\"\n",
    "    #Cleaning up the older files\n",
    "    clean_folder(folder_path)\n",
    "    \n",
    "    i = 0\n",
    "    for mol in mols:\n",
    "        print(Chem.MolToMolBlock(mol),file=open(str(folder_path)+str(i)+'.mol','w'))\n",
    "        i += 1\n",
    "    get_padel(folder_path,file_path)\n",
    "      #Reading the descriptors\n",
    "    xg_all = pd.read_csv(file_path)\n",
    "\n",
    "    names = xg_all['Name']\n",
    "\n",
    "    bad = []\n",
    "    with open('./saved_models/good_columns','rb') as f:\n",
    "        cols = pickle.load(f)\n",
    "    for col in xg_all.columns:\n",
    "        if col not in cols:\n",
    "            bad.append(col)\n",
    "    xg_all.drop(columns=bad,inplace=True)\n",
    "    #Verifying that all the required columns are there\n",
    "    assert len(xg_all.columns) == len(cols)\n",
    "    xg_all['Name'] = names\n",
    "\n",
    "    files = xg_all[pd.isnull(xg_all).any(axis=1)]['Name']\n",
    "    xg_all.dropna(inplace=True)\n",
    "    mol= []\n",
    "    if len(files) !=0:\n",
    "        uneval_folder = \"C:\\\\Users\\\\HP\\\\AZC_Internship\\\\DeepFMPO\\\\3.6\\\\unevalmol\\\\\"\n",
    "        clean_folder(uneval_folder)\n",
    "        for f in files:\n",
    "            m = Chem.MolFromMolFile(folder_path+str(f)+'.mol')\n",
    "            print(Chem.MolToMolBlock((m)),file=open(str(uneval_folder)+str(f)+'.mol','w'))\n",
    "\n",
    "        get_padel(uneval_folder,'./uneval_desc.csv','-1')\n",
    "        unevalmol = pd.read_csv('./uneval_desc.csv')\n",
    "\n",
    "        unevalmol.drop(columns=bad,inplace=True)\n",
    "        print(unevalmol.isna().sum(axis=1))\n",
    "        xg_all = pd.concat([xg_all,unevalmol])\n",
    "    xg_all.to_csv('./xgall.csv')\n",
    "    xg_all.fillna(value=0,inplace=True)\n",
    "    regressor = xgb.XGBRegressor()\n",
    "    regressor.load_model('./saved_models/best_from_gs38.model')\n",
    "\n",
    "    xg_all.sort_values(by='Name',inplace=True)\n",
    "    xg_all.drop(columns='Name',inplace=True)\n",
    "    predictions = regressor.predict(xg_all)\n",
    "    \n",
    "    print('Properties predicted for {} molecules'.format(len(predictions)))\n",
    "    return predictions\n"
   ]
  },
  {
   "cell_type": "code",
   "execution_count": 5,
   "metadata": {},
   "outputs": [],
   "source": [
    "df = pd.read_csv(r'C:\\Users\\HP\\AZC_Internship\\DeepFMPO\\3.6\\past outputs\\out1250.csv',sep=';')"
   ]
  },
  {
   "cell_type": "code",
   "execution_count": 8,
   "metadata": {},
   "outputs": [],
   "source": [
    "moli = []\n",
    "molm = []\n",
    "for i in range(len(df)):\n",
    "    \n",
    "    moli.append(Chem.MolFromSmiles(df.iloc[i,0]))\n",
    "    molm.append(Chem.MolFromSmiles(df.iloc[i,1]))"
   ]
  },
  {
   "cell_type": "code",
   "execution_count": 9,
   "metadata": {},
   "outputs": [
    {
     "data": {
      "image/png": "[encoded data removed]",
      "text/plain": [
       "<rdkit.Chem.rdchem.Mol at 0x26737897300>"
      ]
     },
     "execution_count": 9,
     "metadata": {},
     "output_type": "execute_result"
    }
   ],
   "source": [
    "moli[0]"
   ]
  },
  {
   "cell_type": "code",
   "execution_count": 10,
   "metadata": {},
   "outputs": [
    {
     "data": {
      "image/png": "[encoded data removed]",
      "text/plain": [
       "<rdkit.Chem.rdchem.Mol at 0x26737897350>"
      ]
     },
     "execution_count": 10,
     "metadata": {},
     "output_type": "execute_result"
    }
   ],
   "source": [
    "molm[0]"
   ]
  },
  {
   "cell_type": "code",
   "execution_count": 5,
   "metadata": {},
   "outputs": [],
   "source": [
    "df = pd.read_csv('./Data/AKT_pChemBL.csv')\n",
    "df = df.loc[df['pChEMBL_Value']<7]\n",
    "df_new = df.sample(frac=400/len(df))\n",
    "df_new.to_csv('./Data/AKT_pChemBL_cleaned_good.csv',index=False)"
   ]
  },
  {
   "cell_type": "code",
   "execution_count": 16,
   "metadata": {},
   "outputs": [
    {
     "data": {
      "image/png": "[encoded data removed]",
      "text/plain": [
       "<Figure size 1080x360 with 5 Axes>"
      ]
     },
     "metadata": {
      "needs_background": "light"
     },
     "output_type": "display_data"
    }
   ],
   "source": [
    "from build_encoding import read_decodings, read_encodings\n",
    "encodings = read_encodings()\n",
    "decodings = read_decodings()\n",
    "import matplotlib.image as mpimg\n",
    "from rdkit import Chem\n",
    "from rdkit.Chem import rdBase\n",
    "from rdkit.Chem import Draw\n",
    "from rdkit.Chem.Draw import IPythonConsole\n",
    "import matplotlib.pyplot as plt\n",
    "i = 0\n",
    "plt.figure(figsize=(15,5))\n",
    "for code,mol in decodings.items() :\n",
    "    mols = []\n",
    "    if i==5:\n",
    "        break\n",
    "    mols.append(mol)\n",
    "    img = Draw.MolsToGridImage(mols)\n",
    "    plt.subplot(2,3,i+1)\n",
    "    plt.axis('off')\n",
    "    plt.title(code)\n",
    "    i += 1\n",
    "    #img = mpimg.imread('file-name.png')\n",
    "    plt.imshow(img)"
   ]
  },
  {
   "cell_type": "markdown",
   "metadata": {},
   "source": [
    "<h1>An update to view_outputs.py"
   ]
  },
  {
   "cell_type": "code",
   "execution_count": 22,
   "metadata": {},
   "outputs": [
    {
     "name": "stdout",
     "output_type": "stream",
     "text": [
      "Properties predicted for 311 molecules\n",
      "Properties predicted for 311 molecules\n"
     ]
    }
   ],
   "source": [
    "import sys\n",
    "sys.path.insert(0,'./Modules/')\n",
    "import numpy as np\n",
    "from file_reader import read_file\n",
    "import pandas as pd\n",
    "from rdkit import Chem\n",
    "from mol_utils import get_fragments\n",
    "import numpy as np\n",
    "import sys\n",
    "import matplotlib.pyplot as plt\n",
    "import pickle\n",
    "import argparse\n",
    "import xgboost as xgb\n",
    "import Show_Epoch\n",
    "import logging\n",
    "from keras.utils.generic_utils import get_custom_objects\n",
    "import keras\n",
    "sys.path.insert(0,'./Modules/')\n",
    "from models import maximization\n",
    "from rewards import get_padel, clean_folder, modify_fragment\n",
    "from build_encoding import get_encodings, encode_molecule, decode_molecule, encode_list, save_decodings, save_encodings, read_decodings, read_encodings\n",
    "from global_parameters import MAX_SWAP, MAX_FRAGMENTS, GAMMA, BATCH_SIZE, EPOCHS, TIMES, FEATURES\n",
    "#similar to bunch_Eval, except that it is without the rewards\n",
    "def get_pIC50(mols):\n",
    "    folder_path =  \"./generated_molecules/\"\n",
    "    file_path = \"./descriptors.csv\"\n",
    "    #Cleaning up the older files\n",
    "    clean_folder(folder_path)\n",
    "    \n",
    "    i = 0\n",
    "    for mol in mols:\n",
    "        print(Chem.MolToMolBlock(mol),file=open(str(folder_path)+str(i)+'.mol','w'))\n",
    "        i += 1\n",
    "    get_padel(folder_path,file_path,'-1')\n",
    "      #Reading the descriptors\n",
    "    xg_all = pd.read_csv(file_path)\n",
    "\n",
    "    names = xg_all['Name']\n",
    "\n",
    "    bad = []\n",
    "    with open('./saved_models/good_columns','rb') as f:\n",
    "        cols = pickle.load(f)\n",
    "    for col in xg_all.columns:\n",
    "        if col not in cols:\n",
    "            bad.append(col)\n",
    "    xg_all.drop(columns=bad,inplace=True)\n",
    "    #Verifying that all the required columns are there\n",
    "    assert len(xg_all.columns) == len(cols)\n",
    "    xg_all['Name'] = names\n",
    "\n",
    "    files = xg_all[pd.isnull(xg_all).any(axis=1)]['Name']\n",
    "    xg_all.dropna(inplace=True)\n",
    "    mol= []\n",
    "    if len(files) !=0:\n",
    "        uneval_folder = \"C:\\\\Users\\\\HP\\\\AZC_Internship\\\\DeepFMPO\\\\3.6\\\\unevalmol\\\\\"\n",
    "        clean_folder(uneval_folder)\n",
    "        for f in files:\n",
    "            m = Chem.MolFromMolFile(folder_path+str(f)+'.mol')\n",
    "            print(Chem.MolToMolBlock((m)),file=open(str(uneval_folder)+str(f)+'.mol','w'))\n",
    "\n",
    "        get_padel(uneval_folder,'./uneval_desc.csv','-1')\n",
    "        unevalmol = pd.read_csv('./uneval_desc.csv')\n",
    "\n",
    "        unevalmol.drop(columns=bad,inplace=True)\n",
    "        print(unevalmol.isna().sum(axis=1))\n",
    "        xg_all = pd.concat([xg_all,unevalmol])\n",
    "    xg_all.to_csv('./xgall.csv')\n",
    "    xg_all.fillna(value=0,inplace=True)\n",
    "    regressor = xgb.XGBRegressor()\n",
    "    regressor.load_model('./saved_models/best_from_gs38.model')\n",
    "\n",
    "    xg_all.sort_values(by='Name',inplace=True)\n",
    "    xg_all.drop(columns='Name',inplace=True)\n",
    "    predictions = regressor.predict(xg_all)\n",
    "    \n",
    "    print('Properties predicted for {} molecules'.format(len(predictions)))\n",
    "    return predictions\n",
    "\n",
    "\n",
    "df = pd.read_csv(r'C:\\Users\\HP\\AZC_Internship\\DeepFMPO\\3.6\\past outputs\\6July\\out299.csv',sep=\";\")\n",
    "moli = []\n",
    "molm = []\n",
    "\n",
    "for i in range(len(df)):\n",
    "    if (Chem.MolFromSmiles(df.iloc[i,1])) is not None:\n",
    "        moli.append(Chem.MolFromSmiles(df.iloc[i,0]))\n",
    "        molm.append(Chem.MolFromSmiles(df.iloc[i,1]))\n",
    "logging.info(\"Predicting pIC50 values of the initial molecules\")\n",
    "ini = get_pIC50(moli)\n",
    "logging.info(\"Predicting pIC50 values of the predicted molecules\")\n",
    "mod = get_pIC50(molm)\n",
    "ini = np.asarray(ini)\n",
    "mod = np.asarray(mod)\n",
    "    \n"
   ]
  },
  {
   "cell_type": "code",
   "execution_count": null,
   "metadata": {},
   "outputs": [],
   "source": [
    "df.iloc[0]"
   ]
  },
  {
   "cell_type": "code",
   "execution_count": 31,
   "metadata": {},
   "outputs": [
    {
     "data": {
      "text/plain": [
       "0             Cn1c(NC(=O)Cc2ccc(F)cc2)nc(N2CCOCC2)cc1=O \n",
       "1      CCc1c(N)ncnc1N1CCC(c2nc(-c3cc(F)ccc3F)cn2CCN2C...\n",
       "2      COc1ccc(Nc2nc3ccc(N4CCNCC4)cn3c2-c2nc(C)nc(N)n...\n",
       "3      Cn1c(Cc2cc(=O)[nH]c(N3CCOCC3)n2)nc2c(-c3ccccc3...\n",
       "4      CCN(CCn1cc(-c2cc(F)ccc2C)nc1C1CCN(c2ncnc(N)c2C...\n",
       "                             ...                        \n",
       "307    COC(=O)c1ccc(-c2c(N)ncnc2N2CCC(c3nc(-c4cc(F)cc...\n",
       "308    CC1=NN(C(=O)c2ccc(Cl)cc2)C(=O)C1N=Nc1ccc(S(=O)...\n",
       "309              CC(=O)Nc1nc(C)c(-c2cnc(-c3cccnc3)o2)s1 \n",
       "310          Cc1cccc2nc(Cc3nc(N4CCOCC4)cc(=O)[nH]3)oc12 \n",
       "311    CNC(=O)c1nc(-c2cc(Cl)ccc2NS(=O)(=O)c2ccc(Cl)cc...\n",
       "Name: Initial molecule , Length: 312, dtype: object"
      ]
     },
     "execution_count": 31,
     "metadata": {},
     "output_type": "execute_result"
    }
   ],
   "source": [
    "np.asarray([df.iloc[:,0],df.iloc[:,1],np.transpose([ini,mod])])"
   ]
  },
  {
   "cell_type": "code",
   "execution_count": 33,
   "metadata": {},
   "outputs": [
    {
     "data": {
      "text/html": [
       "<div>\n",
       "<style scoped>\n",
       "    .dataframe tbody tr th:only-of-type {\n",
       "        vertical-align: middle;\n",
       "    }\n",
       "\n",
       "    .dataframe tbody tr th {\n",
       "        vertical-align: top;\n",
       "    }\n",
       "\n",
       "    .dataframe thead th {\n",
       "        text-align: right;\n",
       "    }\n",
       "</style>\n",
       "<table border=\"1\" class=\"dataframe\">\n",
       "  <thead>\n",
       "    <tr style=\"text-align: right;\">\n",
       "      <th></th>\n",
       "      <th>Initial_pIC</th>\n",
       "      <th>Modified_pIC</th>\n",
       "      <th>Initial_mol</th>\n",
       "      <th>Modified_mol</th>\n",
       "      <th>Delta</th>\n",
       "    </tr>\n",
       "  </thead>\n",
       "  <tbody>\n",
       "    <tr>\n",
       "      <th>44</th>\n",
       "      <td>5.318462</td>\n",
       "      <td>6.462502</td>\n",
       "      <td>NC1(C(CCCc2ccc(Cl)cc2)NC(=O)N2CCCCC2)CCN(c2ncn...</td>\n",
       "      <td>CC1(C(Cc2ccc(Cl)cc2)C(=O)N2CCCCC2)CCN(c2ncnc3...</td>\n",
       "      <td>1.144041</td>\n",
       "    </tr>\n",
       "    <tr>\n",
       "      <th>57</th>\n",
       "      <td>6.816990</td>\n",
       "      <td>7.839016</td>\n",
       "      <td>CCc1c(N)ncnc1N1CCC(c2nc(-c3cc(F)ccc3F)cn2CCN2C...</td>\n",
       "      <td>CCc1c(N)ncnc1N1CCC(c2cc(-c3cc(F)ccc3OCCOCCF)c...</td>\n",
       "      <td>1.022026</td>\n",
       "    </tr>\n",
       "    <tr>\n",
       "      <th>100</th>\n",
       "      <td>5.859008</td>\n",
       "      <td>6.834826</td>\n",
       "      <td>NS(=O)(=O)c1ccc(-n2nc(C(F)(F)F)cc2-c2ccc(-c3cc...</td>\n",
       "      <td>CNc1cc(-c2ccc(-c3cc(CC(F)(F)F)nn3-c3ccc(NS(C)...</td>\n",
       "      <td>0.975818</td>\n",
       "    </tr>\n",
       "    <tr>\n",
       "      <th>42</th>\n",
       "      <td>5.318462</td>\n",
       "      <td>6.279792</td>\n",
       "      <td>NC1(C(CCCc2ccc(Cl)cc2)NC(=O)N2CCCCC2)CCN(c2ncn...</td>\n",
       "      <td>NC1(C(Cn2cc(Cl)c(=O)[nH]c2=O)C(=O)N2CCCCC2)CC...</td>\n",
       "      <td>0.961330</td>\n",
       "    </tr>\n",
       "    <tr>\n",
       "      <th>122</th>\n",
       "      <td>6.427504</td>\n",
       "      <td>7.342948</td>\n",
       "      <td>NC1(c2ccc(-c3ncc4cccnc4c3-c3ccccc3)cc2)CCC1</td>\n",
       "      <td>N[C@]1CC[C@H](c2ccc(-c3ncc4cccnc4c3-n3cccc3)c...</td>\n",
       "      <td>0.915445</td>\n",
       "    </tr>\n",
       "  </tbody>\n",
       "</table>\n",
       "</div>"
      ],
      "text/plain": [
       "     Initial_pIC  Modified_pIC  \\\n",
       "44      5.318462      6.462502   \n",
       "57      6.816990      7.839016   \n",
       "100     5.859008      6.834826   \n",
       "42      5.318462      6.279792   \n",
       "122     6.427504      7.342948   \n",
       "\n",
       "                                           Initial_mol  \\\n",
       "44   NC1(C(CCCc2ccc(Cl)cc2)NC(=O)N2CCCCC2)CCN(c2ncn...   \n",
       "57   CCc1c(N)ncnc1N1CCC(c2nc(-c3cc(F)ccc3F)cn2CCN2C...   \n",
       "100  NS(=O)(=O)c1ccc(-n2nc(C(F)(F)F)cc2-c2ccc(-c3cc...   \n",
       "42   NC1(C(CCCc2ccc(Cl)cc2)NC(=O)N2CCCCC2)CCN(c2ncn...   \n",
       "122       NC1(c2ccc(-c3ncc4cccnc4c3-c3ccccc3)cc2)CCC1    \n",
       "\n",
       "                                          Modified_mol     Delta  \n",
       "44    CC1(C(Cc2ccc(Cl)cc2)C(=O)N2CCCCC2)CCN(c2ncnc3...  1.144041  \n",
       "57    CCc1c(N)ncnc1N1CCC(c2cc(-c3cc(F)ccc3OCCOCCF)c...  1.022026  \n",
       "100   CNc1cc(-c2ccc(-c3cc(CC(F)(F)F)nn3-c3ccc(NS(C)...  0.975818  \n",
       "42    NC1(C(Cn2cc(Cl)c(=O)[nH]c2=O)C(=O)N2CCCCC2)CC...  0.961330  \n",
       "122   N[C@]1CC[C@H](c2ccc(-c3ncc4cccnc4c3-n3cccc3)c...  0.915445  "
      ]
     },
     "execution_count": 33,
     "metadata": {},
     "output_type": "execute_result"
    }
   ],
   "source": [
    "changes =  pd.DataFrame(np.transpose(np.asarray([ini,mod])),columns=['Initial_pIC','Modified_pIC'])\n",
    "changes['Initial_mol'] = df.iloc[:,0]\n",
    "changes['Modified_mol'] = df.iloc[:,1]\n",
    "changes['Delta'] = changes['Modified_pIC'] - changes['Initial_pIC']\n",
    "changes.sort_values(by='Delta',ascending=False,inplace=True)\n",
    "changes.head()"
   ]
  },
  {
   "cell_type": "code",
   "execution_count": 38,
   "metadata": {},
   "outputs": [
    {
     "name": "stdout",
     "output_type": "stream",
     "text": [
      "     Modified_pIC  Initial_pIC     Delta\n",
      "57       7.839016     6.816990  1.022026\n",
      "122      7.342948     6.427504  0.915445\n",
      "78       7.216615     6.389440  0.827175\n",
      "101      7.446696     6.626188  0.820508\n",
      "41       7.116280     6.387044  0.729235\n",
      "     Initial_pIC  Modified_pIC  \\\n",
      "44      5.318462      6.462502   \n",
      "57      6.816990      7.839016   \n",
      "100     5.859008      6.834826   \n",
      "42      5.318462      6.279792   \n",
      "122     6.427504      7.342948   \n",
      "\n",
      "                                           Initial_mol  \\\n",
      "44   NC1(C(CCCc2ccc(Cl)cc2)NC(=O)N2CCCCC2)CCN(c2ncn...   \n",
      "57   CCc1c(N)ncnc1N1CCC(c2nc(-c3cc(F)ccc3F)cn2CCN2C...   \n",
      "100  NS(=O)(=O)c1ccc(-n2nc(C(F)(F)F)cc2-c2ccc(-c3cc...   \n",
      "42   NC1(C(CCCc2ccc(Cl)cc2)NC(=O)N2CCCCC2)CCN(c2ncn...   \n",
      "122       NC1(c2ccc(-c3ncc4cccnc4c3-c3ccccc3)cc2)CCC1    \n",
      "\n",
      "                                          Modified_mol     Delta  \n",
      "44    CC1(C(Cc2ccc(Cl)cc2)C(=O)N2CCCCC2)CCN(c2ncnc3...  1.144041  \n",
      "57    CCc1c(N)ncnc1N1CCC(c2cc(-c3cc(F)ccc3OCCOCCF)c...  1.022026  \n",
      "100   CNc1cc(-c2ccc(-c3cc(CC(F)(F)F)nn3-c3ccc(NS(C)...  0.975818  \n",
      "42    NC1(C(Cn2cc(Cl)c(=O)[nH]c2=O)C(=O)N2CCCCC2)CC...  0.961330  \n",
      "122   N[C@]1CC[C@H](c2ccc(-c3ncc4cccnc4c3-n3cccc3)c...  0.915445  \n"
     ]
    },
    {
     "data": {
      "image/png": "[encoded data removed]",
      "text/plain": [
       "<Figure size 432x288 with 1 Axes>"
      ]
     },
     "metadata": {
      "needs_background": "light"
     },
     "output_type": "display_data"
    },
    {
     "name": "stdout",
     "output_type": "stream",
     "text": [
      "Sum of positive changes = 48.524362564086914\tNo. of +ves = 164\n",
      "Sum of negative changes = -43.44822072982788\tNo. of -ves = 147\n"
     ]
    }
   ],
   "source": [
    "inact_to_act = changes.loc[(changes['Modified_pIC']>7) & (changes['Initial_pIC']<7),['Modified_pIC','Initial_pIC','Delta']].sort_values(by='Delta',ascending=False)\n",
    "\n",
    "changes.to_csv('./past outputs/out_pIC299'+'.csv',index=False)\n",
    "inact_to_act.to_csv('./past outputs/act_pIC299'+'.csv',index=False)\n",
    "\n",
    "print(inact_to_act.head())\n",
    "print(changes.head())\n",
    "\n",
    "bins = np.linspace(4,10,14)\n",
    "#changes = changes.loc[changes.Delta>0]\n",
    "plt.hist(changes['Initial_pIC'], bins, alpha=0.5, label='initial',color='blue')\n",
    "plt.hist(changes['Modified_pIC'], bins, alpha=0.5, label='modified',color='green')\n",
    "plt.legend(loc='upper right')\n",
    "plt.show()\n",
    "\n",
    "sp = changes.loc[changes['Delta']>0].sum()['Delta']\n",
    "sn = changes.loc[changes['Delta']<0].sum()['Delta']\n",
    "cp = changes.loc[changes['Delta']>0].count()['Delta']\n",
    "cn = changes.loc[changes['Delta']<0].count()['Delta']\n",
    "print('Sum of positive changes = {}\\tNo. of +ves = {}\\nSum of negative changes = {}\\tNo. of -ves = {}'.format(sp,cp,sn,cn))"
   ]
  },
  {
   "cell_type": "code",
   "execution_count": 44,
   "metadata": {},
   "outputs": [
    {
     "data": {
      "text/html": [
       "<div>\n",
       "<style scoped>\n",
       "    .dataframe tbody tr th:only-of-type {\n",
       "        vertical-align: middle;\n",
       "    }\n",
       "\n",
       "    .dataframe tbody tr th {\n",
       "        vertical-align: top;\n",
       "    }\n",
       "\n",
       "    .dataframe thead th {\n",
       "        text-align: right;\n",
       "    }\n",
       "</style>\n",
       "<table border=\"1\" class=\"dataframe\">\n",
       "  <thead>\n",
       "    <tr style=\"text-align: right;\">\n",
       "      <th></th>\n",
       "      <th>Initial_pIC</th>\n",
       "      <th>Modified_pIC</th>\n",
       "      <th>Initial_mol</th>\n",
       "      <th>Modified_mol</th>\n",
       "      <th>Delta</th>\n",
       "    </tr>\n",
       "  </thead>\n",
       "  <tbody>\n",
       "    <tr>\n",
       "      <th>0</th>\n",
       "      <td>5.885226</td>\n",
       "      <td>7.241144</td>\n",
       "      <td>NC(=O)c1ccc(N2CCC(c3cccc(C(F)(F)F)c3)C(N)C2)c2...</td>\n",
       "      <td>NC(=O)c1ccc(-[n+]2ccccc2-c2cccc([C@@H]3CCN[C@...</td>\n",
       "      <td>1.355917</td>\n",
       "    </tr>\n",
       "    <tr>\n",
       "      <th>1</th>\n",
       "      <td>7.076267</td>\n",
       "      <td>8.241585</td>\n",
       "      <td>CC(C)Oc1c(N)ncnc1N1CCC(c2nc(-c3cc(F)ccc3Cl)cn2...</td>\n",
       "      <td>CC(C)Oc1c(N)ncnc1N1CCC(c2cc(-c3cc(N4CCOCC4)cc...</td>\n",
       "      <td>1.165318</td>\n",
       "    </tr>\n",
       "    <tr>\n",
       "      <th>2</th>\n",
       "      <td>6.435828</td>\n",
       "      <td>7.570012</td>\n",
       "      <td>Nc1ncnc(C2CCN(n3cc(CCNCCCCl)nc3-c3cc(C(F)(F)F)...</td>\n",
       "      <td>Nc1ncnc([C@H]2CCCN(c3ccc(-c4cnc(-c5cn6ccncc6n...</td>\n",
       "      <td>1.134183</td>\n",
       "    </tr>\n",
       "    <tr>\n",
       "      <th>3</th>\n",
       "      <td>6.250791</td>\n",
       "      <td>7.378653</td>\n",
       "      <td>C[C@H]1COC[C@@H](C)N1c1nc(-c2cc(C(F)F)ncc2N)nc...</td>\n",
       "      <td>C[C@H]1COC[C@@H](C)N1c1ccc(N2[C@@H](C#N)COC[C...</td>\n",
       "      <td>1.127862</td>\n",
       "    </tr>\n",
       "    <tr>\n",
       "      <th>4</th>\n",
       "      <td>6.157812</td>\n",
       "      <td>7.284212</td>\n",
       "      <td>CN1CCN(c2ccc(-c3cncc(-c4ccc(C(=O)NS(C)(=O)=O)c...</td>\n",
       "      <td>Cc1cc(-n2cc(CC(C)C)c(=O)[nH]c2=O)c(-c2ccc(C(=...</td>\n",
       "      <td>1.126400</td>\n",
       "    </tr>\n",
       "  </tbody>\n",
       "</table>\n",
       "</div>"
      ],
      "text/plain": [
       "   Initial_pIC  Modified_pIC  \\\n",
       "0     5.885226      7.241144   \n",
       "1     7.076267      8.241585   \n",
       "2     6.435828      7.570012   \n",
       "3     6.250791      7.378653   \n",
       "4     6.157812      7.284212   \n",
       "\n",
       "                                         Initial_mol  \\\n",
       "0  NC(=O)c1ccc(N2CCC(c3cccc(C(F)(F)F)c3)C(N)C2)c2...   \n",
       "1  CC(C)Oc1c(N)ncnc1N1CCC(c2nc(-c3cc(F)ccc3Cl)cn2...   \n",
       "2  Nc1ncnc(C2CCN(n3cc(CCNCCCCl)nc3-c3cc(C(F)(F)F)...   \n",
       "3  C[C@H]1COC[C@@H](C)N1c1nc(-c2cc(C(F)F)ncc2N)nc...   \n",
       "4  CN1CCN(c2ccc(-c3cncc(-c4ccc(C(=O)NS(C)(=O)=O)c...   \n",
       "\n",
       "                                        Modified_mol     Delta  \n",
       "0   NC(=O)c1ccc(-[n+]2ccccc2-c2cccc([C@@H]3CCN[C@...  1.355917  \n",
       "1   CC(C)Oc1c(N)ncnc1N1CCC(c2cc(-c3cc(N4CCOCC4)cc...  1.165318  \n",
       "2   Nc1ncnc([C@H]2CCCN(c3ccc(-c4cnc(-c5cn6ccncc6n...  1.134183  \n",
       "3   C[C@H]1COC[C@@H](C)N1c1ccc(N2[C@@H](C#N)COC[C...  1.127862  \n",
       "4   Cc1cc(-n2cc(CC(C)C)c(=O)[nH]c2=O)c(-c2ccc(C(=...  1.126400  "
      ]
     },
     "execution_count": 44,
     "metadata": {},
     "output_type": "execute_result"
    }
   ],
   "source": [
    "df = pd.read_csv(r'C:\\Users\\HP\\AZC_Internship\\DeepFMPO\\3.6\\past outputs\\out_pIC128.csv')\n",
    "df.head()"
   ]
  },
  {
   "cell_type": "code",
   "execution_count": 47,
   "metadata": {},
   "outputs": [
    {
     "data": {
      "text/html": [
       "<div>\n",
       "<style scoped>\n",
       "    .dataframe tbody tr th:only-of-type {\n",
       "        vertical-align: middle;\n",
       "    }\n",
       "\n",
       "    .dataframe tbody tr th {\n",
       "        vertical-align: top;\n",
       "    }\n",
       "\n",
       "    .dataframe thead th {\n",
       "        text-align: right;\n",
       "    }\n",
       "</style>\n",
       "<table border=\"1\" class=\"dataframe\">\n",
       "  <thead>\n",
       "    <tr style=\"text-align: right;\">\n",
       "      <th></th>\n",
       "      <th>Initial_pIC</th>\n",
       "      <th>Modified_pIC</th>\n",
       "      <th>Delta</th>\n",
       "    </tr>\n",
       "  </thead>\n",
       "  <tbody>\n",
       "    <tr>\n",
       "      <th>0</th>\n",
       "      <td>5.885226</td>\n",
       "      <td>7.241144</td>\n",
       "      <td>1.355917</td>\n",
       "    </tr>\n",
       "    <tr>\n",
       "      <th>1</th>\n",
       "      <td>7.076267</td>\n",
       "      <td>8.241585</td>\n",
       "      <td>1.165318</td>\n",
       "    </tr>\n",
       "    <tr>\n",
       "      <th>2</th>\n",
       "      <td>6.435828</td>\n",
       "      <td>7.570012</td>\n",
       "      <td>1.134183</td>\n",
       "    </tr>\n",
       "    <tr>\n",
       "      <th>3</th>\n",
       "      <td>6.250791</td>\n",
       "      <td>7.378653</td>\n",
       "      <td>1.127862</td>\n",
       "    </tr>\n",
       "    <tr>\n",
       "      <th>4</th>\n",
       "      <td>6.157812</td>\n",
       "      <td>7.284212</td>\n",
       "      <td>1.126400</td>\n",
       "    </tr>\n",
       "  </tbody>\n",
       "</table>\n",
       "</div>"
      ],
      "text/plain": [
       "   Initial_pIC  Modified_pIC     Delta\n",
       "0     5.885226      7.241144  1.355917\n",
       "1     7.076267      8.241585  1.165318\n",
       "2     6.435828      7.570012  1.134183\n",
       "3     6.250791      7.378653  1.127862\n",
       "4     6.157812      7.284212  1.126400"
      ]
     },
     "execution_count": 47,
     "metadata": {},
     "output_type": "execute_result"
    }
   ],
   "source": [
    "df[['Initial_pIC','Modified_pIC','Delta']].head()"
   ]
  },
  {
   "cell_type": "code",
   "execution_count": null,
   "metadata": {},
   "outputs": [],
   "source": []
  }
 ],
 "metadata": {
  "kernelspec": {
   "display_name": "Python 3",
   "language": "python",
   "name": "python3"
  },
  "language_info": {
   "codemirror_mode": {
    "name": "ipython",
    "version": 3
   },
   "file_extension": ".py",
   "mimetype": "text/x-python",
   "name": "python",
   "nbconvert_exporter": "python",
   "pygments_lexer": "ipython3",
   "version": "3.7.3"
  }
 },
 "nbformat": 4,
 "nbformat_minor": 2
}
